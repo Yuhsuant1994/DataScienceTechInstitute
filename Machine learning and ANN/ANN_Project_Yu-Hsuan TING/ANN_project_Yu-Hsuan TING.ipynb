{
 "cells": [
  {
   "cell_type": "markdown",
   "metadata": {},
   "source": [
    "Supervised learning for classification\n",
    "\n",
    "\n",
    "\n",
    "Here I introduce a dataset “Churn_Modeling.csv” from Kaggle “Bank Customer Churn Modeling” (https://www.kaggle.com/barelydedicated/bank-customer-churn-modeling). Since I am sure that I am predicting a category “Exited” and “Stay” with value 1 and 0 in the exited column, it is a supervised learning for classification problem.\n",
    "\n",
    "This file is the related code according to the final report\n",
    "\n",
    "**Table of content:**\n",
    "\n",
    "\n",
    "# 1. Introduction\n",
    "\n",
    "## 1.1 Performance Criteria\n",
    "\n",
    "library to be used:"
   ]
  },
  {
   "cell_type": "code",
   "execution_count": 1,
   "metadata": {},
   "outputs": [],
   "source": [
    "import numpy as np\n",
    "import scipy as sp\n",
    "import matplotlib.pyplot as plt\n",
    "import pandas as pd\n",
    "import statistics as st\n",
    "import seaborn as sns"
   ]
  },
  {
   "cell_type": "markdown",
   "metadata": {},
   "source": [
    "Performance model from confusion matrix: [relavent resource](\n",
    "https://www.geeksforgeeks.org/confusion-matrix-machine-learning/)\n",
    "\n",
    "*Note that here the acc_rate should be the same as modelfit.score*"
   ]
  },
  {
   "cell_type": "code",
   "execution_count": 2,
   "metadata": {},
   "outputs": [],
   "source": [
    "from sklearn.metrics import confusion_matrix \n",
    "def acc_recall_precision_rate(ypredict, true_y):\n",
    "    cm=confusion_matrix(true_y,ypredict)\n",
    "    acc_rate,recall_rate,precision_rate=0,0,0    \n",
    "    if cm[1][1]/(cm[1][0]+cm[1][1])>0:      \n",
    "        recall_rate=cm[1][1]/(cm[1][0]+cm[1][1])\n",
    "    if (cm[1][1]+cm[0][0])/(cm[1][1]+cm[1][0]+cm[0][0]+cm[0][1])>0:\n",
    "        acc_rate=(cm[1][1]+cm[0][0])/(cm[1][1]+cm[1][0]+cm[0][0]+cm[0][1])\n",
    "    if cm[1][1]/(cm[0][1]+cm[1][1])>0:\n",
    "        precision_rate=cm[1][1]/(cm[0][1]+cm[1][1]) \n",
    "    return acc_rate, recall_rate, precision_rate\n",
    "\n",
    "#can do a doubel check with the score"
   ]
  },
  {
   "cell_type": "code",
   "execution_count": 3,
   "metadata": {},
   "outputs": [],
   "source": [
    "# def acc_recall_precision_rate(ypredict, true_y):\n",
    "#     cm=confusion_matrix(true_y,ypredict)  \n",
    "#     try:  \n",
    "#         recall_rate=cm[1][1]/(cm[1][0]+cm[1][1])\n",
    "#     except Exception:\n",
    "#         recall_rate=0\n",
    "#     try:\n",
    "#         acc_rate=(cm[1][1]+cm[0][0])/(cm[1][1]+cm[1][0]+cm[0][0]+cm[0][1])\n",
    "#     except:\n",
    "#         acc_rate=0\n",
    "#     try:\n",
    "#         precision_rate=cm[1][1]/(cm[0][1]+cm[1][1])\n",
    "#     except:\n",
    "#         precision_rate=0\n",
    " \n",
    "#     return acc_rate, recall_rate, precision_rate"
   ]
  },
  {
   "cell_type": "markdown",
   "metadata": {},
   "source": [
    "# 2. DataSet information"
   ]
  },
  {
   "cell_type": "code",
   "execution_count": 4,
   "metadata": {},
   "outputs": [],
   "source": [
    "df_or=pd.read_csv('Churn_Modelling.csv')"
   ]
  },
  {
   "cell_type": "code",
   "execution_count": 5,
   "metadata": {},
   "outputs": [],
   "source": [
    "df_or=df_or.drop(['RowNumber','CustomerId','Surname'],axis=1)"
   ]
  },
  {
   "cell_type": "code",
   "execution_count": 6,
   "metadata": {},
   "outputs": [
    {
     "name": "stdout",
     "output_type": "stream",
     "text": [
      "(10000, 11)\n"
     ]
    },
    {
     "data": {
      "text/html": [
       "<div>\n",
       "<style scoped>\n",
       "    .dataframe tbody tr th:only-of-type {\n",
       "        vertical-align: middle;\n",
       "    }\n",
       "\n",
       "    .dataframe tbody tr th {\n",
       "        vertical-align: top;\n",
       "    }\n",
       "\n",
       "    .dataframe thead th {\n",
       "        text-align: right;\n",
       "    }\n",
       "</style>\n",
       "<table border=\"1\" class=\"dataframe\">\n",
       "  <thead>\n",
       "    <tr style=\"text-align: right;\">\n",
       "      <th></th>\n",
       "      <th>CreditScore</th>\n",
       "      <th>Geography</th>\n",
       "      <th>Gender</th>\n",
       "      <th>Age</th>\n",
       "      <th>Tenure</th>\n",
       "      <th>Balance</th>\n",
       "      <th>NumOfProducts</th>\n",
       "      <th>HasCrCard</th>\n",
       "      <th>IsActiveMember</th>\n",
       "      <th>EstimatedSalary</th>\n",
       "      <th>Exited</th>\n",
       "    </tr>\n",
       "  </thead>\n",
       "  <tbody>\n",
       "    <tr>\n",
       "      <th>0</th>\n",
       "      <td>619</td>\n",
       "      <td>France</td>\n",
       "      <td>Female</td>\n",
       "      <td>42</td>\n",
       "      <td>2</td>\n",
       "      <td>0.00</td>\n",
       "      <td>1</td>\n",
       "      <td>1</td>\n",
       "      <td>1</td>\n",
       "      <td>101348.88</td>\n",
       "      <td>1</td>\n",
       "    </tr>\n",
       "    <tr>\n",
       "      <th>1</th>\n",
       "      <td>608</td>\n",
       "      <td>Spain</td>\n",
       "      <td>Female</td>\n",
       "      <td>41</td>\n",
       "      <td>1</td>\n",
       "      <td>83807.86</td>\n",
       "      <td>1</td>\n",
       "      <td>0</td>\n",
       "      <td>1</td>\n",
       "      <td>112542.58</td>\n",
       "      <td>0</td>\n",
       "    </tr>\n",
       "    <tr>\n",
       "      <th>2</th>\n",
       "      <td>502</td>\n",
       "      <td>France</td>\n",
       "      <td>Female</td>\n",
       "      <td>42</td>\n",
       "      <td>8</td>\n",
       "      <td>159660.80</td>\n",
       "      <td>3</td>\n",
       "      <td>1</td>\n",
       "      <td>0</td>\n",
       "      <td>113931.57</td>\n",
       "      <td>1</td>\n",
       "    </tr>\n",
       "    <tr>\n",
       "      <th>3</th>\n",
       "      <td>699</td>\n",
       "      <td>France</td>\n",
       "      <td>Female</td>\n",
       "      <td>39</td>\n",
       "      <td>1</td>\n",
       "      <td>0.00</td>\n",
       "      <td>2</td>\n",
       "      <td>0</td>\n",
       "      <td>0</td>\n",
       "      <td>93826.63</td>\n",
       "      <td>0</td>\n",
       "    </tr>\n",
       "    <tr>\n",
       "      <th>4</th>\n",
       "      <td>850</td>\n",
       "      <td>Spain</td>\n",
       "      <td>Female</td>\n",
       "      <td>43</td>\n",
       "      <td>2</td>\n",
       "      <td>125510.82</td>\n",
       "      <td>1</td>\n",
       "      <td>1</td>\n",
       "      <td>1</td>\n",
       "      <td>79084.10</td>\n",
       "      <td>0</td>\n",
       "    </tr>\n",
       "  </tbody>\n",
       "</table>\n",
       "</div>"
      ],
      "text/plain": [
       "   CreditScore Geography  Gender  Age  Tenure    Balance  NumOfProducts  \\\n",
       "0          619    France  Female   42       2       0.00              1   \n",
       "1          608     Spain  Female   41       1   83807.86              1   \n",
       "2          502    France  Female   42       8  159660.80              3   \n",
       "3          699    France  Female   39       1       0.00              2   \n",
       "4          850     Spain  Female   43       2  125510.82              1   \n",
       "\n",
       "   HasCrCard  IsActiveMember  EstimatedSalary  Exited  \n",
       "0          1               1        101348.88       1  \n",
       "1          0               1        112542.58       0  \n",
       "2          1               0        113931.57       1  \n",
       "3          0               0         93826.63       0  \n",
       "4          1               1         79084.10       0  "
      ]
     },
     "execution_count": 6,
     "metadata": {},
     "output_type": "execute_result"
    }
   ],
   "source": [
    "print(df_or.shape)\n",
    "df_or.head()"
   ]
  },
  {
   "cell_type": "code",
   "execution_count": 7,
   "metadata": {},
   "outputs": [
    {
     "name": "stdout",
     "output_type": "stream",
     "text": [
      "CreditScore\n",
      "Geography ['France' 'Spain' 'Germany']\n",
      "Gender ['Female' 'Male']\n",
      "Age\n",
      "Tenure [ 2  1  8  7  4  6  3 10  5  9  0]\n",
      "Balance\n",
      "NumOfProducts [1 3 2 4]\n",
      "HasCrCard [1 0]\n",
      "IsActiveMember [1 0]\n",
      "EstimatedSalary\n",
      "Exited [1 0]\n"
     ]
    }
   ],
   "source": [
    "#print all the columns\n",
    "# for col in df.columns:\n",
    "#     print(col)\n",
    "for col in df_or:\n",
    "    if len(df_or[col].unique()) <20:\n",
    "        print(col+\" \"+str(df_or[col].unique()))\n",
    "\n",
    "    else:\n",
    "        print(col)\n"
   ]
  },
  {
   "cell_type": "code",
   "execution_count": 8,
   "metadata": {},
   "outputs": [
    {
     "name": "stdout",
     "output_type": "stream",
     "text": [
      "CreditScore          int64\n",
      "Geography           object\n",
      "Gender              object\n",
      "Age                  int64\n",
      "Tenure               int64\n",
      "Balance            float64\n",
      "NumOfProducts        int64\n",
      "HasCrCard            int64\n",
      "IsActiveMember       int64\n",
      "EstimatedSalary    float64\n",
      "Exited               int64\n",
      "dtype: object\n"
     ]
    },
    {
     "data": {
      "text/html": [
       "<div>\n",
       "<style scoped>\n",
       "    .dataframe tbody tr th:only-of-type {\n",
       "        vertical-align: middle;\n",
       "    }\n",
       "\n",
       "    .dataframe tbody tr th {\n",
       "        vertical-align: top;\n",
       "    }\n",
       "\n",
       "    .dataframe thead th {\n",
       "        text-align: right;\n",
       "    }\n",
       "</style>\n",
       "<table border=\"1\" class=\"dataframe\">\n",
       "  <thead>\n",
       "    <tr style=\"text-align: right;\">\n",
       "      <th></th>\n",
       "      <th>CreditScore</th>\n",
       "      <th>Age</th>\n",
       "      <th>Tenure</th>\n",
       "      <th>Balance</th>\n",
       "      <th>NumOfProducts</th>\n",
       "      <th>HasCrCard</th>\n",
       "      <th>IsActiveMember</th>\n",
       "      <th>EstimatedSalary</th>\n",
       "      <th>Exited</th>\n",
       "    </tr>\n",
       "  </thead>\n",
       "  <tbody>\n",
       "    <tr>\n",
       "      <th>count</th>\n",
       "      <td>10000.000000</td>\n",
       "      <td>10000.000000</td>\n",
       "      <td>10000.000000</td>\n",
       "      <td>10000.000000</td>\n",
       "      <td>10000.000000</td>\n",
       "      <td>10000.00000</td>\n",
       "      <td>10000.000000</td>\n",
       "      <td>10000.000000</td>\n",
       "      <td>10000.000000</td>\n",
       "    </tr>\n",
       "    <tr>\n",
       "      <th>mean</th>\n",
       "      <td>650.528800</td>\n",
       "      <td>38.921800</td>\n",
       "      <td>5.012800</td>\n",
       "      <td>76485.889288</td>\n",
       "      <td>1.530200</td>\n",
       "      <td>0.70550</td>\n",
       "      <td>0.515100</td>\n",
       "      <td>100090.239881</td>\n",
       "      <td>0.203700</td>\n",
       "    </tr>\n",
       "    <tr>\n",
       "      <th>std</th>\n",
       "      <td>96.653299</td>\n",
       "      <td>10.487806</td>\n",
       "      <td>2.892174</td>\n",
       "      <td>62397.405202</td>\n",
       "      <td>0.581654</td>\n",
       "      <td>0.45584</td>\n",
       "      <td>0.499797</td>\n",
       "      <td>57510.492818</td>\n",
       "      <td>0.402769</td>\n",
       "    </tr>\n",
       "    <tr>\n",
       "      <th>min</th>\n",
       "      <td>350.000000</td>\n",
       "      <td>18.000000</td>\n",
       "      <td>0.000000</td>\n",
       "      <td>0.000000</td>\n",
       "      <td>1.000000</td>\n",
       "      <td>0.00000</td>\n",
       "      <td>0.000000</td>\n",
       "      <td>11.580000</td>\n",
       "      <td>0.000000</td>\n",
       "    </tr>\n",
       "    <tr>\n",
       "      <th>25%</th>\n",
       "      <td>584.000000</td>\n",
       "      <td>32.000000</td>\n",
       "      <td>3.000000</td>\n",
       "      <td>0.000000</td>\n",
       "      <td>1.000000</td>\n",
       "      <td>0.00000</td>\n",
       "      <td>0.000000</td>\n",
       "      <td>51002.110000</td>\n",
       "      <td>0.000000</td>\n",
       "    </tr>\n",
       "    <tr>\n",
       "      <th>50%</th>\n",
       "      <td>652.000000</td>\n",
       "      <td>37.000000</td>\n",
       "      <td>5.000000</td>\n",
       "      <td>97198.540000</td>\n",
       "      <td>1.000000</td>\n",
       "      <td>1.00000</td>\n",
       "      <td>1.000000</td>\n",
       "      <td>100193.915000</td>\n",
       "      <td>0.000000</td>\n",
       "    </tr>\n",
       "    <tr>\n",
       "      <th>75%</th>\n",
       "      <td>718.000000</td>\n",
       "      <td>44.000000</td>\n",
       "      <td>7.000000</td>\n",
       "      <td>127644.240000</td>\n",
       "      <td>2.000000</td>\n",
       "      <td>1.00000</td>\n",
       "      <td>1.000000</td>\n",
       "      <td>149388.247500</td>\n",
       "      <td>0.000000</td>\n",
       "    </tr>\n",
       "    <tr>\n",
       "      <th>max</th>\n",
       "      <td>850.000000</td>\n",
       "      <td>92.000000</td>\n",
       "      <td>10.000000</td>\n",
       "      <td>250898.090000</td>\n",
       "      <td>4.000000</td>\n",
       "      <td>1.00000</td>\n",
       "      <td>1.000000</td>\n",
       "      <td>199992.480000</td>\n",
       "      <td>1.000000</td>\n",
       "    </tr>\n",
       "  </tbody>\n",
       "</table>\n",
       "</div>"
      ],
      "text/plain": [
       "        CreditScore           Age        Tenure        Balance  NumOfProducts  \\\n",
       "count  10000.000000  10000.000000  10000.000000   10000.000000   10000.000000   \n",
       "mean     650.528800     38.921800      5.012800   76485.889288       1.530200   \n",
       "std       96.653299     10.487806      2.892174   62397.405202       0.581654   \n",
       "min      350.000000     18.000000      0.000000       0.000000       1.000000   \n",
       "25%      584.000000     32.000000      3.000000       0.000000       1.000000   \n",
       "50%      652.000000     37.000000      5.000000   97198.540000       1.000000   \n",
       "75%      718.000000     44.000000      7.000000  127644.240000       2.000000   \n",
       "max      850.000000     92.000000     10.000000  250898.090000       4.000000   \n",
       "\n",
       "         HasCrCard  IsActiveMember  EstimatedSalary        Exited  \n",
       "count  10000.00000    10000.000000     10000.000000  10000.000000  \n",
       "mean       0.70550        0.515100    100090.239881      0.203700  \n",
       "std        0.45584        0.499797     57510.492818      0.402769  \n",
       "min        0.00000        0.000000        11.580000      0.000000  \n",
       "25%        0.00000        0.000000     51002.110000      0.000000  \n",
       "50%        1.00000        1.000000    100193.915000      0.000000  \n",
       "75%        1.00000        1.000000    149388.247500      0.000000  \n",
       "max        1.00000        1.000000    199992.480000      1.000000  "
      ]
     },
     "execution_count": 8,
     "metadata": {},
     "output_type": "execute_result"
    }
   ],
   "source": [
    "#describe data\n",
    "print(df_or.dtypes)\n",
    "df_or.describe()"
   ]
  },
  {
   "cell_type": "code",
   "execution_count": 9,
   "metadata": {},
   "outputs": [
    {
     "name": "stdout",
     "output_type": "stream",
     "text": [
      "0    7963\n",
      "1    2037\n",
      "Name: Exited, dtype: int64\n"
     ]
    }
   ],
   "source": [
    "#Imbalanced data\n",
    "print(df_or[\"Exited\"].value_counts())"
   ]
  },
  {
   "cell_type": "markdown",
   "metadata": {},
   "source": [
    "## 2.1. colums info"
   ]
  },
  {
   "cell_type": "code",
   "execution_count": 10,
   "metadata": {},
   "outputs": [
    {
     "name": "stdout",
     "output_type": "stream",
     "text": [
      "col_0      percentage\n",
      "Geography            \n",
      "France          50.14\n",
      "Germany         25.09\n",
      "Spain           24.77\n",
      "col_0   percentage\n",
      "Gender            \n",
      "Female       45.43\n",
      "Male         54.57\n",
      "col_0   percentage\n",
      "Tenure            \n",
      "0             4.13\n",
      "1            10.35\n",
      "2            10.48\n",
      "3            10.09\n",
      "4             9.89\n",
      "5            10.12\n",
      "6             9.67\n",
      "7            10.28\n",
      "8            10.25\n",
      "9             9.84\n",
      "10            4.90\n",
      "col_0          percentage\n",
      "NumOfProducts            \n",
      "1                   50.84\n",
      "2                   45.90\n",
      "3                    2.66\n",
      "4                    0.60\n",
      "col_0      percentage\n",
      "HasCrCard            \n",
      "0               29.45\n",
      "1               70.55\n",
      "col_0           percentage\n",
      "IsActiveMember            \n",
      "0                    48.49\n",
      "1                    51.51\n",
      "col_0   percentage\n",
      "Exited            \n",
      "0            79.63\n",
      "1            20.37\n"
     ]
    },
    {
     "data": {
      "image/png": "[encoded data removed]",
      "text/plain": [
       "<Figure size 432x288 with 4 Axes>"
      ]
     },
     "metadata": {},
     "output_type": "display_data"
    }
   ],
   "source": [
    "#percentage and distribution of the data\n",
    "\n",
    "for col in df_or:\n",
    "    if len(df_or[col].unique()) <20:\n",
    "        print(pd.crosstab(df_or[col],\"percentage\")/100)\n",
    "r=1        \n",
    "for col in df_or:\n",
    "    if len(df_or[col].unique()) >20:\n",
    "        plt.subplot(2,2,r)\n",
    "        plt.subplots_adjust(hspace=.7,wspace=.25)\n",
    "        plt.hist(df_or[col])\n",
    "        plt.title(col)\n",
    "        r+=1"
   ]
  },
  {
   "cell_type": "markdown",
   "metadata": {},
   "source": [
    "## 2.2. columns comparison\n",
    "\n",
    "the average of the exited clients: let's look more into detail\n",
    "* older \n",
    "* less an active member\n",
    "* higher in estimated salary\n",
    "\n",
    "There are many outliers in age, but the medium, and 1,3rd quantile are still relatively higher then not exited, that we can still stay generally people who exited are older.\n",
    "\n",
    "on the other hand for the extimated salary, on the boxplot we cannot really say it is related to the exited factors\n",
    "\n",
    "People from Germany might be more likely to leave, you have 3 or 4 products are most likely to exit"
   ]
  },
  {
   "cell_type": "code",
   "execution_count": 11,
   "metadata": {},
   "outputs": [
    {
     "data": {
      "text/html": [
       "<div>\n",
       "<style scoped>\n",
       "    .dataframe tbody tr th:only-of-type {\n",
       "        vertical-align: middle;\n",
       "    }\n",
       "\n",
       "    .dataframe tbody tr th {\n",
       "        vertical-align: top;\n",
       "    }\n",
       "\n",
       "    .dataframe thead th {\n",
       "        text-align: right;\n",
       "    }\n",
       "</style>\n",
       "<table border=\"1\" class=\"dataframe\">\n",
       "  <thead>\n",
       "    <tr style=\"text-align: right;\">\n",
       "      <th></th>\n",
       "      <th>CreditScore</th>\n",
       "      <th>Age</th>\n",
       "      <th>Tenure</th>\n",
       "      <th>Balance</th>\n",
       "      <th>NumOfProducts</th>\n",
       "      <th>HasCrCard</th>\n",
       "      <th>IsActiveMember</th>\n",
       "      <th>EstimatedSalary</th>\n",
       "    </tr>\n",
       "    <tr>\n",
       "      <th>Exited</th>\n",
       "      <th></th>\n",
       "      <th></th>\n",
       "      <th></th>\n",
       "      <th></th>\n",
       "      <th></th>\n",
       "      <th></th>\n",
       "      <th></th>\n",
       "      <th></th>\n",
       "    </tr>\n",
       "  </thead>\n",
       "  <tbody>\n",
       "    <tr>\n",
       "      <th>0</th>\n",
       "      <td>651.853196</td>\n",
       "      <td>37.408389</td>\n",
       "      <td>5.033279</td>\n",
       "      <td>72745.296779</td>\n",
       "      <td>1.544267</td>\n",
       "      <td>0.707146</td>\n",
       "      <td>0.554565</td>\n",
       "      <td>99738.391772</td>\n",
       "    </tr>\n",
       "    <tr>\n",
       "      <th>1</th>\n",
       "      <td>645.351497</td>\n",
       "      <td>44.837997</td>\n",
       "      <td>4.932744</td>\n",
       "      <td>91108.539337</td>\n",
       "      <td>1.475209</td>\n",
       "      <td>0.699067</td>\n",
       "      <td>0.360825</td>\n",
       "      <td>101465.677531</td>\n",
       "    </tr>\n",
       "  </tbody>\n",
       "</table>\n",
       "</div>"
      ],
      "text/plain": [
       "        CreditScore        Age    Tenure       Balance  NumOfProducts  \\\n",
       "Exited                                                                  \n",
       "0        651.853196  37.408389  5.033279  72745.296779       1.544267   \n",
       "1        645.351497  44.837997  4.932744  91108.539337       1.475209   \n",
       "\n",
       "        HasCrCard  IsActiveMember  EstimatedSalary  \n",
       "Exited                                              \n",
       "0        0.707146        0.554565     99738.391772  \n",
       "1        0.699067        0.360825    101465.677531  "
      ]
     },
     "execution_count": 11,
     "metadata": {},
     "output_type": "execute_result"
    }
   ],
   "source": [
    "#all the data compare to exited\n",
    "df_or.groupby(['Exited']).mean()"
   ]
  },
  {
   "cell_type": "code",
   "execution_count": 12,
   "metadata": {},
   "outputs": [
    {
     "data": {
      "image/png": "[encoded data removed]",
      "text/plain": [
       "<Figure size 432x288 with 4 Axes>"
      ]
     },
     "metadata": {},
     "output_type": "display_data"
    }
   ],
   "source": [
    "#plot relationship with numerical\n",
    "r=1\n",
    "for col in df_or:\n",
    "    if len(df_or[col].unique()) >20:\n",
    "        plt.subplot(2,2,r)\n",
    "        sns.boxplot(x='Exited',y=col,data=df_or)\n",
    "        r+=1"
   ]
  },
  {
   "cell_type": "code",
   "execution_count": 13,
   "metadata": {},
   "outputs": [
    {
     "name": "stdout",
     "output_type": "stream",
     "text": [
      "Geography     France    Germany      Spain\n",
      "Exited                                    \n",
      "0          83.845233  67.556796  83.326605\n",
      "1          16.154767  32.443204  16.673395\n",
      "Gender     Female       Male\n",
      "Exited                      \n",
      "0       74.928461  83.544072\n",
      "1       25.071539  16.455928\n",
      "Tenure         0          1          2         3          4          5   \\\n",
      "Exited                                                                    \n",
      "0       76.997579  77.584541  80.820611  78.88999  79.474216  79.347826   \n",
      "1       23.002421  22.415459  19.179389  21.11001  20.525784  20.652174   \n",
      "\n",
      "Tenure         6          7          8          9          10  \n",
      "Exited                                                         \n",
      "0       79.731127  82.782101  80.780488  78.353659  79.387755  \n",
      "1       20.268873  17.217899  19.219512  21.646341  20.612245  \n",
      "NumOfProducts          1          2          3      4\n",
      "Exited                                               \n",
      "0              72.285602  92.418301  17.293233    0.0\n",
      "1              27.714398   7.581699  82.706767  100.0\n",
      "HasCrCard          0          1\n",
      "Exited                         \n",
      "0          79.185059  79.815734\n",
      "1          20.814941  20.184266\n",
      "IsActiveMember          0          1\n",
      "Exited                              \n",
      "0               73.149103  85.730926\n",
      "1               26.850897  14.269074\n",
      "Exited      0      1\n",
      "Exited              \n",
      "0       100.0    0.0\n",
      "1         0.0  100.0\n"
     ]
    }
   ],
   "source": [
    "#plot categorical percentage\n",
    "for col in df_or:\n",
    "    if len(df_or[col].unique()) <20:\n",
    "        print(pd.crosstab(df_or['Exited'],df_or[col]).apply(lambda x: x/x.sum()*100))\n",
    "#c_count=df.groupby(\"Geography\")[\"Exited\"].value_counts()"
   ]
  },
  {
   "cell_type": "markdown",
   "metadata": {},
   "source": [
    "# 3.Preprocessing\n",
    "## 3.1. Grouping the data\n",
    "\n",
    "For Tenue and NumOfProducts"
   ]
  },
  {
   "cell_type": "code",
   "execution_count": 14,
   "metadata": {},
   "outputs": [],
   "source": [
    "#copy the transform data from original\n",
    "df_group=df_or.copy()\n",
    "df_non_group=df_or.copy()"
   ]
  },
  {
   "cell_type": "code",
   "execution_count": 15,
   "metadata": {},
   "outputs": [
    {
     "name": "stdout",
     "output_type": "stream",
     "text": [
      "before grouping\n",
      "col_0   percentage\n",
      "Tenure            \n",
      "0           0.0413\n",
      "1           0.1035\n",
      "2           0.1048\n",
      "3           0.1009\n",
      "4           0.0989\n",
      "5           0.1012\n",
      "6           0.0967\n",
      "7           0.1028\n",
      "8           0.1025\n",
      "9           0.0984\n",
      "10          0.0490\n",
      "col_0          percentage\n",
      "NumOfProducts            \n",
      "1                  0.5084\n",
      "2                  0.4590\n",
      "3                  0.0266\n",
      "4                  0.0060\n"
     ]
    }
   ],
   "source": [
    "print(\"before grouping\")\n",
    "#make sure we transform it right\n",
    "print(pd.crosstab(df_group['Tenure'],\"percentage\")/10000)\n",
    "print(pd.crosstab(df_group['NumOfProducts'],\"percentage\")/10000)"
   ]
  },
  {
   "cell_type": "code",
   "execution_count": 16,
   "metadata": {},
   "outputs": [
    {
     "name": "stdout",
     "output_type": "stream",
     "text": [
      "['T2 Class' 'T1 Class' 'T4 Class' 'T3 Class']\n",
      "['1OneProduct' '3More products' '2TwoProduct']\n"
     ]
    }
   ],
   "source": [
    "#Tenure\n",
    "Tenure=list(df_group['Tenure'])\n",
    "for i in range(len(Tenure)):\n",
    "    if Tenure[i] in (0,1):\n",
    "        Tenure[i]=\"T1 Class\"\n",
    "    elif Tenure[i] in (2,3,4):\n",
    "        Tenure[i]=\"T2 Class\"\n",
    "    elif Tenure[i] in (5,6,7):\n",
    "        Tenure[i]=\"T3 Class\"\n",
    "    else:\n",
    "        Tenure[i]=\"T4 Class\"\n",
    "\n",
    "df_group['Tenure']=Tenure\n",
    "print(df_group['Tenure'].unique())\n",
    "\n",
    "#NumOfProducts\n",
    "NumOfProducts=list(df_group['NumOfProducts'])\n",
    "for i in range(len(NumOfProducts)):\n",
    "    if NumOfProducts[i] in (3,4):\n",
    "        NumOfProducts[i]=\"3More products\"\n",
    "    elif NumOfProducts[i]==1:\n",
    "        NumOfProducts[i]=\"1OneProduct\"\n",
    "    elif NumOfProducts[i]==2:\n",
    "        NumOfProducts[i]=\"2TwoProduct\"\n",
    "df_group['NumOfProducts']=NumOfProducts\n",
    "print(df_group['NumOfProducts'].unique())"
   ]
  },
  {
   "cell_type": "code",
   "execution_count": 17,
   "metadata": {},
   "outputs": [
    {
     "name": "stdout",
     "output_type": "stream",
     "text": [
      "aftergrouping\n",
      "col_0     percentage\n",
      "Tenure              \n",
      "T1 Class      0.1448\n",
      "T2 Class      0.3046\n",
      "T3 Class      0.3007\n",
      "T4 Class      0.2499\n",
      "col_0           percentage\n",
      "NumOfProducts             \n",
      "1OneProduct         0.5084\n",
      "2TwoProduct         0.4590\n",
      "3More products      0.0326\n"
     ]
    }
   ],
   "source": [
    "print(\"aftergrouping\")\n",
    "print(pd.crosstab(df_group['Tenure'],\"percentage\")/10000)\n",
    "print(pd.crosstab(df_group['NumOfProducts'],\"percentage\")/10000)"
   ]
  },
  {
   "cell_type": "markdown",
   "metadata": {},
   "source": [
    "## 3.2 Data encoding for group and non-group data"
   ]
  },
  {
   "cell_type": "code",
   "execution_count": 18,
   "metadata": {},
   "outputs": [],
   "source": [
    "#encoding\n",
    "from sklearn.preprocessing import LabelEncoder\n",
    "#spliting\n",
    "from sklearn.model_selection import train_test_split"
   ]
  },
  {
   "cell_type": "markdown",
   "metadata": {},
   "source": [
    "### onehot\n",
    "#### For group data:"
   ]
  },
  {
   "cell_type": "code",
   "execution_count": 19,
   "metadata": {},
   "outputs": [],
   "source": [
    "#for group data\n",
    "gendummy=pd.get_dummies(df_group[\"Gender\"])\n",
    "geodummy=pd.get_dummies(df_group[\"Geography\"])\n",
    "tenuredummy=pd.get_dummies(df_group[\"Tenure\"])\n",
    "productdummy=pd.get_dummies(df_group[\"NumOfProducts\"])"
   ]
  },
  {
   "cell_type": "code",
   "execution_count": 20,
   "metadata": {},
   "outputs": [
    {
     "data": {
      "text/html": [
       "<div>\n",
       "<style scoped>\n",
       "    .dataframe tbody tr th:only-of-type {\n",
       "        vertical-align: middle;\n",
       "    }\n",
       "\n",
       "    .dataframe tbody tr th {\n",
       "        vertical-align: top;\n",
       "    }\n",
       "\n",
       "    .dataframe thead th {\n",
       "        text-align: right;\n",
       "    }\n",
       "</style>\n",
       "<table border=\"1\" class=\"dataframe\">\n",
       "  <thead>\n",
       "    <tr style=\"text-align: right;\">\n",
       "      <th></th>\n",
       "      <th>CreditScore</th>\n",
       "      <th>Age</th>\n",
       "      <th>Balance</th>\n",
       "      <th>HasCrCard</th>\n",
       "      <th>IsActiveMember</th>\n",
       "      <th>EstimatedSalary</th>\n",
       "      <th>Exited</th>\n",
       "      <th>Male</th>\n",
       "      <th>France</th>\n",
       "      <th>Germany</th>\n",
       "      <th>Spain</th>\n",
       "      <th>T1 Class</th>\n",
       "      <th>T2 Class</th>\n",
       "      <th>T3 Class</th>\n",
       "      <th>T4 Class</th>\n",
       "      <th>1OneProduct</th>\n",
       "      <th>2TwoProduct</th>\n",
       "      <th>3More products</th>\n",
       "    </tr>\n",
       "  </thead>\n",
       "  <tbody>\n",
       "    <tr>\n",
       "      <th>0</th>\n",
       "      <td>619</td>\n",
       "      <td>42</td>\n",
       "      <td>0.00</td>\n",
       "      <td>1</td>\n",
       "      <td>1</td>\n",
       "      <td>101348.88</td>\n",
       "      <td>1</td>\n",
       "      <td>0</td>\n",
       "      <td>1</td>\n",
       "      <td>0</td>\n",
       "      <td>0</td>\n",
       "      <td>0</td>\n",
       "      <td>1</td>\n",
       "      <td>0</td>\n",
       "      <td>0</td>\n",
       "      <td>1</td>\n",
       "      <td>0</td>\n",
       "      <td>0</td>\n",
       "    </tr>\n",
       "    <tr>\n",
       "      <th>1</th>\n",
       "      <td>608</td>\n",
       "      <td>41</td>\n",
       "      <td>83807.86</td>\n",
       "      <td>0</td>\n",
       "      <td>1</td>\n",
       "      <td>112542.58</td>\n",
       "      <td>0</td>\n",
       "      <td>0</td>\n",
       "      <td>0</td>\n",
       "      <td>0</td>\n",
       "      <td>1</td>\n",
       "      <td>1</td>\n",
       "      <td>0</td>\n",
       "      <td>0</td>\n",
       "      <td>0</td>\n",
       "      <td>1</td>\n",
       "      <td>0</td>\n",
       "      <td>0</td>\n",
       "    </tr>\n",
       "    <tr>\n",
       "      <th>2</th>\n",
       "      <td>502</td>\n",
       "      <td>42</td>\n",
       "      <td>159660.80</td>\n",
       "      <td>1</td>\n",
       "      <td>0</td>\n",
       "      <td>113931.57</td>\n",
       "      <td>1</td>\n",
       "      <td>0</td>\n",
       "      <td>1</td>\n",
       "      <td>0</td>\n",
       "      <td>0</td>\n",
       "      <td>0</td>\n",
       "      <td>0</td>\n",
       "      <td>0</td>\n",
       "      <td>1</td>\n",
       "      <td>0</td>\n",
       "      <td>0</td>\n",
       "      <td>1</td>\n",
       "    </tr>\n",
       "    <tr>\n",
       "      <th>3</th>\n",
       "      <td>699</td>\n",
       "      <td>39</td>\n",
       "      <td>0.00</td>\n",
       "      <td>0</td>\n",
       "      <td>0</td>\n",
       "      <td>93826.63</td>\n",
       "      <td>0</td>\n",
       "      <td>0</td>\n",
       "      <td>1</td>\n",
       "      <td>0</td>\n",
       "      <td>0</td>\n",
       "      <td>1</td>\n",
       "      <td>0</td>\n",
       "      <td>0</td>\n",
       "      <td>0</td>\n",
       "      <td>0</td>\n",
       "      <td>1</td>\n",
       "      <td>0</td>\n",
       "    </tr>\n",
       "    <tr>\n",
       "      <th>4</th>\n",
       "      <td>850</td>\n",
       "      <td>43</td>\n",
       "      <td>125510.82</td>\n",
       "      <td>1</td>\n",
       "      <td>1</td>\n",
       "      <td>79084.10</td>\n",
       "      <td>0</td>\n",
       "      <td>0</td>\n",
       "      <td>0</td>\n",
       "      <td>0</td>\n",
       "      <td>1</td>\n",
       "      <td>0</td>\n",
       "      <td>1</td>\n",
       "      <td>0</td>\n",
       "      <td>0</td>\n",
       "      <td>1</td>\n",
       "      <td>0</td>\n",
       "      <td>0</td>\n",
       "    </tr>\n",
       "  </tbody>\n",
       "</table>\n",
       "</div>"
      ],
      "text/plain": [
       "   CreditScore  Age    Balance  HasCrCard  IsActiveMember  EstimatedSalary  \\\n",
       "0          619   42       0.00          1               1        101348.88   \n",
       "1          608   41   83807.86          0               1        112542.58   \n",
       "2          502   42  159660.80          1               0        113931.57   \n",
       "3          699   39       0.00          0               0         93826.63   \n",
       "4          850   43  125510.82          1               1         79084.10   \n",
       "\n",
       "   Exited  Male  France  Germany  Spain  T1 Class  T2 Class  T3 Class  \\\n",
       "0       1     0       1        0      0         0         1         0   \n",
       "1       0     0       0        0      1         1         0         0   \n",
       "2       1     0       1        0      0         0         0         0   \n",
       "3       0     0       1        0      0         1         0         0   \n",
       "4       0     0       0        0      1         0         1         0   \n",
       "\n",
       "   T4 Class  1OneProduct  2TwoProduct  3More products  \n",
       "0         0            1            0               0  \n",
       "1         0            1            0               0  \n",
       "2         1            0            0               1  \n",
       "3         0            0            1               0  \n",
       "4         0            1            0               0  "
      ]
     },
     "execution_count": 20,
     "metadata": {},
     "output_type": "execute_result"
    }
   ],
   "source": [
    "onehotdf_group=df_group.join(gendummy).join(geodummy).join(tenuredummy).join(productdummy)\n",
    "onehotdf_group=onehotdf_group.drop(['Geography','Gender','Tenure','NumOfProducts','Female'],axis=1)\n",
    "onehotdf_group.head()"
   ]
  },
  {
   "cell_type": "code",
   "execution_count": 21,
   "metadata": {},
   "outputs": [],
   "source": [
    "#now we split the data\n",
    "onehot_groupx=onehotdf_group.drop(\"Exited\",axis=1)\n",
    "onehot_groupy=onehotdf_group[\"Exited\"]\n",
    "# split to train and (validation+test) set\n",
    "onehot_groupx_train, onehot_groupx_valitest, onehot_groupy_train, onehot_groupy_valitest=train_test_split(onehot_groupx,onehot_groupy,test_size=0.3,random_state=123)\n",
    "#split to validation and test set\n",
    "onehot_groupx_validation, onehot_groupx_test, onehot_groupy_validation, onehot_groupy_test=train_test_split(onehot_groupx_valitest,onehot_groupy_valitest,test_size=0.5,random_state=123)"
   ]
  },
  {
   "cell_type": "markdown",
   "metadata": {},
   "source": [
    "#### For non-group data:"
   ]
  },
  {
   "cell_type": "code",
   "execution_count": 22,
   "metadata": {},
   "outputs": [],
   "source": [
    "Tenure=list(df_non_group['Tenure'])\n",
    "NumOfProducts=list(df_non_group['NumOfProducts'])\n",
    "for i in range(df_non_group.shape[0]):\n",
    "    Tenure[i]=str(df_non_group['Tenure'][i])+\"T\"\n",
    "    NumOfProducts[i]=str(df_non_group['NumOfProducts'][i])+\"NP\"\n",
    "df_non_group['Tenure']=Tenure\n",
    "df_non_group['NumOfProducts']=NumOfProducts\n"
   ]
  },
  {
   "cell_type": "code",
   "execution_count": 23,
   "metadata": {},
   "outputs": [],
   "source": [
    "#for group data\n",
    "gendummy=pd.get_dummies(df_non_group[\"Gender\"])\n",
    "geodummy=pd.get_dummies(df_non_group[\"Geography\"])\n",
    "tenuredummy=pd.get_dummies(df_non_group[\"Tenure\"])\n",
    "productdummy=pd.get_dummies(df_non_group[\"NumOfProducts\"])"
   ]
  },
  {
   "cell_type": "code",
   "execution_count": 24,
   "metadata": {},
   "outputs": [
    {
     "data": {
      "text/html": [
       "<div>\n",
       "<style scoped>\n",
       "    .dataframe tbody tr th:only-of-type {\n",
       "        vertical-align: middle;\n",
       "    }\n",
       "\n",
       "    .dataframe tbody tr th {\n",
       "        vertical-align: top;\n",
       "    }\n",
       "\n",
       "    .dataframe thead th {\n",
       "        text-align: right;\n",
       "    }\n",
       "</style>\n",
       "<table border=\"1\" class=\"dataframe\">\n",
       "  <thead>\n",
       "    <tr style=\"text-align: right;\">\n",
       "      <th></th>\n",
       "      <th>CreditScore</th>\n",
       "      <th>Age</th>\n",
       "      <th>Balance</th>\n",
       "      <th>HasCrCard</th>\n",
       "      <th>IsActiveMember</th>\n",
       "      <th>EstimatedSalary</th>\n",
       "      <th>Exited</th>\n",
       "      <th>Male</th>\n",
       "      <th>France</th>\n",
       "      <th>Germany</th>\n",
       "      <th>...</th>\n",
       "      <th>4T</th>\n",
       "      <th>5T</th>\n",
       "      <th>6T</th>\n",
       "      <th>7T</th>\n",
       "      <th>8T</th>\n",
       "      <th>9T</th>\n",
       "      <th>1NP</th>\n",
       "      <th>2NP</th>\n",
       "      <th>3NP</th>\n",
       "      <th>4NP</th>\n",
       "    </tr>\n",
       "  </thead>\n",
       "  <tbody>\n",
       "    <tr>\n",
       "      <th>0</th>\n",
       "      <td>619</td>\n",
       "      <td>42</td>\n",
       "      <td>0.00</td>\n",
       "      <td>1</td>\n",
       "      <td>1</td>\n",
       "      <td>101348.88</td>\n",
       "      <td>1</td>\n",
       "      <td>0</td>\n",
       "      <td>1</td>\n",
       "      <td>0</td>\n",
       "      <td>...</td>\n",
       "      <td>0</td>\n",
       "      <td>0</td>\n",
       "      <td>0</td>\n",
       "      <td>0</td>\n",
       "      <td>0</td>\n",
       "      <td>0</td>\n",
       "      <td>1</td>\n",
       "      <td>0</td>\n",
       "      <td>0</td>\n",
       "      <td>0</td>\n",
       "    </tr>\n",
       "    <tr>\n",
       "      <th>1</th>\n",
       "      <td>608</td>\n",
       "      <td>41</td>\n",
       "      <td>83807.86</td>\n",
       "      <td>0</td>\n",
       "      <td>1</td>\n",
       "      <td>112542.58</td>\n",
       "      <td>0</td>\n",
       "      <td>0</td>\n",
       "      <td>0</td>\n",
       "      <td>0</td>\n",
       "      <td>...</td>\n",
       "      <td>0</td>\n",
       "      <td>0</td>\n",
       "      <td>0</td>\n",
       "      <td>0</td>\n",
       "      <td>0</td>\n",
       "      <td>0</td>\n",
       "      <td>1</td>\n",
       "      <td>0</td>\n",
       "      <td>0</td>\n",
       "      <td>0</td>\n",
       "    </tr>\n",
       "    <tr>\n",
       "      <th>2</th>\n",
       "      <td>502</td>\n",
       "      <td>42</td>\n",
       "      <td>159660.80</td>\n",
       "      <td>1</td>\n",
       "      <td>0</td>\n",
       "      <td>113931.57</td>\n",
       "      <td>1</td>\n",
       "      <td>0</td>\n",
       "      <td>1</td>\n",
       "      <td>0</td>\n",
       "      <td>...</td>\n",
       "      <td>0</td>\n",
       "      <td>0</td>\n",
       "      <td>0</td>\n",
       "      <td>0</td>\n",
       "      <td>1</td>\n",
       "      <td>0</td>\n",
       "      <td>0</td>\n",
       "      <td>0</td>\n",
       "      <td>1</td>\n",
       "      <td>0</td>\n",
       "    </tr>\n",
       "    <tr>\n",
       "      <th>3</th>\n",
       "      <td>699</td>\n",
       "      <td>39</td>\n",
       "      <td>0.00</td>\n",
       "      <td>0</td>\n",
       "      <td>0</td>\n",
       "      <td>93826.63</td>\n",
       "      <td>0</td>\n",
       "      <td>0</td>\n",
       "      <td>1</td>\n",
       "      <td>0</td>\n",
       "      <td>...</td>\n",
       "      <td>0</td>\n",
       "      <td>0</td>\n",
       "      <td>0</td>\n",
       "      <td>0</td>\n",
       "      <td>0</td>\n",
       "      <td>0</td>\n",
       "      <td>0</td>\n",
       "      <td>1</td>\n",
       "      <td>0</td>\n",
       "      <td>0</td>\n",
       "    </tr>\n",
       "    <tr>\n",
       "      <th>4</th>\n",
       "      <td>850</td>\n",
       "      <td>43</td>\n",
       "      <td>125510.82</td>\n",
       "      <td>1</td>\n",
       "      <td>1</td>\n",
       "      <td>79084.10</td>\n",
       "      <td>0</td>\n",
       "      <td>0</td>\n",
       "      <td>0</td>\n",
       "      <td>0</td>\n",
       "      <td>...</td>\n",
       "      <td>0</td>\n",
       "      <td>0</td>\n",
       "      <td>0</td>\n",
       "      <td>0</td>\n",
       "      <td>0</td>\n",
       "      <td>0</td>\n",
       "      <td>1</td>\n",
       "      <td>0</td>\n",
       "      <td>0</td>\n",
       "      <td>0</td>\n",
       "    </tr>\n",
       "  </tbody>\n",
       "</table>\n",
       "<p>5 rows × 26 columns</p>\n",
       "</div>"
      ],
      "text/plain": [
       "   CreditScore  Age    Balance  HasCrCard  IsActiveMember  EstimatedSalary  \\\n",
       "0          619   42       0.00          1               1        101348.88   \n",
       "1          608   41   83807.86          0               1        112542.58   \n",
       "2          502   42  159660.80          1               0        113931.57   \n",
       "3          699   39       0.00          0               0         93826.63   \n",
       "4          850   43  125510.82          1               1         79084.10   \n",
       "\n",
       "   Exited  Male  France  Germany  ...  4T  5T  6T  7T  8T  9T  1NP  2NP  3NP  \\\n",
       "0       1     0       1        0  ...   0   0   0   0   0   0    1    0    0   \n",
       "1       0     0       0        0  ...   0   0   0   0   0   0    1    0    0   \n",
       "2       1     0       1        0  ...   0   0   0   0   1   0    0    0    1   \n",
       "3       0     0       1        0  ...   0   0   0   0   0   0    0    1    0   \n",
       "4       0     0       0        0  ...   0   0   0   0   0   0    1    0    0   \n",
       "\n",
       "   4NP  \n",
       "0    0  \n",
       "1    0  \n",
       "2    0  \n",
       "3    0  \n",
       "4    0  \n",
       "\n",
       "[5 rows x 26 columns]"
      ]
     },
     "execution_count": 24,
     "metadata": {},
     "output_type": "execute_result"
    }
   ],
   "source": [
    "onehotdf_non_group=df_non_group.join(gendummy).join(geodummy).join(tenuredummy).join(productdummy)\n",
    "onehotdf_non_group=onehotdf_non_group.drop(['Geography','Gender','Tenure','NumOfProducts','Female'],axis=1)\n",
    "onehotdf_non_group.head()"
   ]
  },
  {
   "cell_type": "code",
   "execution_count": 25,
   "metadata": {},
   "outputs": [],
   "source": [
    "#now we split the data\n",
    "onehot_non_groupx=onehotdf_non_group.drop(\"Exited\",axis=1)\n",
    "onehot_non_groupy=onehotdf_non_group[\"Exited\"]\n",
    "# split to train and (validation+test) set\n",
    "onehot_non_groupx_train, onehot_non_groupx_valitest, onehot_non_groupy_train, onehot_non_groupy_valitest=train_test_split(onehot_non_groupx,onehot_non_groupy,test_size=0.3,random_state=123)\n",
    "#split to validation and test set\n",
    "onehot_non_groupx_validation, onehot_non_groupx_test, onehot_non_groupy_validation, onehot_non_groupy_test=train_test_split(onehot_non_groupx_valitest,onehot_non_groupy_valitest,test_size=0.5,random_state=123)"
   ]
  },
  {
   "cell_type": "markdown",
   "metadata": {},
   "source": [
    "#### Make sure the size and distribution of the data"
   ]
  },
  {
   "cell_type": "code",
   "execution_count": 26,
   "metadata": {},
   "outputs": [
    {
     "name": "stdout",
     "output_type": "stream",
     "text": [
      "One Hot\n",
      "Non Group train x:\n",
      "(7000, 25)\n"
     ]
    },
    {
     "data": {
      "image/png": "[encoded data removed]",
      "text/plain": [
       "<Figure size 432x288 with 4 Axes>"
      ]
     },
     "metadata": {},
     "output_type": "display_data"
    },
    {
     "name": "stdout",
     "output_type": "stream",
     "text": [
      "Group train x:\n",
      "(7000, 17)\n"
     ]
    },
    {
     "data": {
      "image/png": "[encoded data removed]",
      "text/plain": [
       "<Figure size 432x288 with 4 Axes>"
      ]
     },
     "metadata": {},
     "output_type": "display_data"
    }
   ],
   "source": [
    "print(\"One Hot\")\n",
    "print(\"Non Group train x:\")\n",
    "print(onehot_non_groupx_train.shape)\n",
    "# for col in onehot_non_groupx_train:\n",
    "#     if len(onehot_non_groupx_train[col].unique()) <20:\n",
    "#         print(pd.crosstab(onehot_non_groupx_train[col],\"percentage\")/100)\n",
    "r=1        \n",
    "for col in onehot_non_groupx_train:\n",
    "    if len(onehot_non_groupx_train[col].unique()) >20:\n",
    "        plt.subplot(2,2,r)\n",
    "        plt.subplots_adjust(hspace=.7,wspace=.25)\n",
    "        plt.hist(onehot_non_groupx_train[col])\n",
    "        plt.title(col)\n",
    "        r+=1\n",
    "plt.show()\n",
    "\n",
    "print(\"Group train x:\")\n",
    "print(onehot_groupx_train.shape)\n",
    "\n",
    "r=1        \n",
    "for col in onehot_groupx_train:\n",
    "    if len(onehot_groupx_train[col].unique()) >20:\n",
    "        plt.subplot(2,2,r)\n",
    "        plt.subplots_adjust(hspace=.7,wspace=.25)\n",
    "        plt.hist(onehot_groupx_train[col])\n",
    "        plt.title(col)\n",
    "        r+=1\n",
    "plt.show()"
   ]
  },
  {
   "cell_type": "markdown",
   "metadata": {},
   "source": [
    "### label\n",
    "\n",
    "#### For group data"
   ]
  },
  {
   "cell_type": "code",
   "execution_count": 27,
   "metadata": {},
   "outputs": [
    {
     "data": {
      "text/html": [
       "<div>\n",
       "<style scoped>\n",
       "    .dataframe tbody tr th:only-of-type {\n",
       "        vertical-align: middle;\n",
       "    }\n",
       "\n",
       "    .dataframe tbody tr th {\n",
       "        vertical-align: top;\n",
       "    }\n",
       "\n",
       "    .dataframe thead th {\n",
       "        text-align: right;\n",
       "    }\n",
       "</style>\n",
       "<table border=\"1\" class=\"dataframe\">\n",
       "  <thead>\n",
       "    <tr style=\"text-align: right;\">\n",
       "      <th></th>\n",
       "      <th>CreditScore</th>\n",
       "      <th>Geography</th>\n",
       "      <th>Gender</th>\n",
       "      <th>Age</th>\n",
       "      <th>Tenure</th>\n",
       "      <th>Balance</th>\n",
       "      <th>NumOfProducts</th>\n",
       "      <th>HasCrCard</th>\n",
       "      <th>IsActiveMember</th>\n",
       "      <th>EstimatedSalary</th>\n",
       "      <th>Exited</th>\n",
       "    </tr>\n",
       "  </thead>\n",
       "  <tbody>\n",
       "    <tr>\n",
       "      <th>0</th>\n",
       "      <td>619</td>\n",
       "      <td>0</td>\n",
       "      <td>0</td>\n",
       "      <td>42</td>\n",
       "      <td>1</td>\n",
       "      <td>0.00</td>\n",
       "      <td>0</td>\n",
       "      <td>1</td>\n",
       "      <td>1</td>\n",
       "      <td>101348.88</td>\n",
       "      <td>1</td>\n",
       "    </tr>\n",
       "    <tr>\n",
       "      <th>1</th>\n",
       "      <td>608</td>\n",
       "      <td>2</td>\n",
       "      <td>0</td>\n",
       "      <td>41</td>\n",
       "      <td>0</td>\n",
       "      <td>83807.86</td>\n",
       "      <td>0</td>\n",
       "      <td>0</td>\n",
       "      <td>1</td>\n",
       "      <td>112542.58</td>\n",
       "      <td>0</td>\n",
       "    </tr>\n",
       "    <tr>\n",
       "      <th>2</th>\n",
       "      <td>502</td>\n",
       "      <td>0</td>\n",
       "      <td>0</td>\n",
       "      <td>42</td>\n",
       "      <td>3</td>\n",
       "      <td>159660.80</td>\n",
       "      <td>2</td>\n",
       "      <td>1</td>\n",
       "      <td>0</td>\n",
       "      <td>113931.57</td>\n",
       "      <td>1</td>\n",
       "    </tr>\n",
       "    <tr>\n",
       "      <th>3</th>\n",
       "      <td>699</td>\n",
       "      <td>0</td>\n",
       "      <td>0</td>\n",
       "      <td>39</td>\n",
       "      <td>0</td>\n",
       "      <td>0.00</td>\n",
       "      <td>1</td>\n",
       "      <td>0</td>\n",
       "      <td>0</td>\n",
       "      <td>93826.63</td>\n",
       "      <td>0</td>\n",
       "    </tr>\n",
       "    <tr>\n",
       "      <th>4</th>\n",
       "      <td>850</td>\n",
       "      <td>2</td>\n",
       "      <td>0</td>\n",
       "      <td>43</td>\n",
       "      <td>1</td>\n",
       "      <td>125510.82</td>\n",
       "      <td>0</td>\n",
       "      <td>1</td>\n",
       "      <td>1</td>\n",
       "      <td>79084.10</td>\n",
       "      <td>0</td>\n",
       "    </tr>\n",
       "  </tbody>\n",
       "</table>\n",
       "</div>"
      ],
      "text/plain": [
       "   CreditScore  Geography  Gender  Age  Tenure    Balance  NumOfProducts  \\\n",
       "0          619          0       0   42       1       0.00              0   \n",
       "1          608          2       0   41       0   83807.86              0   \n",
       "2          502          0       0   42       3  159660.80              2   \n",
       "3          699          0       0   39       0       0.00              1   \n",
       "4          850          2       0   43       1  125510.82              0   \n",
       "\n",
       "   HasCrCard  IsActiveMember  EstimatedSalary  Exited  \n",
       "0          1               1        101348.88       1  \n",
       "1          0               1        112542.58       0  \n",
       "2          1               0        113931.57       1  \n",
       "3          0               0         93826.63       0  \n",
       "4          1               1         79084.10       0  "
      ]
     },
     "execution_count": 27,
     "metadata": {},
     "output_type": "execute_result"
    }
   ],
   "source": [
    "# df_group\n",
    "labelencoder=LabelEncoder()\n",
    "labeldf_group=df_group.copy()\n",
    "labeldf_group['Gender']=labelencoder.fit_transform(labeldf_group['Gender'])\n",
    "labeldf_group['Geography']=labelencoder.fit_transform(labeldf_group['Geography'])\n",
    "labeldf_group['NumOfProducts']=labelencoder.fit_transform(labeldf_group['NumOfProducts'])\n",
    "labeldf_group['Tenure']=labelencoder.fit_transform(labeldf_group['Tenure'])\n",
    "labeldf_group.head()"
   ]
  },
  {
   "cell_type": "code",
   "execution_count": 28,
   "metadata": {},
   "outputs": [],
   "source": [
    "#now we split the data\n",
    "label_groupx=labeldf_group.iloc[:,:-1]\n",
    "label_groupy=labeldf_group.iloc[:,-1]\n",
    "# split to train and (validation+test) set\n",
    "label_groupx_train, label_groupx_valitest, label_groupy_train, label_groupy_valitest=train_test_split(label_groupx,label_groupy,test_size=0.3,random_state=123)\n",
    "#split to validation and test set\n",
    "label_groupx_validation, label_groupx_test, label_groupy_validation, label_groupy_test=train_test_split(label_groupx_valitest,label_groupy_valitest,test_size=0.5,random_state=123)"
   ]
  },
  {
   "cell_type": "markdown",
   "metadata": {},
   "source": [
    "Transformation(group):\n",
    "* Geography: (France, Germany, Spain) to (0,1,2)\n",
    "* Gender: (Female, Male) to (0,1)\n",
    "* Tenure: class(T1,T2,T3,T4) to (0,1,2,3)\n",
    "* NumOfProducts: (OneProducts,TwoProducts, MoreProducts) to (0,1,2)"
   ]
  },
  {
   "cell_type": "markdown",
   "metadata": {},
   "source": [
    "#### For non-group data"
   ]
  },
  {
   "cell_type": "code",
   "execution_count": 29,
   "metadata": {
    "scrolled": true
   },
   "outputs": [
    {
     "data": {
      "text/html": [
       "<div>\n",
       "<style scoped>\n",
       "    .dataframe tbody tr th:only-of-type {\n",
       "        vertical-align: middle;\n",
       "    }\n",
       "\n",
       "    .dataframe tbody tr th {\n",
       "        vertical-align: top;\n",
       "    }\n",
       "\n",
       "    .dataframe thead th {\n",
       "        text-align: right;\n",
       "    }\n",
       "</style>\n",
       "<table border=\"1\" class=\"dataframe\">\n",
       "  <thead>\n",
       "    <tr style=\"text-align: right;\">\n",
       "      <th></th>\n",
       "      <th>CreditScore</th>\n",
       "      <th>Geography</th>\n",
       "      <th>Gender</th>\n",
       "      <th>Age</th>\n",
       "      <th>Tenure</th>\n",
       "      <th>Balance</th>\n",
       "      <th>NumOfProducts</th>\n",
       "      <th>HasCrCard</th>\n",
       "      <th>IsActiveMember</th>\n",
       "      <th>EstimatedSalary</th>\n",
       "      <th>Exited</th>\n",
       "    </tr>\n",
       "  </thead>\n",
       "  <tbody>\n",
       "    <tr>\n",
       "      <th>0</th>\n",
       "      <td>619</td>\n",
       "      <td>0</td>\n",
       "      <td>0</td>\n",
       "      <td>42</td>\n",
       "      <td>2</td>\n",
       "      <td>0.00</td>\n",
       "      <td>1</td>\n",
       "      <td>1</td>\n",
       "      <td>1</td>\n",
       "      <td>101348.88</td>\n",
       "      <td>1</td>\n",
       "    </tr>\n",
       "    <tr>\n",
       "      <th>1</th>\n",
       "      <td>608</td>\n",
       "      <td>2</td>\n",
       "      <td>0</td>\n",
       "      <td>41</td>\n",
       "      <td>1</td>\n",
       "      <td>83807.86</td>\n",
       "      <td>1</td>\n",
       "      <td>0</td>\n",
       "      <td>1</td>\n",
       "      <td>112542.58</td>\n",
       "      <td>0</td>\n",
       "    </tr>\n",
       "    <tr>\n",
       "      <th>2</th>\n",
       "      <td>502</td>\n",
       "      <td>0</td>\n",
       "      <td>0</td>\n",
       "      <td>42</td>\n",
       "      <td>8</td>\n",
       "      <td>159660.80</td>\n",
       "      <td>3</td>\n",
       "      <td>1</td>\n",
       "      <td>0</td>\n",
       "      <td>113931.57</td>\n",
       "      <td>1</td>\n",
       "    </tr>\n",
       "    <tr>\n",
       "      <th>3</th>\n",
       "      <td>699</td>\n",
       "      <td>0</td>\n",
       "      <td>0</td>\n",
       "      <td>39</td>\n",
       "      <td>1</td>\n",
       "      <td>0.00</td>\n",
       "      <td>2</td>\n",
       "      <td>0</td>\n",
       "      <td>0</td>\n",
       "      <td>93826.63</td>\n",
       "      <td>0</td>\n",
       "    </tr>\n",
       "    <tr>\n",
       "      <th>4</th>\n",
       "      <td>850</td>\n",
       "      <td>2</td>\n",
       "      <td>0</td>\n",
       "      <td>43</td>\n",
       "      <td>2</td>\n",
       "      <td>125510.82</td>\n",
       "      <td>1</td>\n",
       "      <td>1</td>\n",
       "      <td>1</td>\n",
       "      <td>79084.10</td>\n",
       "      <td>0</td>\n",
       "    </tr>\n",
       "  </tbody>\n",
       "</table>\n",
       "</div>"
      ],
      "text/plain": [
       "   CreditScore  Geography  Gender  Age  Tenure    Balance  NumOfProducts  \\\n",
       "0          619          0       0   42       2       0.00              1   \n",
       "1          608          2       0   41       1   83807.86              1   \n",
       "2          502          0       0   42       8  159660.80              3   \n",
       "3          699          0       0   39       1       0.00              2   \n",
       "4          850          2       0   43       2  125510.82              1   \n",
       "\n",
       "   HasCrCard  IsActiveMember  EstimatedSalary  Exited  \n",
       "0          1               1        101348.88       1  \n",
       "1          0               1        112542.58       0  \n",
       "2          1               0        113931.57       1  \n",
       "3          0               0         93826.63       0  \n",
       "4          1               1         79084.10       0  "
      ]
     },
     "execution_count": 29,
     "metadata": {},
     "output_type": "execute_result"
    }
   ],
   "source": [
    "# df_non_group (but here we use the original df)\n",
    "labelencoder=LabelEncoder()\n",
    "labeldf_non_group=df_or.copy()\n",
    "labeldf_non_group['Gender']=labelencoder.fit_transform(labeldf_non_group['Gender'])\n",
    "labeldf_non_group['Geography']=labelencoder.fit_transform(labeldf_non_group['Geography'])\n",
    "labeldf_non_group.head()"
   ]
  },
  {
   "cell_type": "code",
   "execution_count": 30,
   "metadata": {},
   "outputs": [],
   "source": [
    "#now we split the data\n",
    "label_non_groupx=labeldf_non_group.iloc[:,:-1]\n",
    "label_non_groupy=labeldf_non_group.iloc[:,-1]\n",
    "# split to train and (validation+test) set\n",
    "label_non_groupx_train, label_non_groupx_valitest, label_non_groupy_train, label_non_groupy_valitest=train_test_split(label_non_groupx,label_non_groupy,test_size=0.3,random_state=123)\n",
    "#split to validation and test set\n",
    "label_non_groupx_validation, label_non_groupx_test, label_non_groupy_validation, label_non_groupy_test=train_test_split(label_non_groupx_valitest,label_non_groupy_valitest,test_size=0.5,random_state=123)"
   ]
  },
  {
   "cell_type": "markdown",
   "metadata": {},
   "source": [
    "Transformation(non-group):\n",
    "* Geography: (France, Germany, Spain) to (0,1,2)\n",
    "* Gender: (Female, Male) to (0,1)"
   ]
  },
  {
   "cell_type": "markdown",
   "metadata": {},
   "source": [
    "#### Make sure the size and distribution of the data"
   ]
  },
  {
   "cell_type": "code",
   "execution_count": 31,
   "metadata": {},
   "outputs": [
    {
     "name": "stdout",
     "output_type": "stream",
     "text": [
      "Label\n",
      "Non Group train x:\n",
      "(7000, 10)\n"
     ]
    },
    {
     "data": {
      "image/png": "[encoded data removed]",
      "text/plain": [
       "<Figure size 432x288 with 4 Axes>"
      ]
     },
     "metadata": {},
     "output_type": "display_data"
    },
    {
     "name": "stdout",
     "output_type": "stream",
     "text": [
      "Group train x:\n",
      "(7000, 10)\n"
     ]
    },
    {
     "data": {
      "image/png": "[encoded data removed]",
      "text/plain": [
       "<Figure size 432x288 with 4 Axes>"
      ]
     },
     "metadata": {},
     "output_type": "display_data"
    }
   ],
   "source": [
    "print(\"Label\")\n",
    "print(\"Non Group train x:\")\n",
    "print(label_non_groupx_train.shape)\n",
    "\n",
    "r=1        \n",
    "for col in label_non_groupx_train:\n",
    "    if len(label_non_groupx_train[col].unique()) >20:\n",
    "        plt.subplot(2,2,r)\n",
    "        plt.subplots_adjust(hspace=.7,wspace=.25)\n",
    "        plt.hist(label_non_groupx_train[col])\n",
    "        plt.title(col)\n",
    "        r+=1\n",
    "plt.show()\n",
    "\n",
    "print(\"Group train x:\")\n",
    "print(label_groupx_train.shape)\n",
    "\n",
    "r=1        \n",
    "for col in label_groupx_train:\n",
    "    if len(label_groupx_train[col].unique()) >20:\n",
    "        plt.subplot(2,2,r)\n",
    "        plt.subplots_adjust(hspace=.7,wspace=.25)\n",
    "        plt.hist(label_groupx_train[col])\n",
    "        plt.title(col)\n",
    "        r+=1\n",
    "plt.show()"
   ]
  },
  {
   "cell_type": "markdown",
   "metadata": {},
   "source": [
    "### Target\n",
    "\n",
    "#### For group data"
   ]
  },
  {
   "cell_type": "code",
   "execution_count": 32,
   "metadata": {},
   "outputs": [],
   "source": [
    "target_groupx=df_group.iloc[:,:-1]\n",
    "target_groupy=df_group.iloc[:,-1]\n",
    "# split to train and (validation+test) set\n",
    "target_groupx_train, target_groupx_valitest, target_groupy_train, target_groupy_valitest=train_test_split(target_groupx,target_groupy,test_size=0.3,random_state=123)\n",
    "#split to validation and test set\n",
    "target_groupx_validation, target_groupx_test, target_groupy_validation, target_groupy_test=train_test_split(target_groupx_valitest,target_groupy_valitest,test_size=0.5,random_state=123)"
   ]
  },
  {
   "cell_type": "code",
   "execution_count": 33,
   "metadata": {},
   "outputs": [
    {
     "data": {
      "text/html": [
       "<div>\n",
       "<style scoped>\n",
       "    .dataframe tbody tr th:only-of-type {\n",
       "        vertical-align: middle;\n",
       "    }\n",
       "\n",
       "    .dataframe tbody tr th {\n",
       "        vertical-align: top;\n",
       "    }\n",
       "\n",
       "    .dataframe thead th {\n",
       "        text-align: right;\n",
       "    }\n",
       "</style>\n",
       "<table border=\"1\" class=\"dataframe\">\n",
       "  <thead>\n",
       "    <tr style=\"text-align: right;\">\n",
       "      <th></th>\n",
       "      <th>CreditScore</th>\n",
       "      <th>Geography</th>\n",
       "      <th>Gender</th>\n",
       "      <th>Age</th>\n",
       "      <th>Tenure</th>\n",
       "      <th>Balance</th>\n",
       "      <th>NumOfProducts</th>\n",
       "      <th>HasCrCard</th>\n",
       "      <th>IsActiveMember</th>\n",
       "      <th>EstimatedSalary</th>\n",
       "    </tr>\n",
       "  </thead>\n",
       "  <tbody>\n",
       "    <tr>\n",
       "      <th>3144</th>\n",
       "      <td>648</td>\n",
       "      <td>Spain</td>\n",
       "      <td>Male</td>\n",
       "      <td>55</td>\n",
       "      <td>T1 Class</td>\n",
       "      <td>81370.07</td>\n",
       "      <td>1OneProduct</td>\n",
       "      <td>0</td>\n",
       "      <td>1</td>\n",
       "      <td>181534.04</td>\n",
       "    </tr>\n",
       "    <tr>\n",
       "      <th>9939</th>\n",
       "      <td>693</td>\n",
       "      <td>Spain</td>\n",
       "      <td>Female</td>\n",
       "      <td>57</td>\n",
       "      <td>T4 Class</td>\n",
       "      <td>0.00</td>\n",
       "      <td>2TwoProduct</td>\n",
       "      <td>1</td>\n",
       "      <td>1</td>\n",
       "      <td>135502.77</td>\n",
       "    </tr>\n",
       "    <tr>\n",
       "      <th>7925</th>\n",
       "      <td>586</td>\n",
       "      <td>Spain</td>\n",
       "      <td>Female</td>\n",
       "      <td>33</td>\n",
       "      <td>T3 Class</td>\n",
       "      <td>0.00</td>\n",
       "      <td>2TwoProduct</td>\n",
       "      <td>1</td>\n",
       "      <td>1</td>\n",
       "      <td>168261.40</td>\n",
       "    </tr>\n",
       "    <tr>\n",
       "      <th>309</th>\n",
       "      <td>438</td>\n",
       "      <td>Germany</td>\n",
       "      <td>Male</td>\n",
       "      <td>31</td>\n",
       "      <td>T4 Class</td>\n",
       "      <td>78398.69</td>\n",
       "      <td>1OneProduct</td>\n",
       "      <td>1</td>\n",
       "      <td>0</td>\n",
       "      <td>44937.01</td>\n",
       "    </tr>\n",
       "    <tr>\n",
       "      <th>9415</th>\n",
       "      <td>768</td>\n",
       "      <td>Germany</td>\n",
       "      <td>Female</td>\n",
       "      <td>43</td>\n",
       "      <td>T2 Class</td>\n",
       "      <td>129264.05</td>\n",
       "      <td>2TwoProduct</td>\n",
       "      <td>0</td>\n",
       "      <td>0</td>\n",
       "      <td>19150.14</td>\n",
       "    </tr>\n",
       "  </tbody>\n",
       "</table>\n",
       "</div>"
      ],
      "text/plain": [
       "      CreditScore Geography  Gender  Age    Tenure    Balance NumOfProducts  \\\n",
       "3144          648     Spain    Male   55  T1 Class   81370.07   1OneProduct   \n",
       "9939          693     Spain  Female   57  T4 Class       0.00   2TwoProduct   \n",
       "7925          586     Spain  Female   33  T3 Class       0.00   2TwoProduct   \n",
       "309           438   Germany    Male   31  T4 Class   78398.69   1OneProduct   \n",
       "9415          768   Germany  Female   43  T2 Class  129264.05   2TwoProduct   \n",
       "\n",
       "      HasCrCard  IsActiveMember  EstimatedSalary  \n",
       "3144          0               1        181534.04  \n",
       "9939          1               1        135502.77  \n",
       "7925          1               1        168261.40  \n",
       "309           1               0         44937.01  \n",
       "9415          0               0         19150.14  "
      ]
     },
     "execution_count": 33,
     "metadata": {},
     "output_type": "execute_result"
    }
   ],
   "source": [
    "target_groupx_train.head()"
   ]
  },
  {
   "cell_type": "code",
   "execution_count": 34,
   "metadata": {},
   "outputs": [
    {
     "name": "stderr",
     "output_type": "stream",
     "text": [
      "C:\\Users\\720S\\Anaconda3\\lib\\site-packages\\pandas\\core\\generic.py:6586: SettingWithCopyWarning: \n",
      "A value is trying to be set on a copy of a slice from a DataFrame\n",
      "\n",
      "See the caveats in the documentation: http://pandas.pydata.org/pandas-docs/stable/indexing.html#indexing-view-versus-copy\n",
      "  self._update_inplace(new_data)\n"
     ]
    }
   ],
   "source": [
    "for col in target_groupx_train:\n",
    "    if len(target_groupx_train[col].unique())<20:\n",
    "        percentage=pd.crosstab(target_groupx_train[col],\"percent\")/70\n",
    "        after_list=list(percentage['percent'])\n",
    "        before_list=list(percentage.index)\n",
    "        target_groupx_train[col].replace(before_list,after_list, inplace=True)\n",
    "        target_groupx_test[col].replace(before_list,after_list, inplace=True)\n",
    "        target_groupx_validation[col].replace(before_list,after_list, inplace=True)"
   ]
  },
  {
   "cell_type": "markdown",
   "metadata": {},
   "source": [
    "#### For non-group data"
   ]
  },
  {
   "cell_type": "code",
   "execution_count": 35,
   "metadata": {},
   "outputs": [],
   "source": [
    "target_non_groupx=df_non_group.iloc[:,:-1]\n",
    "target_non_groupy=df_non_group.iloc[:,-1]\n",
    "# split to train and (validation+test) set\n",
    "target_non_groupx_train, target_non_groupx_valitest, target_non_groupy_train, target_non_groupy_valitest=train_test_split(target_non_groupx,target_non_groupy,test_size=0.3,random_state=123)\n",
    "#split to validation and test set\n",
    "target_non_groupx_validation, target_non_groupx_test, target_non_groupy_validation, target_non_groupy_test=train_test_split(target_non_groupx_valitest,target_non_groupy_valitest,test_size=0.5,random_state=123)"
   ]
  },
  {
   "cell_type": "code",
   "execution_count": 36,
   "metadata": {},
   "outputs": [
    {
     "name": "stderr",
     "output_type": "stream",
     "text": [
      "C:\\Users\\720S\\Anaconda3\\lib\\site-packages\\pandas\\core\\generic.py:6586: SettingWithCopyWarning: \n",
      "A value is trying to be set on a copy of a slice from a DataFrame\n",
      "\n",
      "See the caveats in the documentation: http://pandas.pydata.org/pandas-docs/stable/indexing.html#indexing-view-versus-copy\n",
      "  self._update_inplace(new_data)\n"
     ]
    }
   ],
   "source": [
    "for col in target_non_groupx_train:\n",
    "    if len(target_non_groupx_train[col].unique())<20:\n",
    "        percentage=pd.crosstab(target_non_groupx_train[col],\"percent\")/70\n",
    "        after_list=list(percentage['percent'])\n",
    "        before_list=list(percentage.index)\n",
    "        target_non_groupx_train[col].replace(before_list,after_list, inplace=True)\n",
    "        target_non_groupx_test[col].replace(before_list,after_list, inplace=True)\n",
    "        target_non_groupx_validation[col].replace(before_list,after_list, inplace=True)"
   ]
  },
  {
   "cell_type": "markdown",
   "metadata": {},
   "source": [
    "#### Make sure the size and distribution of the data"
   ]
  },
  {
   "cell_type": "code",
   "execution_count": 37,
   "metadata": {},
   "outputs": [
    {
     "name": "stdout",
     "output_type": "stream",
     "text": [
      "One Hot\n",
      "Non Group train x:\n",
      "(7000, 10)\n"
     ]
    },
    {
     "data": {
      "image/png": "[encoded data removed]",
      "text/plain": [
       "<Figure size 432x288 with 4 Axes>"
      ]
     },
     "metadata": {},
     "output_type": "display_data"
    },
    {
     "name": "stdout",
     "output_type": "stream",
     "text": [
      "Group train x:\n",
      "(7000, 10)\n"
     ]
    },
    {
     "data": {
      "image/png": "[encoded data removed]",
      "text/plain": [
       "<Figure size 432x288 with 4 Axes>"
      ]
     },
     "metadata": {},
     "output_type": "display_data"
    }
   ],
   "source": [
    "print(\"One Hot\")\n",
    "print(\"Non Group train x:\")\n",
    "print(target_non_groupx_train.shape)\n",
    "# for col in onehot_non_groupx_train:\n",
    "#     if len(onehot_non_groupx_train[col].unique()) <20:\n",
    "#         print(pd.crosstab(onehot_non_groupx_train[col],\"percentage\")/100)\n",
    "r=1        \n",
    "for col in target_non_groupx_train:\n",
    "    if len(target_non_groupx_train[col].unique()) >20:\n",
    "        plt.subplot(2,2,r)\n",
    "        plt.subplots_adjust(hspace=.7,wspace=.25)\n",
    "        plt.hist(target_non_groupx_train[col])\n",
    "        plt.title(col)\n",
    "        r+=1\n",
    "plt.show()\n",
    "\n",
    "print(\"Group train x:\")\n",
    "print(target_groupx_train.shape)\n",
    "\n",
    "r=1        \n",
    "for col in target_groupx_train:\n",
    "    if len(target_groupx_train[col].unique()) >20:\n",
    "        plt.subplot(2,2,r)\n",
    "        plt.subplots_adjust(hspace=.7,wspace=.25)\n",
    "        plt.hist(target_groupx_train[col])\n",
    "        plt.title(col)\n",
    "        r+=1\n",
    "plt.show()"
   ]
  },
  {
   "cell_type": "markdown",
   "metadata": {},
   "source": [
    "## 3.3 Decision for grouping and encoder.\n",
    "\n",
    "### Define training model performance function"
   ]
  },
  {
   "cell_type": "code",
   "execution_count": 38,
   "metadata": {},
   "outputs": [],
   "source": [
    "#split\n",
    "from sklearn.model_selection import cross_validate, cross_val_score\n",
    "#performance\n",
    "import time as time\n",
    "from sklearn.model_selection import KFold\n",
    "#model\n",
    "from sklearn.linear_model import LogisticRegression\n",
    "from sklearn import svm\n",
    "from sklearn.ensemble import RandomForestClassifier\n",
    "from sklearn.ensemble import GradientBoostingClassifier\n",
    "from sklearn.neighbors import KNeighborsClassifier\n",
    "\n",
    "#ignore warnings\n",
    "import warnings\n",
    "warnings.filterwarnings(\"ignore\")"
   ]
  },
  {
   "cell_type": "code",
   "execution_count": 39,
   "metadata": {},
   "outputs": [
    {
     "name": "stderr",
     "output_type": "stream",
     "text": [
      "Using TensorFlow backend.\n"
     ]
    }
   ],
   "source": [
    "from keras.models import Sequential as Sequential\n",
    "from keras.layers import Dense as Dense\n",
    "import tensorflow as tf"
   ]
  },
  {
   "cell_type": "code",
   "execution_count": 40,
   "metadata": {},
   "outputs": [],
   "source": [
    "def train_performance(model_dict,dataset_dict):\n",
    "    for mkey,mvalue in model_dict.items():\n",
    "        print(mkey)\n",
    "\n",
    "        for dkey,dvalue in dataset_dict.items():    \n",
    "            start=time.time()\n",
    "            x=dvalue[0]\n",
    "            y=dvalue[1]\n",
    "            kf=KFold(n_splits=4, random_state=1234, shuffle=True)\n",
    "            kf.get_n_splits(x)\n",
    "            #spit the data in the training to 3 train_train, train_test sets\n",
    "            acc_list=[]\n",
    "            recall_list=[]\n",
    "            precision_list=[]\n",
    "            for train_index, test_index in kf.split(x):\n",
    "                xtrain, xtest=x.iloc[train_index,:],x.iloc[test_index,:]\n",
    "                ytrain, ytest=y.iloc[train_index],y.iloc[test_index]     \n",
    "                fit=mvalue.fit(xtrain,ytrain)\n",
    "                ypredict=fit.predict(xtest)\n",
    "                perform_list=acc_recall_precision_rate(ypredict,ytest)\n",
    "                acc_list.append(perform_list[0])\n",
    "                recall_list.append(perform_list[1])\n",
    "                precision_list.append(perform_list[2])\n",
    "            print(dkey+\" Avg Acc: \"+str(round(st.mean(acc_list)*100,2)))\n",
    "            print(dkey+\" Avg Recall: \"+str(round(st.mean(recall_list)*100,2)))\n",
    "            print(dkey+\" Avg percision: \"+str(round(st.mean(precision_list)*100,2)))\n",
    "\n",
    "            end=time.time()\n",
    "            print('run time:'+str(end-start))"
   ]
  },
  {
   "cell_type": "code",
   "execution_count": 41,
   "metadata": {},
   "outputs": [],
   "source": [
    "def simple_ann_performance(dataset_dict):\n",
    "    print(\"ANN\")\n",
    "    H = 4 # number of nodes in the layer\n",
    "    for dkey,dvalue in dataset_dict.items(): \n",
    "        print(dkey)\n",
    "        start=time.time()\n",
    "\n",
    "        x=dvalue[0]\n",
    "        y=dvalue[1]\n",
    "        kf=KFold(n_splits=3, random_state=123, shuffle=True)\n",
    "        kf.get_n_splits(x)\n",
    "\n",
    "        acc_list=[]\n",
    "        recall_list=[]\n",
    "        precision_list=[]\n",
    "        for train_index, test_index in kf.split(x):\n",
    "            xtrain, xtest=x.iloc[train_index,:],x.iloc[test_index,:]\n",
    "            ytrain, ytest=y.iloc[train_index],y.iloc[test_index]  \n",
    "            model = Sequential()\n",
    "            #1 hidden layer\n",
    "            model.add(Dense(output_dim = H, init = 'uniform', activation = 'relu', input_dim = xtrain.shape[1]))\n",
    "            #the output layer\n",
    "            model.add(Dense(output_dim = 1, init = 'uniform', activation = 'sigmoid'))\n",
    "            #compile the model --> backpropagation -> gradient descent\n",
    "            model.compile(optimizer = 'adam', loss = \"binary_crossentropy\", metrics = ['accuracy'])\n",
    "            model.fit(xtrain,ytrain, batch_size=10, epochs=15, verbose=0) \n",
    "\n",
    "            ypredict=model.predict(xtest)\n",
    "            ypredict=pd.DataFrame((ypredict>0.5)*1)\n",
    "            perform_list=acc_recall_precision_rate(ypredict,ytest)\n",
    "            acc_list.append(perform_list[0])\n",
    "            recall_list.append(perform_list[1])\n",
    "            precision_list.append(perform_list[2])\n",
    "        print(dkey+\" Avg Acc: \"+str(round(st.mean(acc_list)*100,2)))\n",
    "        print(dkey+\" Avg Recall: \"+str(round(st.mean(recall_list)*100,2)))\n",
    "        print(dkey+\" Avg percision: \"+str(round(st.mean(precision_list)*100,2)))\n",
    "\n",
    "        end=time.time()    \n",
    "        print('run time:' +str(end-start))"
   ]
  },
  {
   "cell_type": "code",
   "execution_count": 42,
   "metadata": {},
   "outputs": [],
   "source": [
    "#ANN with one hidden layer and 5 nodes in the layer\n",
    "def simple_ann_performance_nokf(dataset_dict):\n",
    "    print(\"ANN\")\n",
    "    H = 4 # number of nodes in the layer\n",
    "    for dkey,dvalue in dataset_dict.items(): \n",
    "        print(dkey)\n",
    "        xtrain, ytrain=dvalue[0],dvalue[1]\n",
    "        start=time.time()\n",
    "        model = Sequential()\n",
    "        #1 hidden layer\n",
    "        model.add(Dense(output_dim = H, init = 'uniform', activation = 'relu', input_dim = xtrain.shape[1]))\n",
    "        #the output layer\n",
    "        model.add(Dense(output_dim = 1, init = 'uniform', activation = 'sigmoid'))\n",
    "        #compile the model --> backpropagation -> gradient descent\n",
    "        model.compile(optimizer = 'adam', loss = \"binary_crossentropy\", metrics = ['accuracy'])\n",
    "        model.fit(xtrain,ytrain, batch_size=10, epochs=15, verbose=0) \n",
    "        ypredict=model.predict(xtrain)\n",
    "        ypredict=pd.DataFrame((ypredict>0.5)*1)\n",
    "        perform_list=acc_recall_precision_rate(ypredict,ytrain)\n",
    "\n",
    "        print(dkey+\" Acc: \"+str(round(perform_list[0]*100,2)))\n",
    "        print(dkey+\" Recall: \"+str(round(perform_list[1]*100,2)))\n",
    "        print(dkey+\" percision: \"+str(round(perform_list[2]*100,2)))\n",
    "\n",
    "        end=time.time()    \n",
    "        print('run time:' +str(end-start))\n"
   ]
  },
  {
   "cell_type": "code",
   "execution_count": 43,
   "metadata": {},
   "outputs": [],
   "source": [
    "# import tensorflow as tf\n",
    "# from tensorflow.keras import layers\n",
    "# from tensorflow.keras import models\n",
    "# from tensorflow.keras.layers import Dense\n",
    "# from tensorflow.keras.models import Sequential\n",
    "# from tensorflow.keras.regularizers import l2"
   ]
  },
  {
   "cell_type": "markdown",
   "metadata": {},
   "source": [
    "### Check performance"
   ]
  },
  {
   "cell_type": "code",
   "execution_count": 44,
   "metadata": {},
   "outputs": [],
   "source": [
    "LR=LogisticRegression(solver='lbfgs')\n",
    "RF=RandomForestClassifier(n_estimators=100)\n",
    "GB=GradientBoostingClassifier()\n",
    "\n",
    "model={\"LR\":LR,\"GB\":GB,\"RF\":RF}\n",
    "#model={\"LR\":LR}\n",
    "\n",
    "dataset={\"Group_onehot\":[onehot_groupx_train,onehot_groupy_train],\n",
    "         \"Non_Group_onehot\":[onehot_non_groupx_train,onehot_non_groupy_train],\n",
    "\n",
    "         \"Group_label\":[label_groupx_train,label_groupy_train],\n",
    "         \"Non_Group_label\":[label_non_groupx_train,label_non_groupy_train],\n",
    "\n",
    "         \"Group_target\":[target_groupx_train,target_groupy_train],\n",
    "         \"Non_Group_target\":[target_non_groupx_train,target_non_groupy_train]}\n"
   ]
  },
  {
   "cell_type": "code",
   "execution_count": 45,
   "metadata": {},
   "outputs": [
    {
     "name": "stdout",
     "output_type": "stream",
     "text": [
      "LR\n",
      "Group_onehot Avg Acc: 79.07\n",
      "Group_onehot Avg Recall: 6.5\n",
      "Group_onehot Avg percision: 42.34\n",
      "run time:0.24200177192687988\n",
      "Non_Group_onehot Avg Acc: 79.07\n",
      "Non_Group_onehot Avg Recall: 6.5\n",
      "Non_Group_onehot Avg percision: 42.34\n",
      "run time:0.23203754425048828\n",
      "Group_label Avg Acc: 79.07\n",
      "Group_label Avg Recall: 6.43\n",
      "Group_label Avg percision: 42.32\n",
      "run time:0.2130448818206787\n",
      "Non_Group_label Avg Acc: 79.07\n",
      "Non_Group_label Avg Recall: 6.5\n",
      "Non_Group_label Avg percision: 42.34\n",
      "run time:0.24738740921020508\n",
      "Group_target Avg Acc: 80.39\n",
      "Group_target Avg Recall: 16.98\n",
      "Group_target Avg percision: 56.9\n",
      "run time:0.2999544143676758\n",
      "Non_Group_target Avg Acc: 80.43\n",
      "Non_Group_target Avg Recall: 17.05\n",
      "Non_Group_target Avg percision: 57.27\n",
      "run time:0.36783266067504883\n",
      "GB\n",
      "Group_onehot Avg Acc: 86.0\n",
      "Group_onehot Avg Recall: 45.93\n",
      "Group_onehot Avg percision: 76.25\n",
      "run time:2.872485637664795\n",
      "Non_Group_onehot Avg Acc: 86.03\n",
      "Non_Group_onehot Avg Recall: 45.44\n",
      "Non_Group_onehot Avg percision: 76.82\n",
      "run time:3.3197569847106934\n",
      "Group_label Avg Acc: 86.0\n",
      "Group_label Avg Recall: 44.0\n",
      "Group_label Avg percision: 78.02\n",
      "run time:2.1350343227386475\n",
      "Non_Group_label Avg Acc: 86.0\n",
      "Non_Group_label Avg Recall: 43.77\n",
      "Non_Group_label Avg percision: 78.23\n",
      "run time:2.076573371887207\n",
      "Group_target Avg Acc: 86.07\n",
      "Group_target Avg Recall: 45.37\n",
      "Group_target Avg percision: 77.13\n",
      "run time:2.2439751625061035\n",
      "Non_Group_target Avg Acc: 86.09\n",
      "Non_Group_target Avg Recall: 45.04\n",
      "Non_Group_target Avg percision: 77.6\n",
      "run time:2.1686899662017822\n",
      "RF\n",
      "Group_onehot Avg Acc: 85.53\n",
      "Group_onehot Avg Recall: 45.13\n",
      "Group_onehot Avg percision: 74.05\n",
      "run time:3.374765396118164\n",
      "Non_Group_onehot Avg Acc: 85.71\n",
      "Non_Group_onehot Avg Recall: 44.29\n",
      "Non_Group_onehot Avg percision: 75.89\n",
      "run time:3.913292646408081\n",
      "Group_label Avg Acc: 85.36\n",
      "Group_label Avg Recall: 43.79\n",
      "Group_label Avg percision: 74.06\n",
      "run time:4.177838087081909\n",
      "Non_Group_label Avg Acc: 85.94\n",
      "Non_Group_label Avg Recall: 44.38\n",
      "Non_Group_label Avg percision: 77.55\n",
      "run time:4.457264423370361\n",
      "Group_target Avg Acc: 85.64\n",
      "Group_target Avg Recall: 45.56\n",
      "Group_target Avg percision: 74.4\n",
      "run time:4.325958490371704\n",
      "Non_Group_target Avg Acc: 85.53\n",
      "Non_Group_target Avg Recall: 44.99\n",
      "Non_Group_target Avg percision: 74.14\n",
      "run time:4.53861403465271\n"
     ]
    }
   ],
   "source": [
    "train_performance(model,dataset)"
   ]
  },
  {
   "cell_type": "code",
   "execution_count": 46,
   "metadata": {},
   "outputs": [
    {
     "name": "stdout",
     "output_type": "stream",
     "text": [
      "ANN\n",
      "Group_onehot\n",
      "Group_onehot Avg Acc: 79.54\n",
      "Group_onehot Avg Recall: 0\n",
      "Group_onehot Avg percision: 0\n",
      "run time:30.904135942459106\n",
      "Non_Group_onehot\n",
      "Non_Group_onehot Avg Acc: 79.54\n",
      "Non_Group_onehot Avg Recall: 0\n",
      "Non_Group_onehot Avg percision: 0\n",
      "run time:32.25857734680176\n",
      "Group_label\n",
      "Group_label Avg Acc: 79.54\n",
      "Group_label Avg Recall: 0\n",
      "Group_label Avg percision: 0\n",
      "run time:34.15515327453613\n",
      "Non_Group_label\n",
      "Non_Group_label Avg Acc: 79.54\n",
      "Non_Group_label Avg Recall: 0\n",
      "Non_Group_label Avg percision: 0\n",
      "run time:35.962289571762085\n",
      "Group_target\n",
      "Group_target Avg Acc: 79.54\n",
      "Group_target Avg Recall: 0\n",
      "Group_target Avg percision: 0\n",
      "run time:39.42258667945862\n",
      "Non_Group_target\n",
      "Non_Group_target Avg Acc: 79.54\n",
      "Non_Group_target Avg Recall: 0\n",
      "Non_Group_target Avg percision: 0\n",
      "run time:39.80488610267639\n"
     ]
    }
   ],
   "source": [
    "simple_ann_performance(dataset)"
   ]
  },
  {
   "cell_type": "markdown",
   "metadata": {},
   "source": [
    "## 3.4. Choose scaler for the data\n",
    "\n",
    "Here my dataset is grouped data and target data. But since it is well known that Onehot encoding work better for ANN model, I would also scale them to see the result.\n",
    "* MinMaxScaler\n",
    "* RobustScaler\n",
    "* StandardScaler\n",
    "\n",
    "[check detail](https://towardsdatascience.com/scale-standardize-or-normalize-with-scikit-learn-6ccc7d176a02)"
   ]
  },
  {
   "cell_type": "code",
   "execution_count": 47,
   "metadata": {},
   "outputs": [],
   "source": [
    "from sklearn.preprocessing import MinMaxScaler, RobustScaler, StandardScaler"
   ]
  },
  {
   "cell_type": "code",
   "execution_count": 48,
   "metadata": {},
   "outputs": [],
   "source": [
    "#1. MinMaxScaler\n",
    "ms_onehot=MinMaxScaler().fit(onehot_groupx_train)\n",
    "ms_target=MinMaxScaler().fit(target_groupx_train)\n",
    "onehotx_train_ms=pd.DataFrame(ms_onehot.transform(onehot_groupx_train))\n",
    "targetx_train_ms=pd.DataFrame(ms_target.transform(target_groupx_train))\n",
    "\n",
    "#2. RobustScaler\n",
    "rs_onehot=RobustScaler().fit(onehot_groupx_train)\n",
    "rs_target=RobustScaler().fit(target_groupx_train)\n",
    "onehotx_train_rs=pd.DataFrame(rs_onehot.transform(onehot_groupx_train))\n",
    "targetx_train_rs=pd.DataFrame(rs_target.transform(target_groupx_train))\n",
    "\n",
    "#3. StandardScaler\n",
    "ss_onehot=StandardScaler().fit(onehot_groupx_train)\n",
    "ss_target=StandardScaler().fit(target_groupx_train)\n",
    "onehotx_train_ss=pd.DataFrame(ss_onehot.transform(onehot_groupx_train))\n",
    "targetx_train_ss=pd.DataFrame(ss_target.transform(target_groupx_train))"
   ]
  },
  {
   "cell_type": "code",
   "execution_count": 49,
   "metadata": {},
   "outputs": [],
   "source": [
    "LR=LogisticRegression(solver='lbfgs')\n",
    "RF=RandomForestClassifier(n_estimators=100)\n",
    "GB=GradientBoostingClassifier()\n",
    "SVM=svm.SVC(gamma='auto')\n",
    "model={\"LR\":LR,\"GB\":GB,\"RF\":RF}\n",
    "dataset={\"ms_onehot\":[onehotx_train_ms,onehot_groupy_train],\n",
    "         \"ms_target\":[targetx_train_ms,target_groupy_train],\n",
    "\n",
    "         \"rs_onehot\":[onehotx_train_rs,onehot_groupy_train],\n",
    "         \"rs_target\":[targetx_train_rs,target_groupy_train],\n",
    "\n",
    "         \"ss_onehot\":[onehotx_train_ss,onehot_groupy_train],\n",
    "         \"ss_target\":[targetx_train_ss,target_groupy_train]}\n"
   ]
  },
  {
   "cell_type": "code",
   "execution_count": 50,
   "metadata": {
    "scrolled": true
   },
   "outputs": [
    {
     "name": "stdout",
     "output_type": "stream",
     "text": [
      "LR\n",
      "ms_onehot Avg Acc: 83.51\n",
      "ms_onehot Avg Recall: 34.35\n",
      "ms_onehot Avg percision: 69.7\n",
      "run time:0.21296358108520508\n",
      "ms_target Avg Acc: 82.39\n",
      "ms_target Avg Recall: 23.94\n",
      "ms_target Avg percision: 70.51\n",
      "run time:0.11807703971862793\n",
      "rs_onehot Avg Acc: 83.53\n",
      "rs_onehot Avg Recall: 35.61\n",
      "rs_onehot Avg percision: 68.88\n",
      "run time:0.1431891918182373\n",
      "rs_target Avg Acc: 82.26\n",
      "rs_target Avg Recall: 25.08\n",
      "rs_target Avg percision: 68.19\n",
      "run time:0.13282561302185059\n",
      "ss_onehot Avg Acc: 83.51\n",
      "ss_onehot Avg Recall: 35.67\n",
      "ss_onehot Avg percision: 68.74\n",
      "run time:0.12913155555725098\n",
      "ss_target Avg Acc: 82.24\n",
      "ss_target Avg Recall: 25.08\n",
      "ss_target Avg percision: 68.07\n",
      "run time:0.0962216854095459\n",
      "GB\n",
      "ms_onehot Avg Acc: 86.0\n",
      "ms_onehot Avg Recall: 45.93\n",
      "ms_onehot Avg percision: 76.25\n",
      "run time:3.091111421585083\n",
      "ms_target Avg Acc: 86.07\n",
      "ms_target Avg Recall: 45.37\n",
      "ms_target Avg percision: 77.13\n",
      "run time:2.4345929622650146\n",
      "rs_onehot Avg Acc: 86.01\n",
      "rs_onehot Avg Recall: 45.93\n",
      "rs_onehot Avg percision: 76.35\n",
      "run time:3.1948957443237305\n",
      "rs_target Avg Acc: 86.07\n",
      "rs_target Avg Recall: 45.37\n",
      "rs_target Avg percision: 77.13\n",
      "run time:2.2663984298706055\n",
      "ss_onehot Avg Acc: 85.99\n",
      "ss_onehot Avg Recall: 45.86\n",
      "ss_onehot Avg percision: 76.23\n",
      "run time:3.1050009727478027\n",
      "ss_target Avg Acc: 86.06\n",
      "ss_target Avg Recall: 45.3\n",
      "ss_target Avg percision: 77.1\n",
      "run time:2.455994129180908\n",
      "RF\n",
      "ms_onehot Avg Acc: 85.66\n",
      "ms_onehot Avg Recall: 45.01\n",
      "ms_onehot Avg percision: 74.99\n",
      "run time:4.027086973190308\n",
      "ms_target Avg Acc: 85.56\n",
      "ms_target Avg Recall: 45.15\n",
      "ms_target Avg percision: 74.23\n",
      "run time:4.084900140762329\n",
      "rs_onehot Avg Acc: 85.59\n",
      "rs_onehot Avg Recall: 45.28\n",
      "rs_onehot Avg percision: 74.29\n",
      "run time:3.730792999267578\n",
      "rs_target Avg Acc: 85.97\n",
      "rs_target Avg Recall: 46.39\n",
      "rs_target Avg percision: 75.79\n",
      "run time:3.9578869342803955\n",
      "ss_onehot Avg Acc: 85.66\n",
      "ss_onehot Avg Recall: 45.27\n",
      "ss_onehot Avg percision: 74.8\n",
      "run time:3.925415515899658\n",
      "ss_target Avg Acc: 85.59\n",
      "ss_target Avg Recall: 45.07\n",
      "ss_target Avg percision: 74.58\n",
      "run time:4.544001340866089\n"
     ]
    }
   ],
   "source": [
    "train_performance(model,dataset)"
   ]
  },
  {
   "cell_type": "code",
   "execution_count": 51,
   "metadata": {},
   "outputs": [
    {
     "name": "stdout",
     "output_type": "stream",
     "text": [
      "ANN\n",
      "ms_onehot\n",
      "ms_onehot Avg Acc: 83.3\n",
      "ms_onehot Avg Recall: 33.76\n",
      "ms_onehot Avg percision: 69.01\n",
      "run time:41.67766261100769\n",
      "ms_target\n",
      "ms_target Avg Acc: 82.09\n",
      "ms_target Avg Recall: 20.21\n",
      "ms_target Avg percision: 72.7\n",
      "run time:44.3552143573761\n",
      "rs_onehot\n",
      "rs_onehot Avg Acc: 84.93\n",
      "rs_onehot Avg Recall: 39.38\n",
      "rs_onehot Avg percision: 75.2\n",
      "run time:47.81831765174866\n",
      "rs_target\n",
      "rs_target Avg Acc: 82.64\n",
      "rs_target Avg Recall: 21.22\n",
      "rs_target Avg percision: 79.8\n",
      "run time:50.24720239639282\n",
      "ss_onehot\n",
      "ss_onehot Avg Acc: 84.96\n",
      "ss_onehot Avg Recall: 41.87\n",
      "ss_onehot Avg percision: 73.84\n",
      "run time:54.890788316726685\n",
      "ss_target\n",
      "ss_target Avg Acc: 84.14\n",
      "ss_target Avg Recall: 31.09\n",
      "ss_target Avg percision: 78.32\n",
      "run time:55.26987409591675\n"
     ]
    }
   ],
   "source": [
    "simple_ann_performance(dataset)"
   ]
  },
  {
   "cell_type": "code",
   "execution_count": 52,
   "metadata": {},
   "outputs": [
    {
     "name": "stdout",
     "output_type": "stream",
     "text": [
      "CreditScore\n"
     ]
    },
    {
     "data": {
      "image/png": "[encoded data removed]",
      "text/plain": [
       "<Figure size 432x288 with 2 Axes>"
      ]
     },
     "metadata": {},
     "output_type": "display_data"
    },
    {
     "name": "stdout",
     "output_type": "stream",
     "text": [
      "Age\n"
     ]
    },
    {
     "data": {
      "image/png": "[encoded data removed]",
      "text/plain": [
       "<Figure size 432x288 with 2 Axes>"
      ]
     },
     "metadata": {},
     "output_type": "display_data"
    },
    {
     "name": "stdout",
     "output_type": "stream",
     "text": [
      "Balance\n"
     ]
    },
    {
     "data": {
      "image/png": "[encoded data removed]",
      "text/plain": [
       "<Figure size 432x288 with 2 Axes>"
      ]
     },
     "metadata": {},
     "output_type": "display_data"
    },
    {
     "name": "stdout",
     "output_type": "stream",
     "text": [
      "HasCrCard\n"
     ]
    },
    {
     "data": {
      "image/png": "[encoded data removed]",
      "text/plain": [
       "<Figure size 432x288 with 2 Axes>"
      ]
     },
     "metadata": {},
     "output_type": "display_data"
    },
    {
     "name": "stdout",
     "output_type": "stream",
     "text": [
      "IsActiveMember\n"
     ]
    },
    {
     "data": {
      "image/png": "[encoded data removed]",
      "text/plain": [
       "<Figure size 432x288 with 2 Axes>"
      ]
     },
     "metadata": {},
     "output_type": "display_data"
    },
    {
     "name": "stdout",
     "output_type": "stream",
     "text": [
      "EstimatedSalary\n"
     ]
    },
    {
     "data": {
      "image/png": "[encoded data removed]",
      "text/plain": [
       "<Figure size 432x288 with 2 Axes>"
      ]
     },
     "metadata": {},
     "output_type": "display_data"
    },
    {
     "name": "stdout",
     "output_type": "stream",
     "text": [
      "Male\n"
     ]
    },
    {
     "data": {
      "image/png": "[encoded data removed]",
      "text/plain": [
       "<Figure size 432x288 with 2 Axes>"
      ]
     },
     "metadata": {},
     "output_type": "display_data"
    },
    {
     "name": "stdout",
     "output_type": "stream",
     "text": [
      "France\n"
     ]
    },
    {
     "data": {
      "image/png": "[encoded data removed]",
      "text/plain": [
       "<Figure size 432x288 with 2 Axes>"
      ]
     },
     "metadata": {},
     "output_type": "display_data"
    },
    {
     "name": "stdout",
     "output_type": "stream",
     "text": [
      "Germany\n"
     ]
    },
    {
     "data": {
      "image/png": "[encoded data removed]",
      "text/plain": [
       "<Figure size 432x288 with 2 Axes>"
      ]
     },
     "metadata": {},
     "output_type": "display_data"
    },
    {
     "name": "stdout",
     "output_type": "stream",
     "text": [
      "Spain\n"
     ]
    },
    {
     "data": {
      "image/png": "[encoded data removed]",
      "text/plain": [
       "<Figure size 432x288 with 2 Axes>"
      ]
     },
     "metadata": {},
     "output_type": "display_data"
    },
    {
     "name": "stdout",
     "output_type": "stream",
     "text": [
      "T1 Class\n"
     ]
    },
    {
     "data": {
      "image/png": "[encoded data removed]",
      "text/plain": [
       "<Figure size 432x288 with 2 Axes>"
      ]
     },
     "metadata": {},
     "output_type": "display_data"
    },
    {
     "name": "stdout",
     "output_type": "stream",
     "text": [
      "T2 Class\n"
     ]
    },
    {
     "data": {
      "image/png": "[encoded data removed]",
      "text/plain": [
       "<Figure size 432x288 with 2 Axes>"
      ]
     },
     "metadata": {},
     "output_type": "display_data"
    },
    {
     "name": "stdout",
     "output_type": "stream",
     "text": [
      "T3 Class\n"
     ]
    },
    {
     "data": {
      "image/png": "[encoded data removed]",
      "text/plain": [
       "<Figure size 432x288 with 2 Axes>"
      ]
     },
     "metadata": {},
     "output_type": "display_data"
    },
    {
     "name": "stdout",
     "output_type": "stream",
     "text": [
      "T4 Class\n"
     ]
    },
    {
     "data": {
      "image/png": "[encoded data removed]",
      "text/plain": [
       "<Figure size 432x288 with 2 Axes>"
      ]
     },
     "metadata": {},
     "output_type": "display_data"
    },
    {
     "name": "stdout",
     "output_type": "stream",
     "text": [
      "1OneProduct\n"
     ]
    },
    {
     "data": {
      "image/png": "[encoded data removed]",
      "text/plain": [
       "<Figure size 432x288 with 2 Axes>"
      ]
     },
     "metadata": {},
     "output_type": "display_data"
    },
    {
     "name": "stdout",
     "output_type": "stream",
     "text": [
      "2TwoProduct\n"
     ]
    },
    {
     "data": {
      "image/png": "[encoded data removed]",
      "text/plain": [
       "<Figure size 432x288 with 2 Axes>"
      ]
     },
     "metadata": {},
     "output_type": "display_data"
    },
    {
     "name": "stdout",
     "output_type": "stream",
     "text": [
      "3More products\n"
     ]
    },
    {
     "data": {
      "image/png": "[encoded data removed]",
      "text/plain": [
       "<Figure size 432x288 with 2 Axes>"
      ]
     },
     "metadata": {},
     "output_type": "display_data"
    }
   ],
   "source": [
    "#make sure the distributions stays the same for onehot ss\n",
    "for i in range(onehotx_train_ss.shape[1]):\n",
    "    r=1\n",
    "    print(onehot_groupx_train.columns[i])\n",
    "    for t in [onehot_groupx_train,onehotx_train_ss]:\n",
    "        plt.subplot(1,2,r)\n",
    "        plt.hist(t.iloc[:,i])\n",
    "        r+=1\n",
    "    plt.show()"
   ]
  },
  {
   "cell_type": "markdown",
   "metadata": {},
   "source": [
    "## 3.5 Final Data set\n",
    "\n",
    "* grouped\n",
    "* one hot\n",
    "* standard Scaler"
   ]
  },
  {
   "cell_type": "code",
   "execution_count": 53,
   "metadata": {},
   "outputs": [],
   "source": [
    "x_train=onehotx_train_ss.copy()\n",
    "y_train=onehot_groupy_train.copy()\n",
    "x_validation=pd.DataFrame(ss_onehot.transform(onehot_groupx_validation))\n",
    "y_validation=onehot_groupy_validation.copy()\n",
    "x_test=pd.DataFrame(ss_onehot.transform(onehot_groupx_test))\n",
    "y_test=onehot_groupy_test.copy()"
   ]
  },
  {
   "cell_type": "markdown",
   "metadata": {},
   "source": [
    "Make sure the columns correlations:"
   ]
  },
  {
   "cell_type": "code",
   "execution_count": 54,
   "metadata": {},
   "outputs": [
    {
     "data": {
      "text/html": [
       "<div>\n",
       "<style scoped>\n",
       "    .dataframe tbody tr th:only-of-type {\n",
       "        vertical-align: middle;\n",
       "    }\n",
       "\n",
       "    .dataframe tbody tr th {\n",
       "        vertical-align: top;\n",
       "    }\n",
       "\n",
       "    .dataframe thead th {\n",
       "        text-align: right;\n",
       "    }\n",
       "</style>\n",
       "<table border=\"1\" class=\"dataframe\">\n",
       "  <thead>\n",
       "    <tr style=\"text-align: right;\">\n",
       "      <th></th>\n",
       "      <th>0</th>\n",
       "      <th>1</th>\n",
       "      <th>2</th>\n",
       "      <th>3</th>\n",
       "      <th>4</th>\n",
       "      <th>5</th>\n",
       "      <th>6</th>\n",
       "      <th>7</th>\n",
       "      <th>8</th>\n",
       "      <th>9</th>\n",
       "      <th>10</th>\n",
       "      <th>11</th>\n",
       "      <th>12</th>\n",
       "      <th>13</th>\n",
       "      <th>14</th>\n",
       "      <th>15</th>\n",
       "      <th>16</th>\n",
       "    </tr>\n",
       "  </thead>\n",
       "  <tbody>\n",
       "    <tr>\n",
       "      <th>0</th>\n",
       "      <td>1.000000</td>\n",
       "      <td>0.011537</td>\n",
       "      <td>0.012252</td>\n",
       "      <td>-0.002035</td>\n",
       "      <td>0.026642</td>\n",
       "      <td>-0.002331</td>\n",
       "      <td>-0.008184</td>\n",
       "      <td>-0.015349</td>\n",
       "      <td>0.021119</td>\n",
       "      <td>-0.003370</td>\n",
       "      <td>-0.004348</td>\n",
       "      <td>0.002380</td>\n",
       "      <td>-0.002724</td>\n",
       "      <td>0.003910</td>\n",
       "      <td>-0.014175</td>\n",
       "      <td>0.014580</td>\n",
       "      <td>-0.001013</td>\n",
       "    </tr>\n",
       "    <tr>\n",
       "      <th>1</th>\n",
       "      <td>0.011537</td>\n",
       "      <td>1.000000</td>\n",
       "      <td>0.030800</td>\n",
       "      <td>0.005244</td>\n",
       "      <td>0.087281</td>\n",
       "      <td>-0.009601</td>\n",
       "      <td>-0.033130</td>\n",
       "      <td>-0.043492</td>\n",
       "      <td>0.049502</td>\n",
       "      <td>0.000785</td>\n",
       "      <td>0.006125</td>\n",
       "      <td>-0.000606</td>\n",
       "      <td>0.004724</td>\n",
       "      <td>-0.009356</td>\n",
       "      <td>0.067798</td>\n",
       "      <td>-0.095786</td>\n",
       "      <td>0.077410</td>\n",
       "    </tr>\n",
       "    <tr>\n",
       "      <th>2</th>\n",
       "      <td>0.012252</td>\n",
       "      <td>0.030800</td>\n",
       "      <td>1.000000</td>\n",
       "      <td>-0.007931</td>\n",
       "      <td>-0.005336</td>\n",
       "      <td>0.017785</td>\n",
       "      <td>0.010209</td>\n",
       "      <td>-0.232733</td>\n",
       "      <td>0.407074</td>\n",
       "      <td>-0.137926</td>\n",
       "      <td>0.020660</td>\n",
       "      <td>-0.009809</td>\n",
       "      <td>-0.009807</td>\n",
       "      <td>0.003909</td>\n",
       "      <td>0.352133</td>\n",
       "      <td>-0.353443</td>\n",
       "      <td>0.000849</td>\n",
       "    </tr>\n",
       "    <tr>\n",
       "      <th>3</th>\n",
       "      <td>-0.002035</td>\n",
       "      <td>0.005244</td>\n",
       "      <td>-0.007931</td>\n",
       "      <td>1.000000</td>\n",
       "      <td>-0.009708</td>\n",
       "      <td>-0.005041</td>\n",
       "      <td>-0.000572</td>\n",
       "      <td>-0.003425</td>\n",
       "      <td>0.016986</td>\n",
       "      <td>-0.013020</td>\n",
       "      <td>-0.029923</td>\n",
       "      <td>0.014629</td>\n",
       "      <td>-0.010682</td>\n",
       "      <td>0.020226</td>\n",
       "      <td>0.002517</td>\n",
       "      <td>-0.002110</td>\n",
       "      <td>-0.001154</td>\n",
       "    </tr>\n",
       "    <tr>\n",
       "      <th>4</th>\n",
       "      <td>0.026642</td>\n",
       "      <td>0.087281</td>\n",
       "      <td>-0.005336</td>\n",
       "      <td>-0.009708</td>\n",
       "      <td>1.000000</td>\n",
       "      <td>-0.003019</td>\n",
       "      <td>0.017177</td>\n",
       "      <td>0.002468</td>\n",
       "      <td>-0.013976</td>\n",
       "      <td>0.011118</td>\n",
       "      <td>0.024503</td>\n",
       "      <td>-0.005479</td>\n",
       "      <td>0.010476</td>\n",
       "      <td>-0.025277</td>\n",
       "      <td>-0.021737</td>\n",
       "      <td>0.031859</td>\n",
       "      <td>-0.028018</td>\n",
       "    </tr>\n",
       "    <tr>\n",
       "      <th>5</th>\n",
       "      <td>-0.002331</td>\n",
       "      <td>-0.009601</td>\n",
       "      <td>0.017785</td>\n",
       "      <td>-0.005041</td>\n",
       "      <td>-0.003019</td>\n",
       "      <td>1.000000</td>\n",
       "      <td>-0.007031</td>\n",
       "      <td>-0.003206</td>\n",
       "      <td>0.014957</td>\n",
       "      <td>-0.011246</td>\n",
       "      <td>0.009613</td>\n",
       "      <td>-0.024040</td>\n",
       "      <td>0.001361</td>\n",
       "      <td>0.016178</td>\n",
       "      <td>-0.009276</td>\n",
       "      <td>0.001170</td>\n",
       "      <td>0.022651</td>\n",
       "    </tr>\n",
       "    <tr>\n",
       "      <th>6</th>\n",
       "      <td>-0.008184</td>\n",
       "      <td>-0.033130</td>\n",
       "      <td>0.010209</td>\n",
       "      <td>-0.000572</td>\n",
       "      <td>0.017177</td>\n",
       "      <td>-0.007031</td>\n",
       "      <td>1.000000</td>\n",
       "      <td>0.010292</td>\n",
       "      <td>-0.025498</td>\n",
       "      <td>0.013593</td>\n",
       "      <td>-0.011206</td>\n",
       "      <td>-0.003138</td>\n",
       "      <td>-0.000742</td>\n",
       "      <td>0.013252</td>\n",
       "      <td>0.010840</td>\n",
       "      <td>0.005270</td>\n",
       "      <td>-0.044953</td>\n",
       "    </tr>\n",
       "    <tr>\n",
       "      <th>7</th>\n",
       "      <td>-0.015349</td>\n",
       "      <td>-0.043492</td>\n",
       "      <td>-0.232733</td>\n",
       "      <td>-0.003425</td>\n",
       "      <td>0.002468</td>\n",
       "      <td>-0.003206</td>\n",
       "      <td>0.010292</td>\n",
       "      <td>1.000000</td>\n",
       "      <td>-0.577788</td>\n",
       "      <td>-0.578230</td>\n",
       "      <td>0.002618</td>\n",
       "      <td>0.006770</td>\n",
       "      <td>0.008964</td>\n",
       "      <td>-0.018793</td>\n",
       "      <td>-0.004034</td>\n",
       "      <td>0.017454</td>\n",
       "      <td>-0.037345</td>\n",
       "    </tr>\n",
       "    <tr>\n",
       "      <th>8</th>\n",
       "      <td>0.021119</td>\n",
       "      <td>0.049502</td>\n",
       "      <td>0.407074</td>\n",
       "      <td>0.016986</td>\n",
       "      <td>-0.013976</td>\n",
       "      <td>0.014957</td>\n",
       "      <td>-0.025498</td>\n",
       "      <td>-0.577788</td>\n",
       "      <td>1.000000</td>\n",
       "      <td>-0.331811</td>\n",
       "      <td>-0.004179</td>\n",
       "      <td>-0.005136</td>\n",
       "      <td>-0.009648</td>\n",
       "      <td>0.019059</td>\n",
       "      <td>0.026452</td>\n",
       "      <td>-0.044572</td>\n",
       "      <td>0.050256</td>\n",
       "    </tr>\n",
       "    <tr>\n",
       "      <th>9</th>\n",
       "      <td>-0.003370</td>\n",
       "      <td>0.000785</td>\n",
       "      <td>-0.137926</td>\n",
       "      <td>-0.013020</td>\n",
       "      <td>0.011118</td>\n",
       "      <td>-0.011246</td>\n",
       "      <td>0.013593</td>\n",
       "      <td>-0.578230</td>\n",
       "      <td>-0.331811</td>\n",
       "      <td>1.000000</td>\n",
       "      <td>0.001151</td>\n",
       "      <td>-0.002691</td>\n",
       "      <td>-0.000717</td>\n",
       "      <td>0.002669</td>\n",
       "      <td>-0.021780</td>\n",
       "      <td>0.024382</td>\n",
       "      <td>-0.007073</td>\n",
       "    </tr>\n",
       "    <tr>\n",
       "      <th>10</th>\n",
       "      <td>-0.004348</td>\n",
       "      <td>0.006125</td>\n",
       "      <td>0.020660</td>\n",
       "      <td>-0.029923</td>\n",
       "      <td>0.024503</td>\n",
       "      <td>0.009613</td>\n",
       "      <td>-0.011206</td>\n",
       "      <td>0.002618</td>\n",
       "      <td>-0.004179</td>\n",
       "      <td>0.001151</td>\n",
       "      <td>1.000000</td>\n",
       "      <td>-0.272502</td>\n",
       "      <td>-0.271856</td>\n",
       "      <td>-0.239721</td>\n",
       "      <td>0.041215</td>\n",
       "      <td>-0.038898</td>\n",
       "      <td>-0.006780</td>\n",
       "    </tr>\n",
       "    <tr>\n",
       "      <th>11</th>\n",
       "      <td>0.002380</td>\n",
       "      <td>-0.000606</td>\n",
       "      <td>-0.009809</td>\n",
       "      <td>0.014629</td>\n",
       "      <td>-0.005479</td>\n",
       "      <td>-0.024040</td>\n",
       "      <td>-0.003138</td>\n",
       "      <td>0.006770</td>\n",
       "      <td>-0.005136</td>\n",
       "      <td>-0.002691</td>\n",
       "      <td>-0.272502</td>\n",
       "      <td>1.000000</td>\n",
       "      <td>-0.431346</td>\n",
       "      <td>-0.380360</td>\n",
       "      <td>-0.016658</td>\n",
       "      <td>0.016100</td>\n",
       "      <td>0.001685</td>\n",
       "    </tr>\n",
       "    <tr>\n",
       "      <th>12</th>\n",
       "      <td>-0.002724</td>\n",
       "      <td>0.004724</td>\n",
       "      <td>-0.009807</td>\n",
       "      <td>-0.010682</td>\n",
       "      <td>0.010476</td>\n",
       "      <td>0.001361</td>\n",
       "      <td>-0.000742</td>\n",
       "      <td>0.008964</td>\n",
       "      <td>-0.009648</td>\n",
       "      <td>-0.000717</td>\n",
       "      <td>-0.271856</td>\n",
       "      <td>-0.431346</td>\n",
       "      <td>1.000000</td>\n",
       "      <td>-0.379457</td>\n",
       "      <td>-0.004504</td>\n",
       "      <td>0.003141</td>\n",
       "      <td>0.003830</td>\n",
       "    </tr>\n",
       "    <tr>\n",
       "      <th>13</th>\n",
       "      <td>0.003910</td>\n",
       "      <td>-0.009356</td>\n",
       "      <td>0.003909</td>\n",
       "      <td>0.020226</td>\n",
       "      <td>-0.025277</td>\n",
       "      <td>0.016178</td>\n",
       "      <td>0.013252</td>\n",
       "      <td>-0.018793</td>\n",
       "      <td>0.019059</td>\n",
       "      <td>0.002669</td>\n",
       "      <td>-0.239721</td>\n",
       "      <td>-0.380360</td>\n",
       "      <td>-0.379457</td>\n",
       "      <td>1.000000</td>\n",
       "      <td>-0.011223</td>\n",
       "      <td>0.011365</td>\n",
       "      <td>-0.000305</td>\n",
       "    </tr>\n",
       "    <tr>\n",
       "      <th>14</th>\n",
       "      <td>-0.014175</td>\n",
       "      <td>0.067798</td>\n",
       "      <td>0.352133</td>\n",
       "      <td>0.002517</td>\n",
       "      <td>-0.021737</td>\n",
       "      <td>-0.009276</td>\n",
       "      <td>0.010840</td>\n",
       "      <td>-0.004034</td>\n",
       "      <td>0.026452</td>\n",
       "      <td>-0.021780</td>\n",
       "      <td>0.041215</td>\n",
       "      <td>-0.016658</td>\n",
       "      <td>-0.004504</td>\n",
       "      <td>-0.011223</td>\n",
       "      <td>1.000000</td>\n",
       "      <td>-0.935726</td>\n",
       "      <td>-0.186953</td>\n",
       "    </tr>\n",
       "    <tr>\n",
       "      <th>15</th>\n",
       "      <td>0.014580</td>\n",
       "      <td>-0.095786</td>\n",
       "      <td>-0.353443</td>\n",
       "      <td>-0.002110</td>\n",
       "      <td>0.031859</td>\n",
       "      <td>0.001170</td>\n",
       "      <td>0.005270</td>\n",
       "      <td>0.017454</td>\n",
       "      <td>-0.044572</td>\n",
       "      <td>0.024382</td>\n",
       "      <td>-0.038898</td>\n",
       "      <td>0.016100</td>\n",
       "      <td>0.003141</td>\n",
       "      <td>0.011365</td>\n",
       "      <td>-0.935726</td>\n",
       "      <td>1.000000</td>\n",
       "      <td>-0.171571</td>\n",
       "    </tr>\n",
       "    <tr>\n",
       "      <th>16</th>\n",
       "      <td>-0.001013</td>\n",
       "      <td>0.077410</td>\n",
       "      <td>0.000849</td>\n",
       "      <td>-0.001154</td>\n",
       "      <td>-0.028018</td>\n",
       "      <td>0.022651</td>\n",
       "      <td>-0.044953</td>\n",
       "      <td>-0.037345</td>\n",
       "      <td>0.050256</td>\n",
       "      <td>-0.007073</td>\n",
       "      <td>-0.006780</td>\n",
       "      <td>0.001685</td>\n",
       "      <td>0.003830</td>\n",
       "      <td>-0.000305</td>\n",
       "      <td>-0.186953</td>\n",
       "      <td>-0.171571</td>\n",
       "      <td>1.000000</td>\n",
       "    </tr>\n",
       "  </tbody>\n",
       "</table>\n",
       "</div>"
      ],
      "text/plain": [
       "          0         1         2         3         4         5         6   \\\n",
       "0   1.000000  0.011537  0.012252 -0.002035  0.026642 -0.002331 -0.008184   \n",
       "1   0.011537  1.000000  0.030800  0.005244  0.087281 -0.009601 -0.033130   \n",
       "2   0.012252  0.030800  1.000000 -0.007931 -0.005336  0.017785  0.010209   \n",
       "3  -0.002035  0.005244 -0.007931  1.000000 -0.009708 -0.005041 -0.000572   \n",
       "4   0.026642  0.087281 -0.005336 -0.009708  1.000000 -0.003019  0.017177   \n",
       "5  -0.002331 -0.009601  0.017785 -0.005041 -0.003019  1.000000 -0.007031   \n",
       "6  -0.008184 -0.033130  0.010209 -0.000572  0.017177 -0.007031  1.000000   \n",
       "7  -0.015349 -0.043492 -0.232733 -0.003425  0.002468 -0.003206  0.010292   \n",
       "8   0.021119  0.049502  0.407074  0.016986 -0.013976  0.014957 -0.025498   \n",
       "9  -0.003370  0.000785 -0.137926 -0.013020  0.011118 -0.011246  0.013593   \n",
       "10 -0.004348  0.006125  0.020660 -0.029923  0.024503  0.009613 -0.011206   \n",
       "11  0.002380 -0.000606 -0.009809  0.014629 -0.005479 -0.024040 -0.003138   \n",
       "12 -0.002724  0.004724 -0.009807 -0.010682  0.010476  0.001361 -0.000742   \n",
       "13  0.003910 -0.009356  0.003909  0.020226 -0.025277  0.016178  0.013252   \n",
       "14 -0.014175  0.067798  0.352133  0.002517 -0.021737 -0.009276  0.010840   \n",
       "15  0.014580 -0.095786 -0.353443 -0.002110  0.031859  0.001170  0.005270   \n",
       "16 -0.001013  0.077410  0.000849 -0.001154 -0.028018  0.022651 -0.044953   \n",
       "\n",
       "          7         8         9         10        11        12        13  \\\n",
       "0  -0.015349  0.021119 -0.003370 -0.004348  0.002380 -0.002724  0.003910   \n",
       "1  -0.043492  0.049502  0.000785  0.006125 -0.000606  0.004724 -0.009356   \n",
       "2  -0.232733  0.407074 -0.137926  0.020660 -0.009809 -0.009807  0.003909   \n",
       "3  -0.003425  0.016986 -0.013020 -0.029923  0.014629 -0.010682  0.020226   \n",
       "4   0.002468 -0.013976  0.011118  0.024503 -0.005479  0.010476 -0.025277   \n",
       "5  -0.003206  0.014957 -0.011246  0.009613 -0.024040  0.001361  0.016178   \n",
       "6   0.010292 -0.025498  0.013593 -0.011206 -0.003138 -0.000742  0.013252   \n",
       "7   1.000000 -0.577788 -0.578230  0.002618  0.006770  0.008964 -0.018793   \n",
       "8  -0.577788  1.000000 -0.331811 -0.004179 -0.005136 -0.009648  0.019059   \n",
       "9  -0.578230 -0.331811  1.000000  0.001151 -0.002691 -0.000717  0.002669   \n",
       "10  0.002618 -0.004179  0.001151  1.000000 -0.272502 -0.271856 -0.239721   \n",
       "11  0.006770 -0.005136 -0.002691 -0.272502  1.000000 -0.431346 -0.380360   \n",
       "12  0.008964 -0.009648 -0.000717 -0.271856 -0.431346  1.000000 -0.379457   \n",
       "13 -0.018793  0.019059  0.002669 -0.239721 -0.380360 -0.379457  1.000000   \n",
       "14 -0.004034  0.026452 -0.021780  0.041215 -0.016658 -0.004504 -0.011223   \n",
       "15  0.017454 -0.044572  0.024382 -0.038898  0.016100  0.003141  0.011365   \n",
       "16 -0.037345  0.050256 -0.007073 -0.006780  0.001685  0.003830 -0.000305   \n",
       "\n",
       "          14        15        16  \n",
       "0  -0.014175  0.014580 -0.001013  \n",
       "1   0.067798 -0.095786  0.077410  \n",
       "2   0.352133 -0.353443  0.000849  \n",
       "3   0.002517 -0.002110 -0.001154  \n",
       "4  -0.021737  0.031859 -0.028018  \n",
       "5  -0.009276  0.001170  0.022651  \n",
       "6   0.010840  0.005270 -0.044953  \n",
       "7  -0.004034  0.017454 -0.037345  \n",
       "8   0.026452 -0.044572  0.050256  \n",
       "9  -0.021780  0.024382 -0.007073  \n",
       "10  0.041215 -0.038898 -0.006780  \n",
       "11 -0.016658  0.016100  0.001685  \n",
       "12 -0.004504  0.003141  0.003830  \n",
       "13 -0.011223  0.011365 -0.000305  \n",
       "14  1.000000 -0.935726 -0.186953  \n",
       "15 -0.935726  1.000000 -0.171571  \n",
       "16 -0.186953 -0.171571  1.000000  "
      ]
     },
     "execution_count": 54,
     "metadata": {},
     "output_type": "execute_result"
    }
   ],
   "source": [
    "x_train.corr()"
   ]
  },
  {
   "cell_type": "markdown",
   "metadata": {},
   "source": [
    "# 4. Model Paramter tunning"
   ]
  },
  {
   "cell_type": "code",
   "execution_count": 55,
   "metadata": {},
   "outputs": [],
   "source": [
    "from sklearn.model_selection import GridSearchCV"
   ]
  },
  {
   "cell_type": "markdown",
   "metadata": {},
   "source": [
    "## 4.1 Logistic regretion"
   ]
  },
  {
   "cell_type": "markdown",
   "metadata": {},
   "source": [
    "For LR best parameters different from defaut is\n",
    "* 'multi_class': 'ovr'\n",
    "* 'penalty': 'l1'\n",
    "* 'solver': 'liblinear'\n",
    "slight improvement in performance"
   ]
  },
  {
   "cell_type": "code",
   "execution_count": 56,
   "metadata": {},
   "outputs": [],
   "source": [
    "# #grid search\n",
    "# param_grid={'penalty': ('l1','l2','elasticnet'),\n",
    "#            'solver':('newton-cg', 'lbfgs', 'liblinear', 'sag', 'saga'),\n",
    "#            'multi_class':('ovr','multinomial')}\n",
    "\n",
    "# LR=LogisticRegression()\n",
    "\n",
    "# LR_cv=GridSearchCV(LR,param_grid,cv=4,error_score=np.nan)\n",
    "\n",
    "# LR_cv.fit(x_train,y_train)"
   ]
  },
  {
   "cell_type": "code",
   "execution_count": 57,
   "metadata": {},
   "outputs": [],
   "source": [
    "# print(LR_cv.best_params_)\n",
    "# print(LR_cv.best_score_)\n"
   ]
  },
  {
   "cell_type": "code",
   "execution_count": 58,
   "metadata": {},
   "outputs": [],
   "source": [
    "old_LR=LogisticRegression(solver='lbfgs')\n",
    "new_LR=LogisticRegression(multi_class='ovr',solver='liblinear',penalty='l1')\n",
    "model={\"old_LR\":old_LR,\"new_LR\":new_LR}\n",
    "dataset={'Train':[x_train,y_train]}"
   ]
  },
  {
   "cell_type": "code",
   "execution_count": 59,
   "metadata": {},
   "outputs": [
    {
     "name": "stdout",
     "output_type": "stream",
     "text": [
      "old_LR\n",
      "Train Avg Acc: 83.51\n",
      "Train Avg Recall: 35.67\n",
      "Train Avg percision: 68.74\n",
      "run time:0.12407302856445312\n",
      "new_LR\n",
      "Train Avg Acc: 83.53\n",
      "Train Avg Recall: 35.68\n",
      "Train Avg percision: 68.85\n",
      "run time:1.0211296081542969\n"
     ]
    }
   ],
   "source": [
    "train_performance(model,dataset)"
   ]
  },
  {
   "cell_type": "markdown",
   "metadata": {},
   "source": [
    "## 4.2 SVM\n",
    "\n",
    "from [svm documentation](https://scikit-learn.org/stable/modules/svm.html) there are 3 method to use for SVM classifivation\n",
    "\n",
    "* sklearn.svm.SVC\n",
    "* sklearn.svm.NuSVC : specified nu is infeasible\n",
    "* sklearn.svm.LinearSVC\n"
   ]
  },
  {
   "cell_type": "markdown",
   "metadata": {},
   "source": [
    "### A. SVC"
   ]
  },
  {
   "cell_type": "markdown",
   "metadata": {},
   "source": [
    "- don't change the C: penalty parameter for error term\n",
    "how much I don't want to get misclassified data. larger c get better training score (be careful for the overfitting)\n",
    "\n",
    "- check 'tol':(1e-3,1e-4,1e-5) \n",
    "\n",
    "After the search I realize that the performance is better in the default option with\n",
    "\n",
    "* kernel: 'rbf'\n",
    "* decision_function_shape: 'ovr'\n",
    "* C: 1\n",
    "* tol: 1e-3"
   ]
  },
  {
   "cell_type": "code",
   "execution_count": 60,
   "metadata": {},
   "outputs": [],
   "source": [
    "# #grid search\n",
    "# param_grid={'degree': (1,2,3),\n",
    "#            'kernel':('linear', 'poly', 'rbf', 'sigmoid'),\n",
    "#            'shrinking':(True,False),\n",
    "#             'decision_function_shape':('ovr','ovo')}\n",
    "\n",
    "# SVC_model=svm.SVC()\n",
    "\n",
    "# SVC_cv=GridSearchCV(SVC_model,param_grid,cv=4,error_score=np.nan)\n",
    "\n",
    "# SVC_cv.fit(x_train,y_train)"
   ]
  },
  {
   "cell_type": "code",
   "execution_count": 61,
   "metadata": {},
   "outputs": [],
   "source": [
    "# print(SVC_cv.best_params_)\n",
    "# print(SVC_cv.best_score_)"
   ]
  },
  {
   "cell_type": "markdown",
   "metadata": {},
   "source": [
    "### B. LinearSVC"
   ]
  },
  {
   "cell_type": "markdown",
   "metadata": {},
   "source": [
    "after checking the default setting seems to work the best.\n",
    "\n",
    "{'fit_intercept': True, 'loss': 'squared_hinge', 'multi_class': 'ovr', 'penalty': 'l2'}"
   ]
  },
  {
   "cell_type": "code",
   "execution_count": 62,
   "metadata": {},
   "outputs": [],
   "source": [
    "# #grid search\n",
    "\n",
    "# param_grid={'penalty': ('l2','l1'),\n",
    "#             'loss':('squared_hinge','hinge'),\n",
    "#             'multi_class':('ovr','crammer_singer')}\n",
    "\n",
    "\n",
    "# linSVC_model=svm.LinearSVC()\n",
    "# linSVC_cv=GridSearchCV(linSVC_model,param_grid,cv=4,error_score=np.nan)\n",
    "# linSVC_cv.fit(x_train,y_train)"
   ]
  },
  {
   "cell_type": "code",
   "execution_count": 63,
   "metadata": {},
   "outputs": [],
   "source": [
    "# print(linSVC_cv.best_params_)\n",
    "# print(linSVC_cv.best_score_)"
   ]
  },
  {
   "cell_type": "markdown",
   "metadata": {},
   "source": [
    "## 4.3 GradientBoostingClassifier"
   ]
  },
  {
   "cell_type": "markdown",
   "metadata": {},
   "source": [
    "default\n",
    "\n",
    "* 'learning_rate': 0.1, \n",
    "* 'loss': 'deviance', \n",
    "* 'max_depth': 3, \n",
    "* 'max_features': None"
   ]
  },
  {
   "cell_type": "code",
   "execution_count": 64,
   "metadata": {},
   "outputs": [],
   "source": [
    "# #grid search\n",
    "# param_grid={'loss': ('deviance','exponential'),\n",
    "#             'max_depth':(3,4,5),\n",
    "#             'max_features':(None,int,float,\"squrt\",\"log2\")}\n",
    "\n",
    "# GB=GradientBoostingClassifier()\n",
    "# GB_cv=GridSearchCV(GB,param_grid,cv=4,error_score=np.nan)\n",
    "# GB_cv.fit(x_train,y_train)"
   ]
  },
  {
   "cell_type": "code",
   "execution_count": 65,
   "metadata": {},
   "outputs": [],
   "source": [
    "# print(GB_cv.best_params_)\n",
    "# print(GB_cv.best_score_)"
   ]
  },
  {
   "cell_type": "code",
   "execution_count": 66,
   "metadata": {},
   "outputs": [],
   "source": [
    "old_GB=GradientBoostingClassifier()\n",
    "new_GB=GradientBoostingClassifier(loss='exponential',max_depth=5,max_features= None)\n",
    "model={\"old\":old_GB,\"new\":new_GB}\n",
    "dataset={'Train':[x_train,y_train]}"
   ]
  },
  {
   "cell_type": "code",
   "execution_count": 67,
   "metadata": {},
   "outputs": [
    {
     "name": "stdout",
     "output_type": "stream",
     "text": [
      "old\n",
      "Train Avg Acc: 86.0\n",
      "Train Avg Recall: 45.93\n",
      "Train Avg percision: 76.25\n",
      "run time:3.498051881790161\n",
      "new\n",
      "Train Avg Acc: 85.8\n",
      "Train Avg Recall: 46.85\n",
      "Train Avg percision: 74.34\n",
      "run time:6.210970163345337\n"
     ]
    }
   ],
   "source": [
    "train_performance(model,dataset)"
   ]
  },
  {
   "cell_type": "markdown",
   "metadata": {},
   "source": [
    "## 4.4 RandomForestClassifier"
   ]
  },
  {
   "cell_type": "markdown",
   "metadata": {},
   "source": [
    "* 'criterion': 'entropy', "
   ]
  },
  {
   "cell_type": "code",
   "execution_count": 68,
   "metadata": {},
   "outputs": [],
   "source": [
    "# #grid search\n",
    "# param_grid={\n",
    "#     'criterion':('gini','entropy'),\n",
    "#     'max_features':(\"squrt\",None,\"log2\",'auto'),\n",
    "#     'class_weight':(None,'balanced','balanced_subsample')\n",
    "# }\n",
    "\n",
    "# RF=RandomForestClassifier()\n",
    "# RF_cv=GridSearchCV(RF,param_grid,cv=4,error_score=np.nan)\n",
    "# RF_cv.fit(x_train,y_train)"
   ]
  },
  {
   "cell_type": "code",
   "execution_count": 69,
   "metadata": {},
   "outputs": [],
   "source": [
    "# print(RF_cv.best_params_)\n",
    "# print(RF_cv.best_score_)"
   ]
  },
  {
   "cell_type": "code",
   "execution_count": 70,
   "metadata": {},
   "outputs": [],
   "source": [
    "old_RF=RandomForestClassifier()\n",
    "new_RF=RandomForestClassifier(criterion='entropy')\n",
    "#new_RF=RandomForestClassifier(class_weight='balanced',criterion='entropy',max_features='log2')\n",
    "\n",
    "model={\"old\":old_RF,\"new\":new_RF}\n",
    "dataset={'Train':[x_train,y_train]}"
   ]
  },
  {
   "cell_type": "code",
   "execution_count": 71,
   "metadata": {},
   "outputs": [
    {
     "name": "stdout",
     "output_type": "stream",
     "text": [
      "old\n",
      "Train Avg Acc: 85.14\n",
      "Train Avg Recall: 43.52\n",
      "Train Avg percision: 73.27\n",
      "run time:0.44643068313598633\n",
      "new\n",
      "Train Avg Acc: 84.9\n",
      "Train Avg Recall: 41.53\n",
      "Train Avg percision: 73.09\n",
      "run time:0.5735137462615967\n"
     ]
    }
   ],
   "source": [
    "train_performance(model,dataset)"
   ]
  },
  {
   "cell_type": "markdown",
   "metadata": {},
   "source": [
    "## 4.5 KNeighborsCalssifier (KNN)"
   ]
  },
  {
   "cell_type": "markdown",
   "metadata": {},
   "source": [
    "* leaf_size\n",
    "\n",
    "\n",
    "{'algorithm': 'auto', 'n_neighbors': 5, 'p': 1, 'weights': 'uniform'}\n",
    "0.8255714285714286"
   ]
  },
  {
   "cell_type": "code",
   "execution_count": 72,
   "metadata": {},
   "outputs": [],
   "source": [
    "# #grid search\n",
    "# param_grid={\n",
    "#     'n_neighbors':(5,4,3),\n",
    "#     'weights':('uniform','distance'),\n",
    "#     'algorithm':('auto','ball_tree','kd_tree','brute'),\n",
    "#     'p':(1,2)#1:l1, 2:l2    \n",
    "# }\n",
    "# # param_grid={\n",
    "# #     'leaf_size':range(31),\n",
    "# #     'p':(1,2)#1:l1, 2:l2    \n",
    "# # }\n",
    "# KNN=KNeighborsClassifier()\n",
    "# KNN_cv=GridSearchCV(KNN,param_grid,cv=3,error_score=np.nan)\n",
    "# KNN_cv.fit(x_train,y_train)"
   ]
  },
  {
   "cell_type": "code",
   "execution_count": 73,
   "metadata": {},
   "outputs": [],
   "source": [
    "# print(KNN_cv.best_params_)\n",
    "# print(KNN_cv.best_score_)"
   ]
  },
  {
   "cell_type": "code",
   "execution_count": 74,
   "metadata": {},
   "outputs": [],
   "source": [
    "old_KNN=KNeighborsClassifier()\n",
    "new_KNN=KNeighborsClassifier(leaf_size=1,p=1)\n",
    "\n",
    "model={\"old\":old_KNN,\"new\":new_KNN}"
   ]
  },
  {
   "cell_type": "code",
   "execution_count": 75,
   "metadata": {},
   "outputs": [
    {
     "name": "stdout",
     "output_type": "stream",
     "text": [
      "old\n",
      "Train Avg Acc: 82.4\n",
      "Train Avg Recall: 37.29\n",
      "Train Avg percision: 61.51\n",
      "run time:2.3196945190429688\n",
      "new\n",
      "Train Avg Acc: 82.51\n",
      "Train Avg Recall: 37.69\n",
      "Train Avg percision: 61.94\n",
      "run time:3.5329084396362305\n"
     ]
    }
   ],
   "source": [
    "train_performance(model,dataset)"
   ]
  },
  {
   "cell_type": "markdown",
   "metadata": {
    "heading_collapsed": true
   },
   "source": [
    "## 4.6 ANN"
   ]
  },
  {
   "cell_type": "markdown",
   "metadata": {
    "hidden": true
   },
   "source": [
    "* H=12: The number of hidden neurons should be 2/3 the size of the input layer, plus the size of the output layer.\n",
    "\n",
    "one hidden: (17+1)*2/3=12"
   ]
  },
  {
   "cell_type": "code",
   "execution_count": 76,
   "metadata": {
    "hidden": true
   },
   "outputs": [
    {
     "name": "stdout",
     "output_type": "stream",
     "text": [
      "two hidden layer\n",
      " Acc: 85.44\n",
      " Recall: 44.34\n",
      " percision: 74.1\n"
     ]
    }
   ],
   "source": [
    "#0 standard\n",
    "print(\"two hidden layer\")\n",
    "\n",
    "H=12\n",
    "model = Sequential()\n",
    "#1 hidden layer\n",
    "model.add(Dense(H, activation = 'sigmoid', input_dim = x_train.shape[1]))\n",
    "#the output layer\n",
    "model.add(Dense(1, activation = 'sigmoid'))\n",
    "#compile the model --> backpropagation -> gradient descent\n",
    "model.compile(optimizer = 'Adam', loss = \"binary_crossentropy\", metrics = ['accuracy'])\n",
    "model.fit(x_train,y_train, batch_size=10, epochs=15,verbose=0) \n",
    "\n",
    "ypredict=model.predict(x_train)\n",
    "ypredict=pd.DataFrame((ypredict>0.5)*1)\n",
    "perform_list=acc_recall_precision_rate(ypredict,y_train)\n",
    "\n",
    "print(\" Acc: \"+str(round(perform_list[0]*100,2)))\n",
    "print(\" Recall: \"+str(round(perform_list[1]*100,2)))\n",
    "print(\" percision: \"+str(round(perform_list[2]*100,2)))\n"
   ]
  },
  {
   "cell_type": "markdown",
   "metadata": {
    "hidden": true
   },
   "source": [
    "### 4.6.1 choose activation for both (input+hidden, output)"
   ]
  },
  {
   "cell_type": "markdown",
   "metadata": {
    "hidden": true
   },
   "source": [
    "* A1: relu\n",
    "* A2: sigmoid"
   ]
  },
  {
   "cell_type": "code",
   "execution_count": 77,
   "metadata": {
    "hidden": true
   },
   "outputs": [],
   "source": [
    "activations=['sigmoid','tanh','relu','softmax','linear']\n",
    "#activations=['sigmoid','tanh','relu']"
   ]
  },
  {
   "cell_type": "code",
   "execution_count": 78,
   "metadata": {
    "hidden": true
   },
   "outputs": [],
   "source": [
    "# for i in range(len(activations)):\n",
    "#     for j in range(len(activations)):\n",
    "        \n",
    "#         H=12\n",
    "#         model = Sequential()\n",
    "#         #1 hidden layer\n",
    "#         model.add(Dense(H, activation = activations[i], input_dim = x_train.shape[1]))\n",
    "#         #the output layer\n",
    "#         model.add(Dense(1, activation = activations[j]))\n",
    "#         #compile the model --> backpropagation -> gradient descent\n",
    "#         model.compile(optimizer = 'Adam', loss = \"binary_crossentropy\", metrics = ['accuracy'])\n",
    "#         model.fit(x_train,y_train, batch_size=10, epochs=15,verbose=0) \n",
    "\n",
    "#         ypredict=model.predict(x_train)\n",
    "#         ypredict=pd.DataFrame((ypredict>0.5)*1)\n",
    "#         perform_list=acc_recall_precision_rate(ypredict,y_train)\n",
    "#         if perform_list[0]>.85 and perform_list[1] >.4 :\n",
    "#             print(\"A1: \", activations[i])\n",
    "#             print(\"A2: \", activations[j])\n",
    "#             print(\" Acc: \"+str(round(perform_list[0]*100,2)))\n",
    "#             print(\" Recall: \"+str(round(perform_list[1]*100,2)))\n",
    "#             print(\" percision: \"+str(round(perform_list[2]*100,2)))\n",
    "#             print(\"score: \"+str(round(perform_list[0]*perform_list[1]*100,2)))"
   ]
  },
  {
   "cell_type": "markdown",
   "metadata": {
    "hidden": true
   },
   "source": [
    "### 4.6.2 choose optimizer (before output and output)\n"
   ]
  },
  {
   "cell_type": "markdown",
   "metadata": {
    "hidden": true
   },
   "source": [
    "* optimizer: adam"
   ]
  },
  {
   "cell_type": "code",
   "execution_count": 79,
   "metadata": {
    "hidden": true
   },
   "outputs": [],
   "source": [
    "##choose an optimizer\n",
    "optimizer=['Adam','SGD','Adagrad','Adadelta','RMSprop']"
   ]
  },
  {
   "cell_type": "code",
   "execution_count": 80,
   "metadata": {
    "hidden": true
   },
   "outputs": [],
   "source": [
    "# for i in range(len(optimizer)):\n",
    "#     print(optimizer[i])\n",
    "#     H=12\n",
    "#     model = Sequential()\n",
    "#     #1 hidden layer\n",
    "#     model.add(Dense(H, activation = 'relu', input_dim = x_train.shape[1]))\n",
    "#     #the output layer\n",
    "#     model.add(Dense(1, activation = 'sigmoid'))\n",
    "#     #compile the model --> backpropagation -> gradient descent\n",
    "#     model.compile(optimizer = optimizer[i], loss = \"binary_crossentropy\", metrics = ['accuracy'])\n",
    "#     model.fit(x_train,y_train, batch_size=10, epochs=15,verbose=0) \n",
    "\n",
    "#     ypredict=model.predict(x_train)\n",
    "#     ypredict=pd.DataFrame((ypredict>0.5)*1)\n",
    "#     perform_list=acc_recall_precision_rate(ypredict,y_train)\n",
    "\n",
    "#     print(\"  Acc: \"+str(round(perform_list[0]*100,2)))\n",
    "#     print(\"  Recall: \"+str(round(perform_list[1]*100,2)))\n",
    "#     print(\"  percision: \"+str(round(perform_list[2]*100,2)))\n",
    "#     print(\"score: \"+str(round(perform_list[0]*perform_list[1]*100,2)))"
   ]
  },
  {
   "cell_type": "markdown",
   "metadata": {
    "heading_collapsed": true,
    "hidden": true
   },
   "source": [
    "### 4.6.3 choose a loss function\n",
    "in compile stage: binary_crossentropy"
   ]
  },
  {
   "cell_type": "code",
   "execution_count": 81,
   "metadata": {
    "hidden": true
   },
   "outputs": [],
   "source": [
    "#choose loss\n",
    "losses=['binary_crossentropy','hinge','squared_hinge']\n",
    "#binary_crossentropy"
   ]
  },
  {
   "cell_type": "code",
   "execution_count": 82,
   "metadata": {
    "hidden": true
   },
   "outputs": [],
   "source": [
    "# for i in range(len(losses)):\n",
    "#     print(losses[i])\n",
    "#     H=12\n",
    "\n",
    "#     model = Sequential()\n",
    "#     #2 hidden layer\n",
    "#     model.add(Dense(H, activation = 'relu', input_dim = x_train.shape[1]))\n",
    "#     model.add(Dense(H, activation = 'relu'))\n",
    "#     #the output layer\n",
    "#     model.add(Dense(1, activation = 'sigmoid'))\n",
    "#     #compile the model --> backpropagation -> gradient descent\n",
    "#     model.compile(optimizer = 'Adam', loss = losses[i], metrics = ['accuracy'])\n",
    "#     model.fit(x_train,y_train, batch_size=20, epochs=15,verbose=0) \n",
    "\n",
    "#     ypredict=model.predict(x_train)\n",
    "#     ypredict=pd.DataFrame((ypredict>0.5)*1)\n",
    "#     perform_list=acc_recall_precision_rate(ypredict,y_train)\n",
    "\n",
    "\n",
    "#     print(\"  Acc: \"+str(round(perform_list[0]*100,2)))\n",
    "#     print(\"  Recall: \"+str(round(perform_list[1]*100,2)))\n",
    "#     print(\"  percision: \"+str(round(perform_list[2]*100,2)))\n",
    "#     print(\"score: \"+str(round(perform_list[0]*perform_list[1]*100,2)))"
   ]
  },
  {
   "cell_type": "markdown",
   "metadata": {
    "heading_collapsed": true,
    "hidden": true
   },
   "source": [
    "### 4.6.4 choose initializers for kernal and bias\n",
    "\n",
    "2 hidden layer function better.\n",
    "\n",
    "Default: kernel_initializer='glorot_uniform', bias_initializer='zeros'"
   ]
  },
  {
   "cell_type": "markdown",
   "metadata": {
    "hidden": true
   },
   "source": [
    "* K: glorot_normal\n",
    "* B: glorot_uniform"
   ]
  },
  {
   "cell_type": "code",
   "execution_count": 83,
   "metadata": {
    "hidden": true
   },
   "outputs": [],
   "source": [
    "#choose kernel_initializer and bias_initializer\n",
    "initializers=['glorot_normal','zeros','ones','glorot_uniform']"
   ]
  },
  {
   "cell_type": "code",
   "execution_count": 84,
   "metadata": {
    "hidden": true
   },
   "outputs": [],
   "source": [
    "# #for kernel_initializer\n",
    "# for i in range(len(initializers)):\n",
    "#     H=12\n",
    "#     model = Sequential()\n",
    "#     #1 hidden layer\n",
    "#     model.add(Dense(H, activation = 'relu', input_dim = x_train.shape[1],kernel_initializer=initializers[i]))\n",
    "\n",
    "#     #the output layer\n",
    "#     model.add(Dense(1, activation = 'sigmoid',kernel_initializer=initializers[i]))\n",
    "#     #compile the model --> backpropagation -> gradient descent\n",
    "#     model.compile(optimizer = 'Adam', loss = 'binary_crossentropy', metrics = ['accuracy'])\n",
    "#     model.fit(x_train,y_train, batch_size=20, epochs=15,verbose=0) \n",
    "\n",
    "#     ypredict=model.predict(x_train)\n",
    "#     ypredict=pd.DataFrame((ypredict>0.5)*1)\n",
    "#     perform_list=acc_recall_precision_rate(ypredict,y_train)\n",
    "    \n",
    "#     print(initializers[i])\n",
    "#     print(\"  Acc: \"+str(round(perform_list[0]*100,2)))\n",
    "#     print(\"  Recall: \"+str(round(perform_list[1]*100,2)))\n",
    "#     print(\"  percision: \"+str(round(perform_list[2]*100,2)))\n",
    "#     print(\"score: \"+str(round(perform_list[0]*perform_list[1]*100,2)))"
   ]
  },
  {
   "cell_type": "code",
   "execution_count": 85,
   "metadata": {
    "hidden": true
   },
   "outputs": [],
   "source": [
    "# # # #for bias_initializer\n",
    "# for i in range(len(initializers)):\n",
    "#     H=12\n",
    "#     model = Sequential()\n",
    "#     #1 hidden layer\n",
    "#     model.add(Dense(H, activation = 'relu', input_dim = x_train.shape[1],bias_initializer=initializers[i],kernel_initializer='glorot_normal'))\n",
    "#     #the output layer\n",
    "#     model.add(Dense(1, activation = 'sigmoid',bias_initializer=initializers[i],kernel_initializer='glorot_normal'))\n",
    "#     #compile the model --> backpropagation -> gradient descent\n",
    "#     model.compile(optimizer = 'Adam', loss = 'binary_crossentropy', metrics = ['accuracy'])\n",
    "#     model.fit(x_train,y_train, batch_size=20, epochs=15,verbose=0) \n",
    "\n",
    "#     ypredict=model.predict(x_train)\n",
    "#     ypredict=pd.DataFrame((ypredict>0.5)*1)\n",
    "#     perform_list=acc_recall_precision_rate(ypredict,y_train)\n",
    "    \n",
    "#     if perform_list[0]>.84:\n",
    "#         print(initializers[i])\n",
    "#         print(\"  Acc: \"+str(round(perform_list[0]*100,2)))\n",
    "#         print(\"  Recall: \"+str(round(perform_list[1]*100,2)))\n",
    "#         #print(\"  percision: \"+str(round(perform_list[2]*100,2)))\n",
    "#         print(\"score: \"+str(round(perform_list[0]*perform_list[1]*100,2)))"
   ]
  },
  {
   "cell_type": "markdown",
   "metadata": {
    "hidden": true
   },
   "source": [
    "### 4.6.5 One layer change batch_size and epochs"
   ]
  },
  {
   "cell_type": "markdown",
   "metadata": {
    "hidden": true
   },
   "source": [
    "should only stick to 1 or 2 layer, over 2 would lead to overfitting\n",
    "\n",
    "I decided to take (batch_size 32 and 20 epochs) with 2 layers"
   ]
  },
  {
   "cell_type": "code",
   "execution_count": 86,
   "metadata": {
    "hidden": true
   },
   "outputs": [],
   "source": [
    "# print(\"one layer\")\n",
    "# # for batch in (27,32,64):\n",
    "\n",
    "# start=time.time()\n",
    "# H=12\n",
    "# model = Sequential()\n",
    "# model.add(Dense(H, activation = 'relu', input_dim = x_train.shape[1],bias_initializer='glorot_uniform',kernel_initializer='glorot_normal'))\n",
    "# #the output layer\n",
    "# model.add(Dense(1, activation = 'sigmoid',bias_initializer='glorot_uniform',kernel_initializer='glorot_normal'))\n",
    "# #compile the model --> backpropagation -> gradient descent\n",
    "# model.compile(optimizer = 'Adam', loss = 'binary_crossentropy', metrics = ['accuracy'])\n",
    "# model.fit(x_train,y_train, batch_size=32, epochs=20) \n",
    "\n",
    "# ypredict=model.predict(x_train)\n",
    "# ypredict=pd.DataFrame((ypredict>0.5)*1)\n",
    "# perform_list=acc_recall_precision_rate(ypredict,y_train)\n",
    "# end=time.time()\n",
    "# print(\"  Acc: \"+str(round(perform_list[0]*100,2)))\n",
    "# print(\"  Recall: \"+str(round(perform_list[1]*100,2)))\n",
    "# #print(\"  percision: \"+str(round(perform_list[2]*100,2)))\n",
    "# print(\"score: \"+str(round(perform_list[0]*perform_list[1]*100,2)))\n",
    "# print(\"run time: \"+str(round(end-start,2)))\n",
    "\n",
    "\n",
    "# print(\"test:\")\n",
    "# ypredict=model.predict(x_validation)\n",
    "# ypredict=pd.DataFrame((ypredict>0.5)*1)\n",
    "# perform_list=acc_recall_precision_rate(ypredict,y_validation)\n",
    "# end=time.time()\n",
    "# print(\"  Acc: \"+str(round(perform_list[0]*100,2)))\n",
    "# print(\"  Recall: \"+str(round(perform_list[1]*100,2)))\n",
    "# #print(\"  percision: \"+str(round(perform_list[2]*100,2)))\n",
    "# print(\"score: \"+str(round(perform_list[0]*perform_list[1]*100,2)))"
   ]
  },
  {
   "cell_type": "code",
   "execution_count": 87,
   "metadata": {
    "hidden": true
   },
   "outputs": [],
   "source": [
    "# print(\"two layer\")\n",
    "# # for batch in (27,32,64):\n",
    "\n",
    "# start=time.time()\n",
    "# H=12\n",
    "# model = Sequential()\n",
    "# model.add(Dense(H, activation = 'relu', input_dim = x_train.shape[1],bias_initializer='glorot_uniform',kernel_initializer='glorot_normal'))\n",
    "# model.add(Dense(H,activation = 'relu',bias_initializer='glorot_uniform',kernel_initializer='glorot_normal'))\n",
    "\n",
    "# #the output layer\n",
    "# model.add(Dense(1, activation = 'sigmoid',bias_initializer='glorot_uniform',kernel_initializer='glorot_normal'))\n",
    "# #compile the model --> backpropagation -> gradient descent\n",
    "# model.compile(optimizer = 'Adam', loss = 'binary_crossentropy', metrics = ['accuracy'])\n",
    "# model.fit(x_train,y_train, batch_size=32, epochs=20) \n",
    "\n",
    "# ypredict=model.predict(x_train)\n",
    "# ypredict=pd.DataFrame((ypredict>0.5)*1)\n",
    "# perform_list=acc_recall_precision_rate(ypredict,y_train)\n",
    "# end=time.time()\n",
    "# print(\"  Acc: \"+str(round(perform_list[0]*100,2)))\n",
    "# print(\"  Recall: \"+str(round(perform_list[1]*100,2)))\n",
    "# #print(\"  percision: \"+str(round(perform_list[2]*100,2)))\n",
    "# print(\"score: \"+str(round(perform_list[0]*perform_list[1]*100,2)))\n",
    "# print(\"run time: \"+str(round(end-start,2)))\n",
    "\n",
    "\n",
    "# print(\"test:\")\n",
    "# ypredict=model.predict(x_validation)\n",
    "# ypredict=pd.DataFrame((ypredict>0.5)*1)\n",
    "# perform_list=acc_recall_precision_rate(ypredict,y_validation)\n",
    "# end=time.time()\n",
    "# print(\"  Acc: \"+str(round(perform_list[0]*100,2)))\n",
    "# print(\"  Recall: \"+str(round(perform_list[1]*100,2)))\n",
    "# #print(\"  percision: \"+str(round(perform_list[2]*100,2)))\n",
    "# print(\"score: \"+str(round(perform_list[0]*perform_list[1]*100,2)))"
   ]
  },
  {
   "cell_type": "markdown",
   "metadata": {},
   "source": [
    "# 5. Model Selection\n"
   ]
  },
  {
   "cell_type": "code",
   "execution_count": 88,
   "metadata": {},
   "outputs": [],
   "source": [
    "from sklearn.model_selection import cross_val_predict\n",
    "def validation_performance(fitted_model_dict,dataset_dict):\n",
    "    for mkey,mvalue in fitted_model_dict.items():\n",
    "        print(mkey)\n",
    "        for dkey,dvalue in dataset_dict.items():    \n",
    "            start=time.time()\n",
    "            x=dvalue[0]#validation x\n",
    "            y_true=dvalue[1]#validation y\n",
    "            ypredict=cross_val_predict(mvalue, x, y_true, cv=4, verbose=0)\n",
    "            perform_list=acc_recall_precision_rate(ypredict,y_true)\n",
    "\n",
    "            print(dkey+\" Acc: \",round(perform_list[0]*100,2))\n",
    "            print(dkey+\" Recall: \",round(perform_list[1]*100,2))\n",
    "            print(dkey+\" percision: \",round(perform_list[2]*100,2))\n",
    "def ann_validation_performance(ANN_model,dataset_dict):\n",
    "    acc=[]\n",
    "    recall=[]\n",
    "    precision=[]\n",
    "    x=dataset_dict['validation'][0]\n",
    "    y_true=dataset_dict['validation'][1]\n",
    "    for i in range(5):\n",
    "        y_predict=ANN_model.predict(x)\n",
    "        y_predict=pd.DataFrame((y_predict>0.5)*1)\n",
    "        perform_list=acc_recall_precision_rate(y_predict,y_true)\n",
    "        acc.append(perform_list[0])\n",
    "        recall.append(perform_list[1])\n",
    "        precision.append(perform_list[2])\n",
    "    print('ANN')\n",
    "    print(\" Avg Acc: \",round(st.mean(acc)*100,2))\n",
    "    print(\" Avg Recall: \",round(st.mean(recall)*100,2))\n",
    "    print(\" Avg Percision: \",round(st.mean(precision)*100,2))"
   ]
  },
  {
   "cell_type": "code",
   "execution_count": 89,
   "metadata": {},
   "outputs": [],
   "source": [
    "#Logistic Regression\n",
    "LR_fit=LogisticRegression(multi_class='ovr',solver='liblinear',penalty='l1').fit(x_train,y_train)\n",
    "#SVM\n",
    "SVC_fit=svm.SVC().fit(x_train,y_train)\n",
    "LSVC_fit=svm.LinearSVC().fit(x_train,y_train)\n",
    "#GradientBoosting\n",
    "GB_fit=GradientBoostingClassifier(loss='exponential',max_depth=5,max_features= None).fit(x_train,y_train)\n",
    "#RandomForest\n",
    "RF_fit=RandomForestClassifier(criterion='entropy').fit(x_train,y_train)\n",
    "#KNN\n",
    "KNN_fit=KNeighborsClassifier(leaf_size=1,p=1).fit(x_train,y_train)\n"
   ]
  },
  {
   "cell_type": "code",
   "execution_count": 90,
   "metadata": {},
   "outputs": [
    {
     "data": {
      "text/plain": [
       "<keras.callbacks.History at 0x2793f2c2d68>"
      ]
     },
     "execution_count": 90,
     "metadata": {},
     "output_type": "execute_result"
    }
   ],
   "source": [
    "#ANN\n",
    "H=12\n",
    "ANN = Sequential()\n",
    "ANN.add(Dense(H, activation = 'relu', input_dim = x_train.shape[1],bias_initializer='glorot_uniform',kernel_initializer='glorot_normal'))\n",
    "ANN.add(Dense(H,activation = 'relu',bias_initializer='glorot_uniform',kernel_initializer='glorot_normal'))\n",
    "ANN.add(Dense(1, activation = 'sigmoid',bias_initializer='glorot_uniform',kernel_initializer='glorot_normal'))\n",
    "ANN.compile(optimizer = 'Adam', loss = 'binary_crossentropy', metrics = ['accuracy'])\n",
    "ANN.fit(x_train,y_train, batch_size=32, epochs=20,verbose=0) "
   ]
  },
  {
   "cell_type": "code",
   "execution_count": 91,
   "metadata": {},
   "outputs": [],
   "source": [
    "fit_model={'LR':LR_fit,'SVC':SVC_fit, 'LSVC':LSVC_fit,'GB':GB_fit,'KNN':KNN_fit}\n",
    "val_data={'validation':[x_validation,y_validation]}\n",
    "#validation_performance"
   ]
  },
  {
   "cell_type": "code",
   "execution_count": 92,
   "metadata": {},
   "outputs": [
    {
     "name": "stdout",
     "output_type": "stream",
     "text": [
      "LR\n",
      "validation Acc:  84.53\n",
      "validation Recall:  42.44\n",
      "validation percision:  71.35\n",
      "SVC\n",
      "validation Acc:  84.27\n",
      "validation Recall:  36.01\n",
      "validation percision:  75.17\n",
      "LSVC\n",
      "validation Acc:  84.33\n",
      "validation Recall:  36.98\n",
      "validation percision:  74.68\n",
      "GB\n",
      "validation Acc:  84.33\n",
      "validation Recall:  46.62\n",
      "validation percision:  67.76\n",
      "KNN\n",
      "validation Acc:  82.93\n",
      "validation Recall:  39.23\n",
      "validation percision:  64.55\n"
     ]
    }
   ],
   "source": [
    "validation_performance(fit_model,val_data)"
   ]
  },
  {
   "cell_type": "code",
   "execution_count": 93,
   "metadata": {},
   "outputs": [
    {
     "name": "stdout",
     "output_type": "stream",
     "text": [
      "ANN\n",
      " Avg Acc:  86.67\n",
      " Avg Recall:  47.91\n",
      " Avg Percision:  79.68\n"
     ]
    }
   ],
   "source": [
    "ann_validation_performance(ANN,val_data)"
   ]
  },
  {
   "cell_type": "markdown",
   "metadata": {},
   "source": [
    "**Eventually I see that my ANN model perform much better, but the recall rate is still quite low, maybe due to the fact that my data is imbalance. I can try to use simple oversample approach.**"
   ]
  },
  {
   "cell_type": "markdown",
   "metadata": {},
   "source": [
    "# 6. Oversample the data "
   ]
  },
  {
   "cell_type": "code",
   "execution_count": 95,
   "metadata": {},
   "outputs": [],
   "source": [
    "from imblearn.over_sampling import SMOTE "
   ]
  },
  {
   "cell_type": "code",
   "execution_count": 96,
   "metadata": {},
   "outputs": [],
   "source": [
    "sm = SMOTE(random_state=1234)\n",
    "o_g_x_res, o_g_y_res = sm.fit_resample(onehot_groupx, onehot_groupy)\n",
    "\n",
    "# split to train and (validation+test) set\n",
    "r_x_train, r_x_valitest, r_y_train, r_y_valitest=train_test_split(o_g_x_res,o_g_y_res,test_size=0.3,random_state=123)\n",
    "#split to validation and test set\n",
    "r_x_validation, r_x_test, r_y_validation, r_y_test=train_test_split(r_x_valitest,r_y_valitest,test_size=0.5,random_state=123)\n",
    "\n",
    "ss=StandardScaler().fit(r_x_train,r_y_train)\n",
    "re_x_train=pd.DataFrame(ss.transform(r_x_train))\n",
    "re_y_train=pd.DataFrame(r_y_train.copy())\n",
    "\n",
    "re_x_validation=pd.DataFrame(ss.transform(r_x_validation))\n",
    "re_y_validation=pd.DataFrame(r_y_validation.copy())\n",
    "\n",
    "re_x_test=pd.DataFrame(ss.transform(r_x_test))\n",
    "re_y_test=pd.DataFrame(r_y_test.copy())"
   ]
  },
  {
   "cell_type": "code",
   "execution_count": 97,
   "metadata": {},
   "outputs": [],
   "source": [
    "#Logistic Regression\n",
    "LR_fit=LogisticRegression(multi_class='ovr',solver='liblinear',penalty='l1').fit(re_x_train,re_y_train)\n",
    "#SVM\n",
    "SVC_fit=svm.SVC().fit(re_x_train,re_y_train)\n",
    "LSVC_fit=svm.LinearSVC().fit(re_x_train,re_y_train)\n",
    "#GradientBoosting\n",
    "GB_fit=GradientBoostingClassifier(loss='exponential',max_depth=5,max_features= None).fit(re_x_train,re_y_train)\n",
    "#RandomForest\n",
    "RF_fit=RandomForestClassifier(criterion='entropy').fit(re_x_train,re_y_train)\n",
    "#KNN\n",
    "KNN_fit=KNeighborsClassifier(leaf_size=1,p=1).fit(re_x_train,re_y_train)\n"
   ]
  },
  {
   "cell_type": "code",
   "execution_count": 98,
   "metadata": {},
   "outputs": [
    {
     "data": {
      "text/plain": [
       "<keras.callbacks.History at 0x27944d1ebe0>"
      ]
     },
     "execution_count": 98,
     "metadata": {},
     "output_type": "execute_result"
    }
   ],
   "source": [
    "#ANN\n",
    "H=12\n",
    "ANN = Sequential()\n",
    "ANN.add(Dense(H, activation = 'relu', input_dim = x_train.shape[1],bias_initializer='glorot_uniform',kernel_initializer='glorot_normal'))\n",
    "ANN.add(Dense(H,activation = 'relu',bias_initializer='glorot_uniform',kernel_initializer='glorot_normal'))\n",
    "ANN.add(Dense(1, activation = 'sigmoid',bias_initializer='glorot_uniform',kernel_initializer='glorot_normal'))\n",
    "ANN.compile(optimizer = 'Adam', loss = 'binary_crossentropy', metrics = ['accuracy'])\n",
    "ANN.fit(re_x_train,re_y_train, batch_size=32, epochs=20,verbose=0) "
   ]
  },
  {
   "cell_type": "code",
   "execution_count": 99,
   "metadata": {},
   "outputs": [],
   "source": [
    "fit_model={'LR':LR_fit,'SVC':SVC_fit, 'LSVC':LSVC_fit,'GB':GB_fit,'KNN':KNN_fit}\n",
    "val_data={'validation':[re_x_validation,re_y_validation]}\n",
    "#validation_performance"
   ]
  },
  {
   "cell_type": "code",
   "execution_count": 100,
   "metadata": {},
   "outputs": [
    {
     "name": "stdout",
     "output_type": "stream",
     "text": [
      "LR\n",
      "validation Acc:  77.98\n",
      "validation Recall:  78.07\n",
      "validation percision:  78.07\n",
      "SVC\n",
      "validation Acc:  85.18\n",
      "validation Recall:  82.15\n",
      "validation percision:  87.56\n",
      "LSVC\n",
      "validation Acc:  78.02\n",
      "validation Recall:  78.57\n",
      "validation percision:  77.85\n",
      "GB\n",
      "validation Acc:  89.49\n",
      "validation Recall:  86.91\n",
      "validation percision:  91.73\n",
      "KNN\n",
      "validation Acc:  78.95\n",
      "validation Recall:  70.39\n",
      "validation percision:  85.08\n"
     ]
    }
   ],
   "source": [
    "validation_performance(fit_model,val_data)"
   ]
  },
  {
   "cell_type": "code",
   "execution_count": 101,
   "metadata": {
    "scrolled": true
   },
   "outputs": [
    {
     "name": "stdout",
     "output_type": "stream",
     "text": [
      "ANN\n",
      " Avg Acc:  85.35\n",
      " Avg Recall:  83.74\n",
      " Avg Percision:  86.63\n"
     ]
    }
   ],
   "source": [
    "ann_validation_performance(ANN,val_data)"
   ]
  },
  {
   "cell_type": "markdown",
   "metadata": {},
   "source": [
    "ANN improve a lot, other accuracy reduce but the recall rate all improve!\n",
    "\n",
    "maybe we can re perform the parameter selection for all methods"
   ]
  },
  {
   "cell_type": "markdown",
   "metadata": {},
   "source": [
    "## 6.1 retune LR"
   ]
  },
  {
   "cell_type": "code",
   "execution_count": 102,
   "metadata": {},
   "outputs": [],
   "source": [
    "# #LR\n",
    "# #grid search\n",
    "# param_grid={'penalty': ('l1','l2','elasticnet'),\n",
    "#            'solver':('newton-cg', 'lbfgs', 'liblinear', 'sag', 'saga'),\n",
    "#            'multi_class':('ovr','multinomial')}\n",
    "# LR=LogisticRegression()\n",
    "# LR_cv=GridSearchCV(LR,param_grid,cv=4,error_score=np.nan)\n",
    "# LR_cv.fit(re_x_train,re_y_train)\n",
    "# print(LR_cv.best_params_)\n",
    "# print(LR_cv.best_score_)"
   ]
  },
  {
   "cell_type": "code",
   "execution_count": 103,
   "metadata": {},
   "outputs": [
    {
     "name": "stdout",
     "output_type": "stream",
     "text": [
      "old_LR\n",
      "Train Avg Acc: 77.23\n",
      "Train Avg Recall: 76.7\n",
      "Train Avg percision: 77.65\n",
      "run time:3.0152206420898438\n",
      "new_LR\n",
      "Train Avg Acc: 77.25\n",
      "Train Avg Recall: 76.74\n",
      "Train Avg percision: 77.66\n",
      "run time:0.16100382804870605\n"
     ]
    }
   ],
   "source": [
    "old_LR=LogisticRegression(multi_class='ovr',solver='liblinear',penalty='l1')\n",
    "new_LR=LogisticRegression(multi_class='ovr',solver='liblinear',penalty='l2')\n",
    "model={\"old_LR\":old_LR,\"new_LR\":new_LR}\n",
    "dataset={'Train':[re_x_train,re_y_train]}\n",
    "train_performance(model,dataset)"
   ]
  },
  {
   "cell_type": "markdown",
   "metadata": {},
   "source": [
    "## 6.2 retune SVC"
   ]
  },
  {
   "cell_type": "code",
   "execution_count": 104,
   "metadata": {},
   "outputs": [],
   "source": [
    "# #grid search\n",
    "# param_grid={'degree': (1,2,3),\n",
    "#            'kernel':('linear', 'poly', 'rbf', 'sigmoid'),\n",
    "#            'shrinking':(True,False),\n",
    "#             'decision_function_shape':('ovr','ovo')}\n",
    "\n",
    "# SVC_model=svm.SVC()\n",
    "# SVC_cv=GridSearchCV(SVC_model,param_grid,cv=4,error_score=np.nan)\n",
    "# SVC_cv.fit(re_x_train,re_y_train)\n",
    "# print(SVC_cv.best_params_)\n",
    "# print(SVC_cv.best_score_)"
   ]
  },
  {
   "cell_type": "markdown",
   "metadata": {},
   "source": [
    "## 6.3 retune LSVC"
   ]
  },
  {
   "cell_type": "code",
   "execution_count": 105,
   "metadata": {},
   "outputs": [],
   "source": [
    "# #grid search\n",
    "# param_grid={'penalty': ('l2','l1'),\n",
    "#             'loss':('squared_hinge','hinge'),\n",
    "#             'multi_class':('ovr','crammer_singer')}\n",
    "# linSVC_model=svm.LinearSVC()\n",
    "# linSVC_cv=GridSearchCV(linSVC_model,param_grid,cv=4,error_score=np.nan)\n",
    "# linSVC_cv.fit(re_x_train,re_y_train)\n",
    "# print(linSVC_cv.best_params_)\n",
    "# print(linSVC_cv.best_score_)"
   ]
  },
  {
   "cell_type": "code",
   "execution_count": 106,
   "metadata": {},
   "outputs": [
    {
     "name": "stdout",
     "output_type": "stream",
     "text": [
      "old\n",
      "Train Avg Acc: 77.02\n",
      "Train Avg Recall: 76.9\n",
      "Train Avg percision: 77.21\n",
      "run time:4.626997947692871\n",
      "new\n",
      "Train Avg Acc: 77.3\n",
      "Train Avg Recall: 77.29\n",
      "Train Avg percision: 77.43\n",
      "run time:0.4210023880004883\n"
     ]
    }
   ],
   "source": [
    "old_LSVC=svm.LinearSVC()\n",
    "new_LSVC=svm.LinearSVC(loss='hinge')\n",
    "model={\"old\":old_LSVC,\"new\":new_LSVC}\n",
    "dataset={'Train':[re_x_train,re_y_train]}\n",
    "train_performance(model,dataset)"
   ]
  },
  {
   "cell_type": "markdown",
   "metadata": {},
   "source": [
    "## 6.4 retune GB"
   ]
  },
  {
   "cell_type": "code",
   "execution_count": 107,
   "metadata": {},
   "outputs": [],
   "source": [
    "# #grid search\n",
    "# param_grid={'loss': ('deviance','exponential'),\n",
    "#             'max_depth':(3,4,5),\n",
    "#             'max_features':(None,int,float,\"squrt\",\"log2\")}\n",
    "# param_grid={'max_depth':range(5,10)}\n",
    "\n",
    "# GB=GradientBoostingClassifier(loss='exponential')\n",
    "# GB_cv=GridSearchCV(GB,param_grid,cv=4,error_score=np.nan)\n",
    "# GB_cv.fit(re_x_train,re_y_train)\n",
    "# print(GB_cv.best_params_)\n",
    "# print(GB_cv.best_score_)"
   ]
  },
  {
   "cell_type": "code",
   "execution_count": 108,
   "metadata": {},
   "outputs": [
    {
     "name": "stdout",
     "output_type": "stream",
     "text": [
      "old\n",
      "Train Avg Acc: 90.64\n",
      "Train Avg Recall: 87.04\n",
      "Train Avg percision: 93.86\n",
      "run time:4.186997890472412\n",
      "new\n",
      "Train Avg Acc: 90.94\n",
      "Train Avg Recall: 87.32\n",
      "Train Avg percision: 94.2\n",
      "run time:7.933999538421631\n"
     ]
    }
   ],
   "source": [
    "old_GB=GradientBoostingClassifier()\n",
    "new_LSVC=GradientBoostingClassifier(loss='exponential',max_depth=5)\n",
    "model={\"old\":old_GB,\"new\":new_GB}\n",
    "dataset={'Train':[re_x_train,re_y_train]}\n",
    "train_performance(model,dataset)"
   ]
  },
  {
   "cell_type": "markdown",
   "metadata": {},
   "source": [
    "## 6.5 retune RF"
   ]
  },
  {
   "cell_type": "code",
   "execution_count": 109,
   "metadata": {},
   "outputs": [],
   "source": [
    "# #grid search\n",
    "# param_grid={\n",
    "#     'criterion':('gini','entropy'),\n",
    "#     'max_features':(\"squrt\",None,\"log2\",'auto'),\n",
    "#     'class_weight':(None,'balanced','balanced_subsample')\n",
    "# }\n",
    "\n",
    "# RF=RandomForestClassifier()\n",
    "# RF_cv=GridSearchCV(RF,param_grid,cv=4,error_score=np.nan)\n",
    "# RF_cv.fit(re_x_train,re_y_train)\n",
    "# print(RF_cv.best_params_)\n",
    "# print(RF_cv.best_score_)"
   ]
  },
  {
   "cell_type": "code",
   "execution_count": 110,
   "metadata": {},
   "outputs": [
    {
     "name": "stdout",
     "output_type": "stream",
     "text": [
      "old\n",
      "Train Avg Acc: 89.68\n",
      "Train Avg Recall: 85.3\n",
      "Train Avg percision: 93.57\n",
      "run time:0.7650370597839355\n",
      "new\n",
      "Train Avg Acc: 89.98\n",
      "Train Avg Recall: 85.21\n",
      "Train Avg percision: 94.26\n",
      "run time:0.7579598426818848\n"
     ]
    }
   ],
   "source": [
    "old_RF=RandomForestClassifier()\n",
    "new_RF=RandomForestClassifier(criterion='entropy',max_features='log2')\n",
    "model={\"old\":old_RF,\"new\":new_RF}\n",
    "dataset={'Train':[re_x_train,re_y_train]}\n",
    "train_performance(model,dataset)"
   ]
  },
  {
   "cell_type": "markdown",
   "metadata": {},
   "source": [
    "## 6.6 retune KNN"
   ]
  },
  {
   "cell_type": "code",
   "execution_count": 111,
   "metadata": {},
   "outputs": [],
   "source": [
    "# #grid search\n",
    "# param_grid={\n",
    "#     'n_neighbors':(5,4,3),\n",
    "#     'weights':('uniform','distance'),\n",
    "#     'algorithm':('auto','ball_tree','kd_tree','brute'),\n",
    "#     'p':(1,2)#1:l1, 2:l2    \n",
    "# }\n",
    "# # param_grid={\n",
    "# #     'leaf_size':range(31),\n",
    "# #     'p':(1,2)#1:l1, 2:l2    \n",
    "# # }\n",
    "# KNN=KNeighborsClassifier()\n",
    "# KNN_cv=GridSearchCV(KNN,param_grid,cv=3,error_score=np.nan)\n",
    "# KNN_cv.fit(re_x_train,re_y_train)\n",
    "# print(KNN_cv.best_params_)\n",
    "# print(KNN_cv.best_score_)"
   ]
  },
  {
   "cell_type": "code",
   "execution_count": 112,
   "metadata": {},
   "outputs": [
    {
     "name": "stdout",
     "output_type": "stream",
     "text": [
      "old\n",
      "Train Avg Acc: 83.34\n",
      "Train Avg Recall: 82.71\n",
      "Train Avg percision: 83.88\n",
      "run time:4.106032133102417\n",
      "new\n",
      "Train Avg Acc: 86.77\n",
      "Train Avg Recall: 84.07\n",
      "Train Avg percision: 88.97\n",
      "run time:5.164096355438232\n"
     ]
    }
   ],
   "source": [
    "old_KNN=KNeighborsClassifier()\n",
    "new_KNN=KNeighborsClassifier(n_neighbors=4,weights='distance',p=1,leaf_size=1)\n",
    "model={\"old\":old_KNN,\"new\":new_KNN}\n",
    "dataset={'Train':[re_x_train,re_y_train]}\n",
    "train_performance(model,dataset)"
   ]
  },
  {
   "cell_type": "markdown",
   "metadata": {},
   "source": [
    "## 6.7 retune ANN"
   ]
  },
  {
   "cell_type": "markdown",
   "metadata": {},
   "source": [
    "### A. 2 layer"
   ]
  },
  {
   "cell_type": "code",
   "execution_count": 113,
   "metadata": {
    "scrolled": true
   },
   "outputs": [],
   "source": [
    "# activations=['sigmoid','tanh','relu','softmax','linear']\n",
    "# for i in range(len(activations)):\n",
    "#     for j in range(len(activations)):\n",
    "        \n",
    "#         H=12\n",
    "#         model = Sequential()\n",
    "#         #2 hidden layer\n",
    "#         model.add(Dense(H, activation = activations[i], input_dim = re_x_train.shape[1]))\n",
    "#         model.add(Dense(H, activation = activations[i]))\n",
    "#         #the output layer\n",
    "#         model.add(Dense(1, activation = activations[j]))\n",
    "#         #compile the model --> backpropagation -> gradient descent\n",
    "#         model.compile(optimizer = 'Adam', loss = \"binary_crossentropy\", metrics = ['accuracy'])\n",
    "#         model.fit(re_x_train,re_y_train, batch_size=15, epochs=20,verbose=0) \n",
    "\n",
    "#         ypredict=model.predict(re_x_train)\n",
    "#         ypredict=pd.DataFrame((ypredict>0.5)*1)\n",
    "#         perform_list=acc_recall_precision_rate(ypredict,re_y_train)\n",
    "#         if perform_list[0]>.85:\n",
    "#             print(\"A1: \", activations[i])\n",
    "#             print(\"A2: \", activations[j])\n",
    "#             print(\" Acc: \"+str(round(perform_list[0]*100,2)))\n",
    "#             print(\" Recall: \"+str(round(perform_list[1]*100,2)))\n",
    "#             print(\" percision: \"+str(round(perform_list[2]*100,2)))\n",
    "#             print(\"score: \"+str(round(perform_list[0]*perform_list[1]*100,2)))"
   ]
  },
  {
   "cell_type": "code",
   "execution_count": 114,
   "metadata": {},
   "outputs": [],
   "source": [
    "# ##choose an optimizer\n",
    "# # optimizer=['Adam','SGD','Adagrad','Adadelta','RMSprop']\n",
    "\n",
    "# for i in range(len(optimizer)):\n",
    "#     print(optimizer[i])\n",
    "#     H=12\n",
    "#     model = Sequential()\n",
    "#     #2 hidden layer\n",
    "#     model.add(Dense(H, activation = 'tanh', input_dim = re_x_train.shape[1]))\n",
    "#     model.add(Dense(H, activation = 'tanh'))\n",
    "#     #the output layer\n",
    "#     model.add(Dense(1, activation = 'sigmoid'))\n",
    "#     #compile the model --> backpropagation -> gradient descent\n",
    "#     model.compile(optimizer = optimizer[i], loss = \"binary_crossentropy\", metrics = ['accuracy'])\n",
    "#     model.fit(re_x_train,re_y_train, batch_size=15, epochs=20,verbose=0) \n",
    "\n",
    "#     ypredict=model.predict(re_x_train)\n",
    "#     ypredict=pd.DataFrame((ypredict>0.5)*1)\n",
    "#     perform_list=acc_recall_precision_rate(ypredict,re_y_train)\n",
    "\n",
    "#     print(\"  Acc: \"+str(round(perform_list[0]*100,2)))\n",
    "#     print(\"  Recall: \"+str(round(perform_list[1]*100,2)))\n",
    "#     print(\"  percision: \"+str(round(perform_list[2]*100,2)))\n",
    "#     print(\"score: \"+str(round(perform_list[0]*perform_list[1]*100,2)))"
   ]
  },
  {
   "cell_type": "code",
   "execution_count": 115,
   "metadata": {},
   "outputs": [],
   "source": [
    "# #choose kernel_initializer and bias_initializer\n",
    "# initializers=['glorot_normal','zeros','ones','glorot_uniform']\n",
    "# # #for kernel_initializer\n",
    "# for i in range(len(initializers)):\n",
    "#     H=12\n",
    "#     model = Sequential()\n",
    "#     #2 hidden layer\n",
    "#     model.add(Dense(H, activation = 'tanh', input_dim = re_x_train.shape[1],kernel_initializer=initializers[i]))\n",
    "#     model.add(Dense(H, activation = 'tanh',kernel_initializer=initializers[i]))\n",
    "#     #the output layer\n",
    "#     model.add(Dense(1, activation = 'sigmoid',kernel_initializer=initializers[i]))\n",
    "#     #compile the model --> backpropagation -> gradient descent\n",
    "#     model.compile(optimizer = 'Adam', loss = 'binary_crossentropy', metrics = ['accuracy'])\n",
    "#     model.fit(re_x_train,re_y_train, batch_size=32, epochs=15,verbose=0) \n",
    "\n",
    "#     ypredict=model.predict(re_x_train)\n",
    "#     ypredict=pd.DataFrame((ypredict>0.5)*1)\n",
    "#     perform_list=acc_recall_precision_rate(ypredict,re_y_train)\n",
    "    \n",
    "#     if perform_list[0]*perform_list[1]>.4:\n",
    "#         print(initializers[i])\n",
    "#         print(\"  Acc: \"+str(round(perform_list[0]*100,2)))\n",
    "#         print(\"  Recall: \"+str(round(perform_list[1]*100,2)))\n",
    "#         print(\"  percision: \"+str(round(perform_list[2]*100,2)))\n",
    "#         print(\"score: \"+str(round(perform_list[0]*perform_list[1]*100,2)))"
   ]
  },
  {
   "cell_type": "code",
   "execution_count": 116,
   "metadata": {},
   "outputs": [],
   "source": [
    "# # # #for bias_initializer\n",
    "# for i in range(len(initializers)):\n",
    "#     H=12\n",
    "#     model = Sequential()\n",
    "#     #2 hidden layer\n",
    "#     model.add(Dense(H, activation = 'tanh', input_dim = re_x_train.shape[1],bias_initializer=initializers[i],kernel_initializer='glorot_uniform'))\n",
    "#     model.add(Dense(H, activation = 'tanh',bias_initializer=initializers[i],kernel_initializer='glorot_uniform'))\n",
    "#     #the output layer\n",
    "#     model.add(Dense(1, activation = 'sigmoid',bias_initializer=initializers[i],kernel_initializer='glorot_uniform'))\n",
    "#     #compile the model --> backpropagation -> gradient descent\n",
    "#     model.compile(optimizer = 'Adam', loss = 'binary_crossentropy', metrics = ['accuracy'])\n",
    "#     model.fit(re_x_train,re_y_train, batch_size=32, epochs=15,verbose=0) \n",
    "\n",
    "#     ypredict=model.predict(re_x_train)\n",
    "#     ypredict=pd.DataFrame((ypredict>0.5)*1)\n",
    "#     perform_list=acc_recall_precision_rate(ypredict,re_y_train)\n",
    "    \n",
    "#     if perform_list[0]*perform_list[1]>.4:\n",
    "#         print(initializers[i])\n",
    "#         print(\"  Acc: \"+str(round(perform_list[0]*100,2)))\n",
    "#         print(\"  Recall: \"+str(round(perform_list[1]*100,2)))\n",
    "#         #print(\"  percision: \"+str(round(perform_list[2]*100,2)))\n",
    "#         print(\"score: \"+str(round(perform_list[0]*perform_list[1]*100,2)))"
   ]
  },
  {
   "cell_type": "markdown",
   "metadata": {},
   "source": [
    "* both='glorot_uniform'"
   ]
  },
  {
   "cell_type": "code",
   "execution_count": 117,
   "metadata": {},
   "outputs": [],
   "source": [
    "# for H in (6,12):\n",
    "#     for (B,E) in ([10,15],[15,20],[32,20],[32,40],[64,40],[128,100]):\n",
    "#         print(\"H: \",H)\n",
    "#         print(\"[B,E]: \",B,\" \", E)\n",
    "#         model = Sequential()\n",
    "#         #2 hidden layer\n",
    "#         model.add(Dense(H, activation = 'tanh', input_dim = re_x_train.shape[1],bias_initializer='glorot_uniform',kernel_initializer='glorot_uniform'))\n",
    "#         model.add(Dense(H, activation = 'tanh',bias_initializer='glorot_uniform',kernel_initializer='glorot_uniform'))\n",
    "#         #the output layer\n",
    "#         model.add(Dense(1, activation = 'sigmoid',bias_initializer='glorot_uniform',kernel_initializer='glorot_uniform'))\n",
    "#         #compile the model --> backpropagation -> gradient descent\n",
    "#         model.compile(optimizer = 'Adam', loss = 'binary_crossentropy', metrics = ['accuracy'])\n",
    "#         model.fit(re_x_train,re_y_train, batch_size=B, epochs=E,verbose=0) \n",
    "\n",
    "#         ypredict=model.predict(re_x_train)\n",
    "#         ypredict=pd.DataFrame((ypredict>0.5)*1)\n",
    "#         perform_list=acc_recall_precision_rate(ypredict,re_y_train)\n",
    "\n",
    "#         print(\"  Acc: \"+str(round(perform_list[0]*100,2)))\n",
    "#         print(\"  Recall: \"+str(round(perform_list[1]*100,2)))\n",
    "#         #print(\"  percision: \"+str(round(perform_list[2]*100,2)))\n",
    "#         print(\"score: \"+str(round(perform_list[0]*perform_list[1]*100,2)))"
   ]
  },
  {
   "cell_type": "markdown",
   "metadata": {},
   "source": [
    "### B. 1 layer"
   ]
  },
  {
   "cell_type": "code",
   "execution_count": 118,
   "metadata": {},
   "outputs": [],
   "source": [
    "# activations=['sigmoid','tanh','relu','softmax','linear']\n",
    "# for i in range(len(activations)):\n",
    "#     for j in range(len(activations)):\n",
    "        \n",
    "#         H=12\n",
    "#         model = Sequential()\n",
    "#         #2 hidden layer\n",
    "#         model.add(Dense(H, activation = activations[i], input_dim = re_x_train.shape[1]))\n",
    "#         #the output layer\n",
    "#         model.add(Dense(1, activation = activations[j]))\n",
    "#         #compile the model --> backpropagation -> gradient descent\n",
    "#         model.compile(optimizer = 'Adam', loss = \"binary_crossentropy\", metrics = ['accuracy'])\n",
    "#         model.fit(re_x_train,re_y_train, batch_size=15, epochs=20,verbose=0) \n",
    "\n",
    "#         ypredict=model.predict(re_x_train)\n",
    "#         ypredict=pd.DataFrame((ypredict>0.5)*1)\n",
    "#         perform_list=acc_recall_precision_rate(ypredict,re_y_train)\n",
    "#         if perform_list[0]>.8:\n",
    "#             print(\"A1: \", activations[i])\n",
    "#             print(\"A2: \", activations[j])\n",
    "#             print(\" Acc: \"+str(round(perform_list[0]*100,2)))\n",
    "#             print(\" Recall: \"+str(round(perform_list[1]*100,2)))\n",
    "#             print(\" percision: \"+str(round(perform_list[2]*100,2)))\n",
    "#             print(\"score: \"+str(round(perform_list[0]*perform_list[1]*100,2)))"
   ]
  },
  {
   "cell_type": "code",
   "execution_count": 119,
   "metadata": {},
   "outputs": [],
   "source": [
    "# ##choose an optimizer\n",
    "# optimizer=['Adam','SGD','Adagrad','Adadelta','RMSprop']\n",
    "# for i in range(len(optimizer)):\n",
    "#     print(optimizer[i])\n",
    "#     H=12\n",
    "#     model = Sequential()\n",
    "#     #2 hidden layer\n",
    "#     model.add(Dense(H, activation = 'tanh', input_dim = re_x_train.shape[1]))\n",
    "#     #the output layer\n",
    "#     model.add(Dense(1, activation = 'sigmoid'))\n",
    "#     #compile the model --> backpropagation -> gradient descent\n",
    "#     model.compile(optimizer = optimizer[i], loss = \"binary_crossentropy\", metrics = ['accuracy'])\n",
    "#     model.fit(re_x_train,re_y_train, batch_size=15, epochs=20,verbose=0) \n",
    "\n",
    "#     ypredict=model.predict(re_x_train)\n",
    "#     ypredict=pd.DataFrame((ypredict>0.5)*1)\n",
    "#     perform_list=acc_recall_precision_rate(ypredict,re_y_train)\n",
    "\n",
    "#     print(\"  Acc: \"+str(round(perform_list[0]*100,2)))\n",
    "#     print(\"  Recall: \"+str(round(perform_list[1]*100,2)))\n",
    "#     print(\"  percision: \"+str(round(perform_list[2]*100,2)))\n",
    "#     print(\"score: \"+str(round(perform_list[0]*perform_list[1]*100,2)))"
   ]
  },
  {
   "cell_type": "code",
   "execution_count": 120,
   "metadata": {},
   "outputs": [],
   "source": [
    "# #choose kernel_initializer and bias_initializer\n",
    "# initializers=['glorot_normal','zeros','ones','glorot_uniform']\n",
    "# # #for kernel_initializer\n",
    "# for i in range(len(initializers)):\n",
    "#     H=12\n",
    "#     model = Sequential()\n",
    "#     #2 hidden layer\n",
    "#     model.add(Dense(H, activation = 'tanh', input_dim = re_x_train.shape[1],kernel_initializer=initializers[i]))\n",
    "#     #the output layer\n",
    "#     model.add(Dense(1, activation = 'sigmoid',kernel_initializer=initializers[i]))\n",
    "#     #compile the model --> backpropagation -> gradient descent\n",
    "#     model.compile(optimizer = 'Adam', loss = 'binary_crossentropy', metrics = ['accuracy'])\n",
    "#     model.fit(re_x_train,re_y_train, batch_size=15, epochs=20,verbose=0) \n",
    "\n",
    "#     ypredict=model.predict(re_x_train)\n",
    "#     ypredict=pd.DataFrame((ypredict>0.5)*1)\n",
    "#     perform_list=acc_recall_precision_rate(ypredict,re_y_train)\n",
    "    \n",
    "#     if perform_list[0]*perform_list[1]>.4:\n",
    "#         print(initializers[i])\n",
    "#         print(\"  Acc: \"+str(round(perform_list[0]*100,2)))\n",
    "#         print(\"  Recall: \"+str(round(perform_list[1]*100,2)))\n",
    "#         print(\"  percision: \"+str(round(perform_list[2]*100,2)))\n",
    "#         print(\"score: \"+str(round(perform_list[0]*perform_list[1]*100,2)))"
   ]
  },
  {
   "cell_type": "code",
   "execution_count": 121,
   "metadata": {},
   "outputs": [],
   "source": [
    "# # # #for bias_initializer\n",
    "# for i in range(len(initializers)):\n",
    "#     H=12\n",
    "#     model = Sequential()\n",
    "#     #2 hidden layer\n",
    "#     model.add(Dense(H, activation = 'tanh', input_dim = re_x_train.shape[1],bias_initializer=initializers[i],kernel_initializer='glorot_uniform'))\n",
    "#     #the output layer\n",
    "#     model.add(Dense(1, activation = 'sigmoid',bias_initializer=initializers[i],kernel_initializer='glorot_uniform'))\n",
    "#     #compile the model --> backpropagation -> gradient descent\n",
    "#     model.compile(optimizer = 'Adam', loss = 'binary_crossentropy', metrics = ['accuracy'])\n",
    "#     model.fit(re_x_train,re_y_train, batch_size=15, epochs=20,verbose=0) \n",
    "\n",
    "#     ypredict=model.predict(re_x_train)\n",
    "#     ypredict=pd.DataFrame((ypredict>0.5)*1)\n",
    "#     perform_list=acc_recall_precision_rate(ypredict,re_y_train)\n",
    "    \n",
    "#     if perform_list[0]*perform_list[1]>.4:\n",
    "#         print(initializers[i])\n",
    "#         print(\"  Acc: \"+str(round(perform_list[0]*100,2)))\n",
    "#         print(\"  Recall: \"+str(round(perform_list[1]*100,2)))\n",
    "#         #print(\"  percision: \"+str(round(perform_list[2]*100,2)))\n",
    "#         print(\"score: \"+str(round(perform_list[0]*perform_list[1]*100,2)))"
   ]
  },
  {
   "cell_type": "code",
   "execution_count": 122,
   "metadata": {},
   "outputs": [],
   "source": [
    "# H=12\n",
    "# for (B,E) in ([10,15],[15,20],[32,20],[32,40],[64,40],[128,100]):\n",
    "#     print(\"[B,E]: \",B,\" \", E)\n",
    "#     model = Sequential()\n",
    "#     #2 hidden layer\n",
    "#     model.add(Dense(H, activation = 'tanh', input_dim = re_x_train.shape[1],bias_initializer='glorot_uniform',kernel_initializer='glorot_uniform'))\n",
    "#     #the output layer\n",
    "#     model.add(Dense(1, activation = 'sigmoid',bias_initializer='glorot_uniform',kernel_initializer='glorot_uniform'))\n",
    "#     #compile the model --> backpropagation -> gradient descent\n",
    "#     model.compile(optimizer = 'Adam', loss = 'binary_crossentropy', metrics = ['accuracy'])\n",
    "#     model.fit(re_x_train,re_y_train, batch_size=B, epochs=E,verbose=0) \n",
    "\n",
    "#     ypredict=model.predict(re_x_train)\n",
    "#     ypredict=pd.DataFrame((ypredict>0.5)*1)\n",
    "#     perform_list=acc_recall_precision_rate(ypredict,re_y_train)\n",
    "\n",
    "#     print(\"  Acc: \"+str(round(perform_list[0]*100,2)))\n",
    "#     print(\"  Recall: \"+str(round(perform_list[1]*100,2)))\n",
    "#     #print(\"  percision: \"+str(round(perform_list[2]*100,2)))\n",
    "#     print(\"score: \"+str(round(perform_list[0]*perform_list[1]*100,2)))"
   ]
  },
  {
   "cell_type": "markdown",
   "metadata": {},
   "source": [
    "* both: glorot_uniform"
   ]
  },
  {
   "cell_type": "markdown",
   "metadata": {},
   "source": [
    "# 7 Final model selection with oversample"
   ]
  },
  {
   "cell_type": "code",
   "execution_count": 123,
   "metadata": {},
   "outputs": [],
   "source": [
    "#Logistic Regression\n",
    "LR_fit=LogisticRegression(multi_class='ovr',solver='liblinear',penalty='l2').fit(re_x_train,re_y_train)\n",
    "#SVM\n",
    "SVC_fit=svm.SVC().fit(re_x_train,re_y_train)\n",
    "LSVC_fit=svm.LinearSVC(loss='hinge').fit(re_x_train,re_y_train)\n",
    "#GradientBoosting\n",
    "GB_fit=GradientBoostingClassifier(loss='exponential',max_depth=5).fit(re_x_train,re_y_train)\n",
    "#RandomForest\n",
    "RF_fit=RandomForestClassifier(criterion='entropy',max_features='log2').fit(re_x_train,re_y_train)\n",
    "#KNN\n",
    "KNN_fit=KNeighborsClassifier(n_neighbors=4,weights='distance',p=1,leaf_size=1).fit(re_x_train,re_y_train)"
   ]
  },
  {
   "cell_type": "code",
   "execution_count": 124,
   "metadata": {},
   "outputs": [
    {
     "data": {
      "text/plain": [
       "<keras.callbacks.History at 0x2794d87e710>"
      ]
     },
     "execution_count": 124,
     "metadata": {},
     "output_type": "execute_result"
    }
   ],
   "source": [
    "# ANN 1\n",
    "ANN1 = Sequential()\n",
    "ANN1.add(Dense(H, activation = 'tanh', input_dim = re_x_train.shape[1],bias_initializer='glorot_uniform',kernel_initializer='glorot_uniform'))\n",
    "ANN1.add(Dense(1, activation = 'sigmoid',bias_initializer='glorot_uniform',kernel_initializer='glorot_uniform'))\n",
    "ANN1.compile(optimizer = 'Adam', loss = 'binary_crossentropy', metrics = ['accuracy'])\n",
    "ANN1.fit(re_x_train,re_y_train, batch_size=32, epochs=40,verbose=0)"
   ]
  },
  {
   "cell_type": "code",
   "execution_count": 125,
   "metadata": {},
   "outputs": [
    {
     "data": {
      "text/plain": [
       "<keras.callbacks.History at 0x2793f30ad68>"
      ]
     },
     "execution_count": 125,
     "metadata": {},
     "output_type": "execute_result"
    }
   ],
   "source": [
    "# ANN 2\n",
    "ANN2 = Sequential()\n",
    "ANN2.add(Dense(H, activation = 'tanh', input_dim = re_x_train.shape[1],bias_initializer='glorot_uniform',kernel_initializer='glorot_uniform'))\n",
    "ANN2.add(Dense(H, activation = 'tanh',bias_initializer='glorot_uniform',kernel_initializer='glorot_uniform'))\n",
    "ANN2.add(Dense(1, activation = 'sigmoid',bias_initializer='glorot_uniform',kernel_initializer='glorot_uniform'))\n",
    "ANN2.compile(optimizer = 'Adam', loss = 'binary_crossentropy', metrics = ['accuracy'])\n",
    "ANN2.fit(re_x_train,re_y_train, batch_size=32, epochs=30,verbose=0)"
   ]
  },
  {
   "cell_type": "code",
   "execution_count": 126,
   "metadata": {},
   "outputs": [
    {
     "data": {
      "text/plain": [
       "<keras.callbacks.History at 0x2793eafb6a0>"
      ]
     },
     "execution_count": 126,
     "metadata": {},
     "output_type": "execute_result"
    }
   ],
   "source": [
    "# ANN 3\n",
    "ANN3 = Sequential()\n",
    "ANN3.add(Dense(H, activation = 'tanh', input_dim = re_x_train.shape[1],bias_initializer='glorot_uniform',kernel_initializer='glorot_uniform'))\n",
    "ANN3.add(Dense(1, activation = 'softmax',bias_initializer='glorot_uniform',kernel_initializer='glorot_uniform'))\n",
    "ANN3.compile(optimizer = 'Adam', loss = 'binary_crossentropy', metrics = ['accuracy'])\n",
    "ANN3.fit(re_x_train,re_y_train, batch_size=32, epochs=30,verbose=0)"
   ]
  },
  {
   "cell_type": "code",
   "execution_count": 127,
   "metadata": {},
   "outputs": [],
   "source": [
    "fit_model={'LR':LR_fit,'SVC':SVC_fit, 'LSVC':LSVC_fit,'RF': RF_fit,'GB':GB_fit,'KNN':KNN_fit}\n",
    "val_data={'validation':[re_x_validation,re_y_validation]}\n",
    "#validation_performance"
   ]
  },
  {
   "cell_type": "code",
   "execution_count": 128,
   "metadata": {},
   "outputs": [
    {
     "name": "stdout",
     "output_type": "stream",
     "text": [
      "LR\n",
      "validation Acc:  77.94\n",
      "validation Recall:  78.07\n",
      "validation percision:  78.0\n",
      "SVC\n",
      "validation Acc:  85.18\n",
      "validation Recall:  82.15\n",
      "validation percision:  87.56\n",
      "LSVC\n",
      "validation Acc:  78.15\n",
      "validation Recall:  79.57\n",
      "validation percision:  77.5\n",
      "RF\n",
      "validation Acc:  87.15\n",
      "validation Recall:  82.49\n",
      "validation percision:  91.07\n",
      "GB\n",
      "validation Acc:  89.54\n",
      "validation Recall:  86.91\n",
      "validation percision:  91.81\n",
      "KNN\n",
      "validation Acc:  79.32\n",
      "validation Recall:  72.73\n",
      "validation percision:  83.93\n"
     ]
    }
   ],
   "source": [
    "validation_performance(fit_model,val_data)"
   ]
  },
  {
   "cell_type": "code",
   "execution_count": 129,
   "metadata": {
    "scrolled": true
   },
   "outputs": [
    {
     "name": "stdout",
     "output_type": "stream",
     "text": [
      "ANN 1 layer\n",
      "ANN\n",
      " Avg Acc:  85.64\n",
      " Avg Recall:  83.57\n",
      " Avg Percision:  87.28\n",
      "ANN 2 layer\n",
      "ANN\n",
      " Avg Acc:  86.56\n",
      " Avg Recall:  83.49\n",
      " Avg Percision:  89.06\n"
     ]
    }
   ],
   "source": [
    "print(\"ANN 1 layer\")\n",
    "ann_validation_performance(ANN1,val_data)\n",
    "\n",
    "print(\"ANN 2 layer\")\n",
    "ann_validation_performance(ANN2,val_data)"
   ]
  },
  {
   "cell_type": "markdown",
   "metadata": {},
   "source": [
    "Selected GB model for non ANN model, then ANN for ANN model, simply check the accuracy anf recall rate from the validation model to select one as the final model"
   ]
  },
  {
   "cell_type": "code",
   "execution_count": 130,
   "metadata": {},
   "outputs": [
    {
     "name": "stdout",
     "output_type": "stream",
     "text": [
      "GB validation resampling\n",
      "(0.9150272080368355, 0.8765638031693077, 0.9502712477396021)\n",
      "GB real validation\n",
      "(0.20733333333333334, 1.0, 0.20733333333333334)\n"
     ]
    }
   ],
   "source": [
    "y_predict=GB_fit.predict(re_x_validation)\n",
    "print(\"GB validation resampling\")\n",
    "print(acc_recall_precision_rate(y_predict,re_y_validation))\n",
    "y_predict=GB_fit.predict(x_validation)\n",
    "print(\"GB real validation\")\n",
    "print(acc_recall_precision_rate(y_predict,y_validation))"
   ]
  },
  {
   "cell_type": "code",
   "execution_count": 131,
   "metadata": {},
   "outputs": [
    {
     "name": "stdout",
     "output_type": "stream",
     "text": [
      "2 layers ANN validation resampling\n",
      "(0.8656341565508581, 0.8348623853211009, 0.8905693950177936)\n",
      "2 layers ANN real validation\n",
      "(0.5853333333333334, 0.8938906752411575, 0.3206459054209919)\n"
     ]
    }
   ],
   "source": [
    "y_predict=ANN2.predict(re_x_validation)\n",
    "y_predict=pd.DataFrame((y_predict>0.5)*1)\n",
    "print(\"2 layers ANN validation resampling\")\n",
    "print(acc_recall_precision_rate(y_predict,re_y_validation))\n",
    "y_predict=ANN2.predict(x_validation)\n",
    "y_predict=pd.DataFrame((y_predict>0.5)*1)\n",
    "print(\"2 layers ANN real validation\")\n",
    "print(acc_recall_precision_rate(y_predict,y_validation))"
   ]
  },
  {
   "cell_type": "markdown",
   "metadata": {},
   "source": [
    "# 8 Test final model"
   ]
  },
  {
   "cell_type": "markdown",
   "metadata": {},
   "source": [
    "* ANN with 2 layer"
   ]
  },
  {
   "cell_type": "code",
   "execution_count": 132,
   "metadata": {},
   "outputs": [
    {
     "name": "stdout",
     "output_type": "stream",
     "text": [
      "ANN2\n",
      "oversampling test result (accuracy rate, recall rate, precision rate):\n",
      "(0.87316868982838, 0.8361774744027304, 0.8982584784601283)\n",
      "Real test result (accuracy rate, recall rate, precision rate):\n",
      "(0.5773333333333334, 0.9149659863945578, 0.30637813211845105)\n"
     ]
    }
   ],
   "source": [
    "#first on the oversampling test data set re_x_test, re_y_test\n",
    "print(\"ANN2\")\n",
    "y_predict=ANN2.predict(re_x_test)\n",
    "y_predict=pd.DataFrame((y_predict>0.5)*1)\n",
    "print(\"oversampling test result (accuracy rate, recall rate, precision rate):\")\n",
    "print(acc_recall_precision_rate(y_predict,re_y_test))\n",
    "#on the original test dataset x_test, y_tes\n",
    "y_predict=ANN2.predict(x_test)\n",
    "y_predict=pd.DataFrame((y_predict>0.5)*1)\n",
    "print(\"Real test result (accuracy rate, recall rate, precision rate):\")\n",
    "print(acc_recall_precision_rate(y_predict,y_test))"
   ]
  },
  {
   "cell_type": "markdown",
   "metadata": {},
   "source": [
    "* Gradient boost"
   ]
  },
  {
   "cell_type": "code",
   "execution_count": 134,
   "metadata": {},
   "outputs": [
    {
     "name": "stdout",
     "output_type": "stream",
     "text": [
      "GB\n",
      "oversampling test result (accuracy rate, recall rate, precision rate):\n",
      "(0.9133528673084973, 0.8694539249146758, 0.9496738117427772)\n",
      "Real test result (accuracy rate, recall rate, precision rate):\n",
      "(0.196, 1.0, 0.196)\n"
     ]
    }
   ],
   "source": [
    "#first on the oversampling test data set re_x_test, re_y_test\n",
    "print(\"GB\")\n",
    "y_predict=GB_fit.predict(re_x_test)\n",
    "print(\"oversampling test result (accuracy rate, recall rate, precision rate):\")\n",
    "print(acc_recall_precision_rate(y_predict,re_y_test))\n",
    "#on the original test dataset x_test, y_tes\n",
    "y_predict=GB_fit.predict(x_test)\n",
    "print(\"Real test result (accuracy rate, recall rate, precision rate):\")\n",
    "print(acc_recall_precision_rate(y_predict,y_test))"
   ]
  },
  {
   "cell_type": "code",
   "execution_count": 135,
   "metadata": {},
   "outputs": [
    {
     "name": "stdout",
     "output_type": "stream",
     "text": [
      "RF\n",
      "oversampling test result (accuracy rate, recall rate, precision rate):\n",
      "(0.9024696525742989, 0.85580204778157, 0.9400187441424555)\n",
      "Real test result (accuracy rate, recall rate, precision rate):\n",
      "(0.196, 1.0, 0.196)\n"
     ]
    }
   ],
   "source": [
    "#first on the oversampling test data set re_x_test, re_y_test\n",
    "print(\"RF\")\n",
    "y_predict=RF_fit.predict(re_x_test)\n",
    "print(\"oversampling test result (accuracy rate, recall rate, precision rate):\")\n",
    "print(acc_recall_precision_rate(y_predict,re_y_test))\n",
    "#on the original test dataset x_test, y_tes\n",
    "y_predict=RF_fit.predict(x_test)\n",
    "print(\"Real test result (accuracy rate, recall rate, precision rate):\")\n",
    "print(acc_recall_precision_rate(y_predict,y_test))"
   ]
  },
  {
   "cell_type": "markdown",
   "metadata": {},
   "source": [
    "## test model withoutoversampling"
   ]
  },
  {
   "cell_type": "code",
   "execution_count": 136,
   "metadata": {},
   "outputs": [
    {
     "data": {
      "text/plain": [
       "<keras.callbacks.History at 0x2793e19b400>"
      ]
     },
     "execution_count": 136,
     "metadata": {},
     "output_type": "execute_result"
    }
   ],
   "source": [
    "#ANN\n",
    "H=12\n",
    "ANN = Sequential()\n",
    "ANN.add(Dense(H, activation = 'relu', input_dim = x_train.shape[1],bias_initializer='glorot_uniform',kernel_initializer='glorot_normal'))\n",
    "ANN.add(Dense(H,activation = 'relu',bias_initializer='glorot_uniform',kernel_initializer='glorot_normal'))\n",
    "ANN.add(Dense(1, activation = 'sigmoid',bias_initializer='glorot_uniform',kernel_initializer='glorot_normal'))\n",
    "ANN.compile(optimizer = 'Adam', loss = 'binary_crossentropy', metrics = ['accuracy'])\n",
    "ANN.fit(x_train,y_train, batch_size=32, epochs=20,verbose=0) "
   ]
  },
  {
   "cell_type": "code",
   "execution_count": 137,
   "metadata": {},
   "outputs": [
    {
     "name": "stdout",
     "output_type": "stream",
     "text": [
      "ANN without oversampling\n",
      "Real test result (accuracy rate, recall rate, precision rate):\n",
      "(0.8746666666666667, 0.5578231292517006, 0.7387387387387387)\n"
     ]
    }
   ],
   "source": [
    "print(\"ANN without oversampling\")\n",
    "y_predict=ANN.predict(x_test)\n",
    "y_predict=pd.DataFrame((y_predict>0.5)*1)\n",
    "print(\"Real test result (accuracy rate, recall rate, precision rate):\")\n",
    "print(acc_recall_precision_rate(y_predict,y_test))"
   ]
  }
 ],
 "metadata": {
  "kernelspec": {
   "display_name": "Python 3",
   "language": "python",
   "name": "python3"
  },
  "language_info": {
   "codemirror_mode": {
    "name": "ipython",
    "version": 3
   },
   "file_extension": ".py",
   "mimetype": "text/x-python",
   "name": "python",
   "nbconvert_exporter": "python",
   "pygments_lexer": "ipython3",
   "version": "3.6.5"
  },
  "toc": {
   "base_numbering": 1,
   "nav_menu": {
    "height": "261px",
    "width": "160px"
   },
   "number_sections": false,
   "sideBar": true,
   "skip_h1_title": false,
   "title_cell": "Table of Contents",
   "title_sidebar": "Contents",
   "toc_cell": false,
   "toc_position": {
    "height": "397.995px",
    "left": "1149px",
    "top": "109.74px",
    "width": "301.979px"
   },
   "toc_section_display": true,
   "toc_window_display": true
  }
 },
 "nbformat": 4,
 "nbformat_minor": 2
}

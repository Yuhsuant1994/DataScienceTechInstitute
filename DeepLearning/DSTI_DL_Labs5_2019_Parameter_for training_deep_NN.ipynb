{
  "nbformat": 4,
  "nbformat_minor": 0,
  "metadata": {
    "kernelspec": {
      "name": "python3",
      "display_name": "Python 3"
    },
    "language_info": {
      "codemirror_mode": {
        "name": "ipython",
        "version": 3
      },
      "file_extension": ".py",
      "mimetype": "text/x-python",
      "name": "python",
      "nbconvert_exporter": "python",
      "pygments_lexer": "ipython3",
      "version": "3.7.3"
    },
    "colab": {
      "name": "DSTI-DL-Labs5-2019-Solution.ipynb",
      "provenance": [],
      "collapsed_sections": [],
      "toc_visible": true
    }
  },
  "cells": [
    {
      "cell_type": "markdown",
      "metadata": {
        "id": "BPbtmfqMqsVj",
        "colab_type": "text"
      },
      "source": [
        "# Function approximation with a deep neural network"
      ]
    },
    {
      "cell_type": "markdown",
      "metadata": {
        "id": "lA-dG5TvNT9U",
        "colab_type": "text"
      },
      "source": [
        "## Quartic function and training dataset"
      ]
    },
    {
      "cell_type": "markdown",
      "metadata": {
        "id": "Ze4-03KGq2Gx",
        "colab_type": "text"
      },
      "source": [
        "In algebra, a quartic function is a function of the form\n",
        "$$\n",
        "f(t)=at^{4}+bt^{3}+ct^{2}+dt+e,\n",
        "$$\n",
        "where $a$ is nonzero, which is defined by a polynomial of degree four, called a quartic polynomial."
      ]
    },
    {
      "cell_type": "code",
      "metadata": {
        "id": "XSxuWuabouDj",
        "colab_type": "code",
        "colab": {}
      },
      "source": [
        "%matplotlib inline\n",
        "import numpy as np\n",
        "import matplotlib.pyplot as plt\n",
        "import torch\n"
      ],
      "execution_count": 0,
      "outputs": []
    },
    {
      "cell_type": "markdown",
      "metadata": {
        "id": "uYRSPAtGouDo",
        "colab_type": "text"
      },
      "source": [
        "Define and plot a quartic function"
      ]
    },
    {
      "cell_type": "code",
      "metadata": {
        "id": "JhCmQNviouDu",
        "colab_type": "code",
        "colab": {}
      },
      "source": [
        "D_in = 1\n",
        "D_out = 1\n",
        "\n",
        "# Create random Tensors to hold inputs and outputs\n",
        "x = torch.arange(-9,3.5,0.1).view(-1,1) #(-5,3.5,0.1)\n",
        "y = x**4 + 2*x**3 - 12*x**2 -2*x + 6\n",
        "y = torch.where(x < -5, torch.zeros_like(x), y)\n",
        "N = x.shape[0]"
      ],
      "execution_count": 0,
      "outputs": []
    },
    {
      "cell_type": "code",
      "metadata": {
        "id": "8Upa4fCuouD5",
        "colab_type": "code",
        "outputId": "6b84d505-d1b0-4570-da4a-25796c8be042",
        "colab": {
          "base_uri": "https://localhost:8080/",
          "height": 51
        }
      },
      "source": [
        "print(x.size())\n",
        "print(y.size())\n"
      ],
      "execution_count": 3,
      "outputs": [
        {
          "output_type": "stream",
          "text": [
            "torch.Size([125, 1])\n",
            "torch.Size([125, 1])\n"
          ],
          "name": "stdout"
        }
      ]
    },
    {
      "cell_type": "markdown",
      "metadata": {
        "id": "IY7bxmOpsRYq",
        "colab_type": "text"
      },
      "source": [
        "Converting Torch Tensor to NumPy Array for plotting the function"
      ]
    },
    {
      "cell_type": "code",
      "metadata": {
        "id": "L80Arv5FuLj-",
        "colab_type": "code",
        "outputId": "ce076537-7e6f-44f6-aa0e-dbe924205674",
        "colab": {
          "base_uri": "https://localhost:8080/",
          "height": 283
        }
      },
      "source": [
        "fig, ax = plt.subplots()\n",
        "plt.plot(x.numpy(), y.numpy(),'r-',label='Quartic function')\n",
        "plt.xlabel('$x$')\n",
        "plt.ylabel('$f(x)$')\n",
        "plt.show()\n",
        "ax.legend()\n",
        "plt.show()"
      ],
      "execution_count": 4,
      "outputs": [
        {
          "output_type": "display_data",
          "data": {
            "image/png": "[encoded data removed]",
            "text/plain": [
              "<Figure size 432x288 with 1 Axes>"
            ]
          },
          "metadata": {
            "tags": []
          }
        }
      ]
    },
    {
      "cell_type": "markdown",
      "metadata": {
        "id": "vI35l73mNZ0w",
        "colab_type": "text"
      },
      "source": [
        "## Approximation with a deep neural network"
      ]
    },
    {
      "cell_type": "markdown",
      "metadata": {
        "id": "8tJWe_-W1khM",
        "colab_type": "text"
      },
      "source": [
        "### Question: code a deep neural network to approximate the function. The layer will have 3 layers (with a ReLU activation function). You will use the Adam optimizer. You must compute the loss at each epoch."
      ]
    },
    {
      "cell_type": "code",
      "metadata": {
        "id": "IWija8I3ouDy",
        "colab_type": "code",
        "outputId": "ef0a4891-57aa-49f4-d15e-3cec0e5be2ae",
        "colab": {
          "base_uri": "https://localhost:8080/",
          "height": 102
        }
      },
      "source": [
        "import torch\n",
        "\n",
        "H1 = 40 # number of hidden neurons\n",
        "H2 = 20\n",
        "H3 = 20\n",
        "\n",
        "Niter = 5*10**3\n",
        "\n",
        "import numpy as np\n",
        "saveLoss = np.zeros(Niter)\n",
        "\n",
        "# Use the nn package to define our model and loss function.\n",
        "model = torch.nn.Sequential(\n",
        "    torch.nn.Linear(D_in, H1),\n",
        "    torch.nn.ReLU(),\n",
        "    torch.nn.Linear(H1, H2),\n",
        "    torch.nn.ReLU(),\n",
        "    torch.nn.Linear(H2, H3),\n",
        "    torch.nn.ReLU(),\n",
        "    torch.nn.Linear(H3, D_out)\n",
        ")\n",
        "loss_fn = torch.nn.MSELoss(reduction='mean')\n",
        "\n",
        "learning_rate = 1e-2\n",
        "optimizer = torch.optim.Adam(model.parameters(), lr=learning_rate)\n",
        "for t in range(Niter):\n",
        "    #for i in range(N):\n",
        "    # Forward pass: compute predicted y by passing x to the model.\n",
        "    y_pred = model(x)\n",
        "\n",
        "    # Compute and print loss.\n",
        "    loss = loss_fn(y_pred, y)\n",
        "    saveLoss[t] = loss.detach().numpy()\n",
        "    if t % 1000 == 999:\n",
        "        print(t, loss.item())\n",
        "\n",
        "    # Before the backward pass, use the optimizer object to zero all of the\n",
        "    # gradients for the variables it will update (which are the learnable\n",
        "    # weights of the model). This is because by default, gradients are\n",
        "    # accumulated in buffers( i.e, not overwritten) whenever .backward()\n",
        "    # is called. Checkout docs of torch.autograd.backward for more details.\n",
        "    optimizer.zero_grad()\n",
        "\n",
        "    # Backward pass: compute gradient of the loss with respect to model\n",
        "    # parameters\n",
        "    loss.backward()\n",
        "\n",
        "    # Calling the step function on an Optimizer makes an update to its\n",
        "    # parameters\n",
        "    optimizer.step()\n",
        "    \n"
      ],
      "execution_count": 5,
      "outputs": [
        {
          "output_type": "stream",
          "text": [
            "999 3.9074015617370605\n",
            "1999 2.499197483062744\n",
            "2999 2.8203115463256836\n",
            "3999 0.10281402617692947\n",
            "4999 0.9155620336532593\n"
          ],
          "name": "stdout"
        }
      ]
    },
    {
      "cell_type": "markdown",
      "metadata": {
        "id": "VW-RbXaP2OrE",
        "colab_type": "text"
      },
      "source": [
        "Plot the training error as a function of the epoch"
      ]
    },
    {
      "cell_type": "code",
      "metadata": {
        "id": "aam3YN7VouD-",
        "colab_type": "code",
        "outputId": "6a4f45b1-24cb-447f-94ec-2aeed57d6ead",
        "colab": {
          "base_uri": "https://localhost:8080/",
          "height": 283
        }
      },
      "source": [
        "fig, ax = plt.subplots()\n",
        "plt.plot(range(Niter),saveLoss,'b-',label='Training error')\n",
        "plt.xlabel('Epoch')\n",
        "plt.ylabel('MSE')\n",
        "ax.legend()\n",
        "plt.show()"
      ],
      "execution_count": 6,
      "outputs": [
        {
          "output_type": "display_data",
          "data": {
            "image/png": "[encoded data removed]",
            "text/plain": [
              "<Figure size 432x288 with 1 Axes>"
            ]
          },
          "metadata": {
            "tags": []
          }
        }
      ]
    },
    {
      "cell_type": "markdown",
      "metadata": {
        "id": "FnjcbWrJ0CV3",
        "colab_type": "text"
      },
      "source": [
        "### Question: plot on the same graph the quartic function and its approximation"
      ]
    },
    {
      "cell_type": "code",
      "metadata": {
        "scrolled": true,
        "id": "AnvnNn-touEB",
        "colab_type": "code",
        "outputId": "9f7870ab-b1c4-416c-9a01-7f33d8b7b706",
        "colab": {
          "base_uri": "https://localhost:8080/",
          "height": 283
        }
      },
      "source": [
        "y_pred = model(x)\n",
        "fig, ax = plt.subplots()\n",
        "plt.plot(x.numpy(), y.numpy(),'r-',label='Quartic function')\n",
        "plt.plot(x.numpy(), y_pred.detach().numpy(),'bo-',label='Deep approximation')\n",
        "plt.xlabel('$x$')\n",
        "plt.ylabel('$f(x)$')\n",
        "ax.legend()\n",
        "plt.show()"
      ],
      "execution_count": 7,
      "outputs": [
        {
          "output_type": "display_data",
          "data": {
            "image/png": "[encoded data removed]",
            "text/plain": [
              "<Figure size 432x288 with 1 Axes>"
            ]
          },
          "metadata": {
            "tags": []
          }
        }
      ]
    },
    {
      "cell_type": "markdown",
      "metadata": {
        "id": "_MpXhTY1rwGE",
        "colab_type": "text"
      },
      "source": [
        "How many parameters?"
      ]
    },
    {
      "cell_type": "code",
      "metadata": {
        "id": "OhpZsJxeouD1",
        "colab_type": "code",
        "colab": {}
      },
      "source": [
        "# Function to count the number of parameters\n",
        "def count_parameters(model):\n",
        "    return sum(p.numel() for p in model.parameters() if p.requires_grad)\n"
      ],
      "execution_count": 0,
      "outputs": []
    },
    {
      "cell_type": "code",
      "metadata": {
        "id": "xsEJhkeUr107",
        "colab_type": "code",
        "outputId": "90065f3a-d6ff-48a1-85a7-931ff7afd41e",
        "colab": {
          "base_uri": "https://localhost:8080/",
          "height": 221
        }
      },
      "source": [
        "print(model.parameters)\n",
        "print(\"\\nTotal number of parameters {}\\n\".format(count_parameters(model)))"
      ],
      "execution_count": 9,
      "outputs": [
        {
          "output_type": "stream",
          "text": [
            "<bound method Module.parameters of Sequential(\n",
            "  (0): Linear(in_features=1, out_features=40, bias=True)\n",
            "  (1): ReLU()\n",
            "  (2): Linear(in_features=40, out_features=20, bias=True)\n",
            "  (3): ReLU()\n",
            "  (4): Linear(in_features=20, out_features=20, bias=True)\n",
            "  (5): ReLU()\n",
            "  (6): Linear(in_features=20, out_features=1, bias=True)\n",
            ")>\n",
            "\n",
            "Total number of parameters 1341\n",
            "\n"
          ],
          "name": "stdout"
        }
      ]
    },
    {
      "cell_type": "markdown",
      "metadata": {
        "id": "uRKKUiGMMAGL",
        "colab_type": "text"
      },
      "source": [
        "Print all the parameters (just for seeing them)"
      ]
    },
    {
      "cell_type": "code",
      "metadata": {
        "id": "hstPktpFLuYl",
        "colab_type": "code",
        "outputId": "cdfa4431-3755-4d39-8a69-c4c254c42a6e",
        "colab": {
          "base_uri": "https://localhost:8080/",
          "height": 1000
        }
      },
      "source": [
        "for parameter in model.parameters():\n",
        "    print(parameter)"
      ],
      "execution_count": 10,
      "outputs": [
        {
          "output_type": "stream",
          "text": [
            "Parameter containing:\n",
            "tensor([[ 0.5625],\n",
            "        [-0.6598],\n",
            "        [ 0.9627],\n",
            "        [-1.1967],\n",
            "        [ 0.1083],\n",
            "        [ 0.0704],\n",
            "        [ 0.8061],\n",
            "        [ 0.6940],\n",
            "        [ 0.4227],\n",
            "        [ 0.2330],\n",
            "        [-0.0940],\n",
            "        [-0.3435],\n",
            "        [ 0.2272],\n",
            "        [ 0.0968],\n",
            "        [-0.1258],\n",
            "        [-0.4261],\n",
            "        [-0.3497],\n",
            "        [ 0.1306],\n",
            "        [ 0.4184],\n",
            "        [-1.3451],\n",
            "        [ 0.4967],\n",
            "        [ 0.2952],\n",
            "        [ 0.6234],\n",
            "        [-0.9148],\n",
            "        [ 0.8009],\n",
            "        [ 0.1450],\n",
            "        [-0.6778],\n",
            "        [ 0.1123],\n",
            "        [ 0.3935],\n",
            "        [ 0.8042],\n",
            "        [ 0.4691],\n",
            "        [ 0.1763],\n",
            "        [ 0.4097],\n",
            "        [ 0.3972],\n",
            "        [-0.6451],\n",
            "        [ 0.3638],\n",
            "        [-1.1203],\n",
            "        [-0.8236],\n",
            "        [ 0.6080],\n",
            "        [-0.2686]], requires_grad=True)\n",
            "Parameter containing:\n",
            "tensor([-1.6188, -1.8274, -0.5373, -2.5080, -0.5410, -0.5503, -0.1275, -1.7358,\n",
            "         2.4014, -0.9438,  2.1633,  0.9273,  2.1319,  1.4341,  2.2990,  1.9313,\n",
            "         1.8068,  1.5385,  2.3846, -1.1307, -1.3564,  0.8501, -1.4067, -1.6948,\n",
            "         0.1741,  1.9527, -1.7337, -0.5270,  0.7929, -1.1831, -0.8604, -0.8054,\n",
            "         2.3929,  2.3187, -2.4631,  1.4904, -1.3982, -0.4013, -1.6497,  0.8201],\n",
            "       requires_grad=True)\n",
            "Parameter containing:\n",
            "tensor([[-2.3888e-01, -1.3395e+00,  5.9047e-01, -8.2023e-01, -1.2567e-01,\n",
            "         -1.4089e-02,  7.0408e-01, -2.9836e-02,  1.4592e+00, -3.8814e-02,\n",
            "          6.9988e-01,  1.7418e-01,  1.0259e+00,  9.2117e-01,  8.3058e-01,\n",
            "          4.2956e-01,  3.9957e-01,  1.0368e+00,  1.4239e+00, -2.4808e-01,\n",
            "          2.3472e-01,  1.4170e-01, -2.6920e-01, -5.5889e-01,  6.0355e-01,\n",
            "          9.4198e-01, -9.2526e-01,  2.3005e-02, -3.6463e-01,  1.2167e-01,\n",
            "         -1.5830e-01, -1.3950e-01,  1.3391e+00,  1.5069e+00, -2.2371e+00,\n",
            "         -1.8724e-01, -5.5330e-01,  2.4084e-02,  2.0744e-01,  3.6939e-01],\n",
            "        [ 8.0043e-01,  1.2074e-01,  1.1236e-01, -1.8065e-01,  1.3068e-01,\n",
            "          1.8126e-02, -3.9620e-02,  8.7680e-01,  6.0824e-01, -4.2008e-02,\n",
            "          3.7502e-01,  7.9417e-02,  3.2909e-01,  4.9842e-01,  3.2159e-01,\n",
            "          3.0243e-01,  2.4800e-01,  3.9063e-01,  7.0619e-01, -5.1762e-01,\n",
            "          4.9686e-01,  3.2946e-01,  8.1671e-01, -1.9137e-01, -6.7166e-02,\n",
            "          3.2853e-01, -1.5193e-01, -6.9597e-02,  7.4591e-01,  5.8534e-01,\n",
            "          7.8252e-01, -2.7367e-02,  5.5547e-01,  7.0868e-01, -1.3517e+00,\n",
            "          7.3070e-01, -5.9984e-01, -2.1891e-01,  8.5219e-01,  2.6148e-01],\n",
            "        [-6.3390e-01, -5.5407e-01,  2.5791e-01, -5.1183e-01,  7.6045e-03,\n",
            "          1.3181e-01,  5.4572e-01, -6.1215e-01,  8.1117e-01, -4.0224e-02,\n",
            "          3.4197e-01,  1.7083e-01,  6.6790e-01,  4.2220e-01,  3.5541e-01,\n",
            "          5.2804e-02,  1.9221e-01,  3.0543e-01,  6.5188e-01, -1.6982e-01,\n",
            "         -2.7675e-01,  5.3628e-03, -8.4043e-01, -1.2759e-01,  3.4584e-01,\n",
            "          2.3201e-01, -3.5177e-01, -1.1979e-01, -6.7747e-01, -1.0460e-01,\n",
            "         -9.7645e-01,  9.6878e-02,  7.5390e-01,  6.1819e-01, -1.7824e+00,\n",
            "         -4.3080e-01, -1.4545e-01,  1.0966e-02, -6.4219e-01,  1.4069e-01],\n",
            "        [-7.0967e-01, -1.4126e+00,  2.4625e-01, -1.2687e+00, -7.0088e-02,\n",
            "         -7.6193e-03,  3.7701e-01, -7.0110e-01,  1.7325e+00,  6.7402e-02,\n",
            "          9.1911e-01,  2.2700e-01,  1.4922e+00,  1.2365e+00,  9.0146e-01,\n",
            "          5.1118e-01,  5.8619e-01,  1.2855e+00,  1.5576e+00, -2.9453e-01,\n",
            "         -1.7888e-01,  1.3416e-01, -9.0741e-01, -7.9069e-01,  4.6409e-01,\n",
            "          8.9180e-01, -1.1513e+00, -9.1661e-02, -6.8915e-01, -1.2824e-01,\n",
            "         -9.4710e-01,  1.4840e-01,  1.5274e+00,  1.7306e+00, -2.8546e+00,\n",
            "         -4.4627e-01, -5.6067e-01, -1.3022e-01, -4.1430e-01,  1.9827e-01],\n",
            "        [-8.2187e-01, -5.0437e-01,  4.7539e-01, -3.1284e-01, -8.7971e-03,\n",
            "          9.5148e-02,  5.1056e-01, -5.8400e-01,  6.4067e-01,  7.5788e-02,\n",
            "          2.3174e-01, -8.2423e-02,  4.5682e-01,  6.1174e-01,  2.6695e-01,\n",
            "          1.8298e-01,  1.7042e-01,  3.9981e-01,  6.9468e-01,  8.3248e-03,\n",
            "         -2.4737e-01,  2.4905e-01, -7.8116e-01, -2.4965e-01,  6.1377e-01,\n",
            "          1.1939e-01, -2.9462e-01, -1.2172e-01, -2.6159e-01, -1.4677e-01,\n",
            "         -7.1361e-01,  3.4827e-02,  5.3208e-01,  5.8828e-01, -2.0190e+00,\n",
            "         -1.8338e-01, -1.7485e-01,  3.6115e-02, -5.7515e-01, -9.9315e-02],\n",
            "        [-5.8721e-01, -5.8953e-01,  4.3792e-01, -4.8464e-01, -3.7498e-02,\n",
            "         -7.5041e-03,  5.4411e-01, -3.6239e-01,  6.9962e-01, -9.6360e-02,\n",
            "          2.3547e-01,  9.3802e-02,  7.1577e-01,  4.3676e-01,  3.6239e-01,\n",
            "          2.6197e-02,  8.5867e-02,  4.7103e-01,  8.3509e-01, -3.1907e-01,\n",
            "         -2.5773e-01,  2.1749e-01, -5.1523e-01, -3.6251e-01,  6.9272e-01,\n",
            "          2.1307e-01, -4.9639e-01,  1.5563e-01, -4.0831e-01,  5.7729e-02,\n",
            "         -5.7386e-01,  7.8628e-02,  8.0115e-01,  6.3624e-01, -2.3506e+00,\n",
            "         -2.0519e-01, -1.7908e-01, -1.7125e-02, -3.7078e-01, -4.0064e-02],\n",
            "        [-9.1482e-02,  7.4320e-02, -1.0914e-01, -1.3137e-01,  1.5456e-01,\n",
            "         -1.4291e-01, -1.4329e-01,  1.1288e-01, -8.6535e-02,  1.3091e-01,\n",
            "          7.2548e-02, -5.9457e-02,  4.5789e-02,  1.3429e-01, -9.6988e-02,\n",
            "         -1.3918e-01,  5.3894e-02, -8.6166e-02, -2.3828e-02,  3.6214e-02,\n",
            "         -4.1223e-02, -3.7633e-02, -5.6212e-02, -9.4684e-02, -2.0041e-02,\n",
            "          1.5805e-01, -8.8204e-02,  1.1374e-01,  7.5728e-02,  1.3791e-01,\n",
            "          2.4144e-02, -4.3653e-02,  2.1784e-02, -9.2397e-02,  3.8307e-02,\n",
            "         -9.2068e-02,  1.4365e-01, -5.4362e-02,  6.9851e-02,  1.2202e-01],\n",
            "        [-7.0403e-01, -7.2327e-01,  1.0569e-01, -5.6507e-01, -1.5976e-02,\n",
            "          2.3484e-03,  3.7196e-01, -6.5420e-01,  5.4219e-01, -1.2559e-01,\n",
            "          4.2236e-01,  8.0320e-02,  5.5725e-01,  6.5507e-01,  2.8057e-01,\n",
            "          2.5439e-01,  1.4712e-01,  5.9418e-01,  6.9116e-01, -1.9054e-01,\n",
            "         -4.4554e-01, -1.8633e-01, -7.5739e-01, -3.3858e-01,  3.5228e-01,\n",
            "          3.4989e-01, -6.3532e-01,  1.1329e-04, -5.2943e-01, -1.9670e-01,\n",
            "         -9.0147e-01, -3.1971e-03,  5.2455e-01,  6.6632e-01, -2.2882e+00,\n",
            "         -3.7144e-01, -1.2938e-01,  2.2671e-01, -6.8581e-01,  1.7242e-01],\n",
            "        [ 1.2109e-01, -8.4389e-02, -8.3268e-02,  5.8549e-02, -9.2279e-02,\n",
            "         -5.5345e-02, -1.0459e-01, -8.7189e-02,  4.4533e-02,  1.1719e-01,\n",
            "          3.1290e-02, -9.4782e-02, -9.2782e-02, -5.3788e-02, -7.3022e-02,\n",
            "          9.0992e-02, -1.0407e-01, -5.4480e-03, -1.1433e-01, -4.6791e-02,\n",
            "         -1.1625e-01, -1.5767e-01, -5.3747e-02,  2.6931e-02,  1.0205e-01,\n",
            "          1.4222e-01, -5.3605e-02, -9.5733e-02,  7.3071e-02,  1.0545e-01,\n",
            "          1.4705e-01, -6.8914e-02, -1.0923e-02,  4.5133e-03,  9.3381e-02,\n",
            "         -1.2230e-01, -9.5297e-02, -5.6572e-02, -1.0105e-01,  2.5261e-02],\n",
            "        [-2.7533e-03, -1.1107e-01,  1.5355e-01,  4.0335e-02, -4.8898e-02,\n",
            "          5.2741e-02, -1.3955e-01, -8.4106e-03, -4.9213e-02,  1.3191e-01,\n",
            "         -1.8350e-01,  5.3909e-02, -9.0822e-02, -2.9050e-02,  4.2616e-02,\n",
            "         -8.3308e-02, -5.7665e-02, -1.5867e-01, -2.0807e-01, -1.4866e-01,\n",
            "         -6.4275e-02, -9.9268e-02, -1.0608e-01, -1.1305e-01,  2.4348e-02,\n",
            "         -5.2522e-02, -1.3929e-01,  2.2108e-02,  1.4859e-02, -9.0709e-02,\n",
            "         -1.0397e-01,  1.3760e-01,  7.0512e-02,  7.7397e-02, -1.2547e-01,\n",
            "         -2.0319e-01,  1.1856e-03, -2.7413e-02,  1.2686e-02, -8.8881e-02],\n",
            "        [ 8.0756e-01,  3.8172e-01,  1.1734e-01, -3.0810e-01, -2.7079e-03,\n",
            "          9.5247e-02, -1.3634e-01,  9.0350e-01,  7.7906e-01, -1.2146e-01,\n",
            "          1.9878e-01, -9.2471e-02,  8.9555e-01,  4.8881e-01,  2.2882e-01,\n",
            "          3.4887e-01,  1.5633e-01,  3.9716e-01,  7.0704e-01, -4.2984e-01,\n",
            "          6.6858e-01,  4.0719e-01,  8.5303e-01, -1.1289e-01,  3.1555e-02,\n",
            "          1.6986e-01,  2.5983e-01, -5.4587e-02,  7.3587e-01,  6.3868e-01,\n",
            "          8.6122e-01,  4.8234e-02,  7.5196e-01,  8.6144e-01, -1.7037e+00,\n",
            "          7.0329e-01, -4.4173e-01, -3.9502e-01,  7.8929e-01,  2.8397e-02],\n",
            "        [ 7.7675e-01, -5.0659e-01, -1.9761e-01, -7.5901e-01, -4.9230e-02,\n",
            "          1.4740e-01, -3.8011e-01,  5.8596e-01,  7.4228e-01, -1.3119e-01,\n",
            "          8.1419e-01,  2.0578e-01,  8.6378e-01,  5.5837e-01,  6.9106e-01,\n",
            "          8.4622e-01,  6.8416e-01,  6.7912e-01,  7.7907e-01, -8.1783e-01,\n",
            "          4.8030e-01,  1.4673e-01,  7.1531e-01, -7.9239e-01, -2.1062e-01,\n",
            "          8.1421e-01, -4.8129e-01, -1.9021e-02,  6.9463e-01,  1.6474e-01,\n",
            "          6.7341e-01, -1.5767e-01,  9.9009e-01,  8.8385e-01, -5.2734e-01,\n",
            "          6.4054e-01, -9.1093e-01, -7.6509e-01,  5.5116e-01,  2.1335e-01],\n",
            "        [ 1.1235e+00,  6.6782e-02,  5.6090e-01, -4.6205e-02, -4.0264e-02,\n",
            "         -2.6284e-02,  6.5556e-01,  8.7897e-01,  3.9060e-02, -1.3666e-01,\n",
            "         -3.5686e-01, -5.4205e-01, -1.0514e-01, -4.2889e-01, -3.3812e-01,\n",
            "         -3.6891e-01, -1.1208e-01, -2.5898e-01, -1.1275e-01, -2.0570e-01,\n",
            "          9.8353e-01,  2.5701e-01,  9.4539e-01, -1.7933e-01,  4.8145e-01,\n",
            "         -1.4301e-01, -1.0801e-01, -1.3016e-01,  3.2353e-01,  9.4640e-01,\n",
            "          9.6954e-01, -4.1945e-02, -7.0118e-02, -1.0068e-01,  1.4171e-02,\n",
            "          3.1518e-01,  7.1918e-02,  8.8153e-03,  1.0961e+00, -5.2929e-01],\n",
            "        [-2.9100e-02, -1.2701e-01, -2.0360e-01, -1.6252e-01, -8.8367e-02,\n",
            "         -1.4770e-01, -6.0373e-02, -9.3959e-02,  4.4821e-02,  4.3947e-03,\n",
            "          4.2452e-02, -2.8314e-02, -1.8088e-01,  2.6082e-02, -3.0383e-02,\n",
            "         -2.0296e-02,  7.3784e-02, -5.1837e-02, -3.1253e-02,  4.7064e-02,\n",
            "          4.9384e-02,  3.3972e-02, -1.0587e-02, -1.9865e-01,  4.6187e-02,\n",
            "         -3.6424e-02, -1.1956e-01, -8.8168e-02, -1.6377e-01, -1.8878e-01,\n",
            "          8.3856e-02,  6.3890e-02, -6.2700e-02, -8.8051e-02, -2.1675e-01,\n",
            "         -1.4399e-01,  5.8784e-02,  3.9782e-02,  4.3636e-02,  4.3090e-02],\n",
            "        [ 1.2503e+00, -1.5453e-01,  5.9721e-01,  4.8844e-04, -1.0631e-01,\n",
            "         -1.2101e-01,  6.5861e-01,  1.1804e+00, -8.0192e-02,  1.0898e-01,\n",
            "         -5.3041e-01, -1.0273e-01, -3.3010e-01, -3.4322e-01, -3.8766e-01,\n",
            "         -6.7821e-01, -5.4544e-01, -4.8264e-01, -2.0140e-01,  5.1985e-02,\n",
            "          1.0915e+00,  2.0210e-01,  1.1311e+00,  3.2238e-02,  4.8785e-01,\n",
            "         -3.6200e-01,  1.6827e-02, -3.2861e-02,  1.9873e-01,  9.4555e-01,\n",
            "          9.7144e-01, -7.7890e-02, -1.2291e-01, -3.4957e-01, -5.0186e-02,\n",
            "          1.4091e-02,  4.1294e-02, -5.3303e-03,  1.0604e+00, -2.4683e-01],\n",
            "        [-4.5262e-01, -1.3121e-01,  2.8273e-01,  2.0852e-01,  1.3502e-01,\n",
            "          2.9887e-02,  3.7594e-01, -2.6377e-01,  5.1013e-01,  3.7006e-02,\n",
            "          2.8560e-01,  1.9370e-01,  1.6496e-01,  3.6519e-01,  1.4533e-02,\n",
            "          1.2748e-01,  1.4528e-01,  3.4701e-02,  2.4622e-01,  8.4647e-01,\n",
            "         -2.1004e-01,  1.9291e-01, -4.5838e-01,  4.0739e-01,  5.8790e-01,\n",
            "          2.4504e-01,  1.6417e-01,  1.8617e-02, -5.6091e-01, -1.3502e-03,\n",
            "         -6.6060e-01,  1.4302e-01,  4.8999e-01,  5.0532e-01, -4.9999e-01,\n",
            "         -3.0489e-01,  6.3692e-01,  7.0953e-01, -3.0443e-01,  3.2353e-01],\n",
            "        [ 9.7290e-01,  7.7267e-02,  2.7398e-01, -1.6420e-01,  6.9225e-02,\n",
            "          1.3102e-01,  1.1669e-02,  8.6865e-01,  5.4399e-01,  1.1270e-02,\n",
            "         -3.3363e-03,  9.4047e-02,  1.6565e-01, -2.8819e-02,  4.8172e-02,\n",
            "          1.9393e-01,  7.3517e-02, -5.5842e-02,  7.6653e-01, -4.5204e-01,\n",
            "          5.4721e-01,  5.1190e-01,  9.8597e-01, -1.9805e-01,  1.8784e-01,\n",
            "          3.4629e-01, -1.1321e-01, -5.8894e-02,  9.8797e-01,  7.3244e-01,\n",
            "          7.5323e-01,  8.8962e-02,  7.4595e-01,  7.8485e-01, -1.4092e+00,\n",
            "          6.5647e-01, -3.8086e-01, -1.3194e-01,  7.9929e-01,  7.6429e-02],\n",
            "        [-4.8115e-02,  1.3609e+00, -1.7100e-01,  9.3402e-01, -9.3553e-02,\n",
            "          2.3095e-02, -1.0023e-01,  8.2431e-02, -2.5152e+00, -2.9426e-02,\n",
            "         -7.7610e-01,  8.5920e-03, -1.4848e+00, -9.5153e-01, -5.3992e-01,\n",
            "         -3.2725e-01, -1.3634e-01, -1.2044e+00, -2.3062e+00,  8.1691e-01,\n",
            "         -1.3130e-01,  8.9101e-02, -8.9948e-02,  9.4103e-01, -4.0014e-02,\n",
            "         -1.0997e+00,  1.2820e+00, -8.6056e-02, -4.8953e-01, -1.7178e-01,\n",
            "          6.7297e-02,  1.1065e-01, -2.4786e+00, -2.4270e+00,  1.7736e+00,\n",
            "          4.4814e+00,  9.8135e-01,  4.2746e-01,  1.2659e-03,  3.0679e-02],\n",
            "        [-6.2822e-01, -4.7748e-01,  1.7356e-01, -3.2103e-01, -2.2293e-03,\n",
            "          6.9560e-02,  4.2071e-01, -4.3890e-01,  5.8008e-01,  4.1993e-02,\n",
            "          3.1311e-01, -2.3171e-02,  5.5135e-01,  6.1193e-01,  1.5818e-01,\n",
            "          2.7060e-01,  1.8772e-01,  3.9511e-01,  7.2813e-01, -8.2454e-02,\n",
            "         -3.9930e-01,  1.1533e-01, -8.9792e-01, -1.6332e-01,  4.6740e-01,\n",
            "          1.4554e-01, -5.9642e-01, -7.9433e-02, -7.0103e-01, -4.0127e-01,\n",
            "         -9.2635e-01, -6.3041e-02,  5.9424e-01,  7.5815e-01, -1.9670e+00,\n",
            "         -3.9982e-01, -1.6070e-01, -9.6743e-02, -5.2400e-01,  1.6643e-01],\n",
            "        [-1.4682e-01, -2.1960e-01,  1.4166e-02, -1.6394e-01, -1.1393e-01,\n",
            "         -2.6011e-02, -1.8204e-01, -5.8452e-02, -1.2686e-01, -9.7909e-02,\n",
            "         -7.8568e-02, -1.7675e-01,  8.9120e-02, -8.9640e-02,  8.5292e-02,\n",
            "          1.8505e-02, -2.6068e-02, -1.7071e-01,  5.3672e-02,  4.2051e-02,\n",
            "          7.1959e-02, -5.5804e-02, -7.9911e-02, -1.1342e-01, -1.4454e-01,\n",
            "          5.7948e-02,  6.4610e-02, -6.7854e-02, -1.7092e-01, -9.9617e-02,\n",
            "         -3.3192e-02,  4.8273e-02, -1.6846e-01, -9.1273e-02, -9.8702e-02,\n",
            "         -5.6572e-02, -1.9897e-01,  7.2733e-03, -3.4571e-02, -2.1161e-01]],\n",
            "       requires_grad=True)\n",
            "Parameter containing:\n",
            "tensor([ 0.9792,  0.5959,  0.6348,  1.0489,  0.5896,  0.6618, -0.1099,  0.7719,\n",
            "         0.0827, -0.1604,  0.9249,  0.9511, -0.1160, -0.0255, -0.4543,  0.2451,\n",
            "         0.7032, -1.0083,  0.5381,  0.0209], requires_grad=True)\n",
            "Parameter containing:\n",
            "tensor([[-2.1972e-01, -4.5791e-01,  3.7233e-01,  1.2226e-01,  5.2647e-02,\n",
            "          1.0270e-01,  8.6053e-02,  6.4883e-01,  6.7051e-02, -9.6598e-02,\n",
            "         -4.6648e-01,  8.7748e-01, -1.2728e+00, -5.9238e-02, -9.6377e-01,\n",
            "         -2.8164e-02, -7.4679e-01, -1.1675e+00,  3.4461e-01,  2.0607e-01],\n",
            "        [ 1.2027e+00, -7.7499e-01, -2.3150e+00,  2.6519e+00, -1.4946e+00,\n",
            "         -1.9767e+00,  3.8312e-02, -2.2755e+00, -2.2022e-01,  1.2654e-01,\n",
            "         -7.1089e-01, -3.0739e-01,  3.9830e-02,  5.4240e-02,  5.5515e-02,\n",
            "          9.2794e-01, -5.4972e-02,  8.9401e-02, -1.9883e+00, -1.5145e-02],\n",
            "        [ 2.0168e-01, -4.2488e-01,  5.6278e-01,  6.4957e-01,  4.7321e-01,\n",
            "          4.5481e-01,  6.9036e-02,  5.6220e-01,  1.1839e-01, -3.3466e-02,\n",
            "         -2.3678e-01, -6.7228e-01, -3.6042e-01, -2.2232e-01, -9.5205e-01,\n",
            "          5.4442e-01, -3.5493e-01, -1.4674e+00,  3.8055e-01,  1.1997e-01],\n",
            "        [-3.4366e-01,  6.3079e-02,  8.9711e-04, -2.0640e-01,  1.8086e-01,\n",
            "         -1.1657e-01,  1.8871e-01, -2.0154e-01,  4.9619e-02, -7.4390e-02,\n",
            "          2.5849e-02, -2.2343e-01, -1.3692e-01, -1.8560e-01, -6.7875e-02,\n",
            "         -2.7912e-01, -1.4742e-01, -6.8391e-02,  1.8426e-01,  1.4794e-01],\n",
            "        [ 4.4104e-01, -4.1303e-01,  7.2110e-01,  3.6478e-01,  5.7503e-01,\n",
            "          5.4366e-01, -1.7432e-01,  8.2815e-01, -9.2195e-02, -1.5055e-01,\n",
            "         -6.3796e-01, -6.7721e-01, -7.4116e-01, -1.0995e-01, -7.2027e-01,\n",
            "          5.7030e-01, -2.6290e-01, -1.5656e+00,  4.9764e-01, -1.6273e-01],\n",
            "        [ 2.2692e-01, -1.0257e+00,  4.5724e-01,  5.2472e-01,  3.0570e-01,\n",
            "          6.8313e-02,  5.5378e-03,  6.5031e-01, -6.4247e-02, -2.0308e-01,\n",
            "         -1.0743e+00, -8.1869e-01,  8.0587e-02,  4.5067e-02,  1.0299e-01,\n",
            "          4.9356e-01, -9.6195e-01, -1.3441e+00,  3.6506e-01,  1.3324e-01],\n",
            "        [ 5.5009e-01, -6.3935e-01,  6.4183e-01,  6.9010e-01,  5.3837e-01,\n",
            "          2.4274e-01,  1.7093e-01,  6.6192e-01, -1.8329e-01,  1.7130e-03,\n",
            "         -3.1706e-01, -5.3262e-01, -4.5509e-01,  2.9385e-01, -7.6203e-01,\n",
            "          3.3044e-01, -5.6182e-01, -1.0945e+00,  5.3682e-01, -7.4480e-02],\n",
            "        [ 7.6779e-03,  1.2364e-02, -2.0328e-01, -5.6332e-04, -1.3132e-01,\n",
            "         -1.2323e-02,  1.6779e-01, -1.6342e-01,  1.8009e-01,  2.0573e-01,\n",
            "         -1.3665e-01, -2.0189e-02,  1.3556e-01, -9.7620e-02, -1.0701e-01,\n",
            "         -4.9457e-03, -1.6232e-01, -3.2575e-02, -1.1442e-01,  1.7654e-01],\n",
            "        [ 5.2315e-01, -6.9053e-01,  7.1558e-01,  6.9163e-01,  6.2250e-01,\n",
            "          4.4742e-01,  2.1697e-02,  7.8235e-01,  1.5455e-02, -6.2629e-02,\n",
            "         -5.5089e-01, -5.6586e-01, -6.1431e-01, -4.9301e-02, -4.8258e-01,\n",
            "          4.5110e-01, -2.1989e-01, -1.3670e+00,  5.1316e-01,  1.6276e-01],\n",
            "        [-6.9175e-02, -5.5764e-02,  2.1666e-01, -6.9580e-02, -1.6087e-01,\n",
            "          3.5842e-02, -2.8803e-02, -1.2361e-01, -1.8862e-01,  2.4756e-01,\n",
            "          1.2588e-01, -5.8971e-02, -6.9737e-02,  7.9593e-02,  2.3639e-01,\n",
            "         -4.8208e-02, -2.2108e-01, -9.2944e-02,  1.2354e-01, -3.5014e-02],\n",
            "        [ 6.3227e-01, -5.2959e-01,  4.4339e-01,  7.1874e-01,  3.5746e-01,\n",
            "          4.7359e-01, -8.5049e-03,  6.3811e-01,  1.1074e-01, -1.3587e-01,\n",
            "         -3.2243e-01, -7.5298e-01, -1.0993e-01, -6.1690e-02, -2.3990e-01,\n",
            "          3.8335e-01, -2.8202e-01, -1.2142e+00,  5.6717e-01, -5.3805e-03],\n",
            "        [ 3.9960e-01, -4.2355e-01,  4.3602e-01,  6.0412e-01,  6.2685e-01,\n",
            "          4.9670e-01, -5.5662e-03,  4.9736e-01, -3.8310e-02,  1.8298e-02,\n",
            "         -4.4652e-01, -6.9505e-01, -3.1265e-01,  2.0166e-01, -6.5304e-01,\n",
            "          3.8994e-01, -4.9037e-01, -1.1532e+00,  4.2652e-01,  1.7323e-01],\n",
            "        [-5.5201e+00, -9.4903e-03, -1.3138e+00, -1.3688e+00,  6.0524e-02,\n",
            "         -4.1858e+00,  1.2642e-01, -1.3286e+00,  9.0379e-03,  1.6100e-01,\n",
            "         -1.6370e-01, -3.8259e-02, -1.5070e-01,  7.5784e-02, -9.3491e-02,\n",
            "         -6.2767e-01, -2.7711e-02,  2.3518e+00, -4.0072e-01,  4.2466e-02],\n",
            "        [ 7.0927e-01,  1.0346e+00, -3.3461e-01,  6.9660e-01,  7.1668e-02,\n",
            "          4.1069e-02,  6.0091e-02, -5.2774e-01, -1.9048e-01,  2.2332e-01,\n",
            "          1.0017e+00,  1.1317e+00,  6.6433e-01, -1.4909e-01,  8.5062e-01,\n",
            "          3.5388e-01,  8.3142e-01,  5.4106e-01, -2.0215e-01, -9.9015e-03],\n",
            "        [-2.3429e-01,  6.4716e-02,  4.3579e-02, -1.2553e-01, -3.1413e-02,\n",
            "         -2.4425e-01, -1.0261e-01,  1.4944e-01,  1.3512e-01,  1.8424e-01,\n",
            "         -3.0596e-01, -9.2592e-02,  3.3488e-02,  4.6219e-03, -7.1779e-02,\n",
            "         -8.2903e-02, -4.0901e-02, -2.1167e-02, -1.8545e-02,  3.6393e-02],\n",
            "        [ 8.9894e-01,  8.4031e-01, -5.4836e-02,  5.6490e-01, -9.9921e-02,\n",
            "          1.7877e-01, -9.6305e-02, -3.0623e-01,  1.5271e-01,  8.1238e-02,\n",
            "          4.8588e-01,  8.8793e-01,  6.2366e-01,  9.8318e-02,  7.9594e-01,\n",
            "          4.5407e-01,  7.3374e-01, -7.5690e-01, -2.1922e-01,  9.3556e-02],\n",
            "        [ 9.3566e-02, -7.1175e-01,  6.2637e-01, -5.7917e-02,  5.3853e-01,\n",
            "          3.3168e-01, -2.0524e-01,  6.0806e-01,  9.0051e-03, -1.4431e-01,\n",
            "         -2.3149e-01, -6.8974e-01, -5.7264e-01,  2.4626e-01, -7.6316e-01,\n",
            "         -9.6941e-02, -4.5933e-01,  7.8556e-02,  6.3936e-01, -9.8349e-02],\n",
            "        [-3.0831e+00, -8.5497e-02, -6.4822e+00, -1.0684e+01, -1.1863e+00,\n",
            "         -8.4365e+00, -3.4956e-02, -3.9251e+00,  9.4137e-02,  2.5615e-02,\n",
            "         -1.7349e-01, -2.3063e-01, -2.0367e-01,  7.2230e-02,  4.2625e-02,\n",
            "          1.5988e-01, -9.3947e-03,  2.0553e+00, -5.2556e+00,  2.9251e-02],\n",
            "        [-4.3134e-02, -5.2388e-01,  6.5906e-01,  3.1309e-02,  2.6904e-01,\n",
            "          5.9935e-01,  1.2567e-02,  4.7746e-01, -3.1212e-03,  1.3654e-01,\n",
            "         -3.0912e-01, -9.4517e-01, -4.9066e-01,  1.0271e-01, -5.2798e-01,\n",
            "          1.7228e-01, -2.5712e-01, -2.3378e-01,  4.9580e-01,  1.3079e-01],\n",
            "        [ 1.8658e-01, -1.4055e-01, -1.6137e-01,  1.9253e-01, -1.9711e-01,\n",
            "         -2.1341e-01, -5.4264e-03, -1.9002e-01,  1.4978e-01, -3.3700e-02,\n",
            "         -1.2595e-01, -1.0322e-01, -1.5644e-01,  2.0239e-01,  6.7333e-02,\n",
            "         -1.3382e-01, -1.6808e-01, -1.7761e-01, -7.2544e-02,  1.4920e-01]],\n",
            "       requires_grad=True)\n",
            "Parameter containing:\n",
            "tensor([ 0.2329,  0.8989,  0.6570, -0.3336,  0.5939,  0.6603,  0.4965, -0.1727,\n",
            "         0.5703, -0.0549,  0.4109,  0.4757, -2.1146,  0.0991, -0.2985,  0.7515,\n",
            "         0.3466, -0.1815,  0.3370, -0.2517], requires_grad=True)\n",
            "Parameter containing:\n",
            "tensor([[ 0.9371,  3.7445, -0.8845,  0.1068, -0.7597, -1.2561, -0.8263,  0.1851,\n",
            "         -0.8386, -0.2161, -1.0081, -0.8979,  4.1923,  0.9857, -0.1321,  0.8178,\n",
            "         -0.3087, -5.2723, -0.4318, -0.0912]], requires_grad=True)\n",
            "Parameter containing:\n",
            "tensor([0.0675], requires_grad=True)\n"
          ],
          "name": "stdout"
        }
      ]
    },
    {
      "cell_type": "markdown",
      "metadata": {
        "id": "tbEXUwJZNgX9",
        "colab_type": "text"
      },
      "source": [
        "## Approximation with a shallow neural network"
      ]
    },
    {
      "cell_type": "markdown",
      "metadata": {
        "id": "iwoSChjz2fuE",
        "colab_type": "text"
      },
      "source": [
        "### Question: code a one-hidden layer neural network with approximatively the same number of parameters than the multilayer neural network. What is the \"best\" architecture?"
      ]
    },
    {
      "cell_type": "code",
      "metadata": {
        "id": "Qw_JwF-42set",
        "colab_type": "code",
        "outputId": "85db454b-37bc-4795-a977-0fa87e71ff4a",
        "colab": {
          "base_uri": "https://localhost:8080/",
          "height": 102
        }
      },
      "source": [
        "H1 = 500 # number of hidden neurons\n",
        "\n",
        "Niter = 5*10**3\n",
        "\n",
        "import numpy as np\n",
        "saveLoss = np.zeros(Niter)\n",
        "\n",
        "# Use the nn package to define our model and loss function.\n",
        "model = torch.nn.Sequential(\n",
        "    torch.nn.Linear(D_in, H1),\n",
        "    torch.nn.ReLU(),\n",
        "    torch.nn.Linear(H1, D_out)\n",
        ")\n",
        "loss_fn = torch.nn.MSELoss(reduction='mean')\n",
        "\n",
        "learning_rate = 1e-2\n",
        "optimizer = torch.optim.Adam(model.parameters(), lr=learning_rate)\n",
        "for t in range(Niter):\n",
        "    #for i in range(N):\n",
        "    # Forward pass: compute predicted y by passing x to the model.\n",
        "    y_pred = model(x)\n",
        "\n",
        "    # Compute and print loss.\n",
        "    loss = loss_fn(y_pred, y)\n",
        "    saveLoss[t] = loss.detach().numpy()\n",
        "    if t % 1000 == 999:\n",
        "        print(t, loss.item())\n",
        "\n",
        "    # Before the backward pass, use the optimizer object to zero all of the\n",
        "    # gradients for the variables it will update (which are the learnable\n",
        "    # weights of the model). This is because by default, gradients are\n",
        "    # accumulated in buffers( i.e, not overwritten) whenever .backward()\n",
        "    # is called. Checkout docs of torch.autograd.backward for more details.\n",
        "    optimizer.zero_grad()\n",
        "\n",
        "    # Backward pass: compute gradient of the loss with respect to model\n",
        "    # parameters\n",
        "    loss.backward()\n",
        "\n",
        "    # Calling the step function on an Optimizer makes an update to its\n",
        "    # parameters\n",
        "    optimizer.step()\n",
        "    \n",
        "\n"
      ],
      "execution_count": 11,
      "outputs": [
        {
          "output_type": "stream",
          "text": [
            "999 96.19170379638672\n",
            "1999 95.79957580566406\n",
            "2999 95.67706298828125\n",
            "3999 95.85133361816406\n",
            "4999 95.62295532226562\n"
          ],
          "name": "stdout"
        }
      ]
    },
    {
      "cell_type": "code",
      "metadata": {
        "id": "fY4nUy-13H1e",
        "colab_type": "code",
        "outputId": "f796b901-7951-4fc7-a6c5-577bc1653545",
        "colab": {
          "base_uri": "https://localhost:8080/",
          "height": 283
        }
      },
      "source": [
        "y_pred = model(x)\n",
        "fig, ax = plt.subplots()\n",
        "plt.plot(x.numpy(), y.numpy(),'r-',label='Quartic function')\n",
        "plt.plot(x.numpy(), y_pred.detach().numpy(),'bo-',label='Deep approximation')\n",
        "plt.xlabel('$x$')\n",
        "plt.ylabel('$f(x)$')\n",
        "ax.legend()\n",
        "plt.show()"
      ],
      "execution_count": 12,
      "outputs": [
        {
          "output_type": "display_data",
          "data": {
            "image/png": "[encoded data removed]",
            "text/plain": [
              "<Figure size 432x288 with 1 Axes>"
            ]
          },
          "metadata": {
            "tags": []
          }
        }
      ]
    },
    {
      "cell_type": "code",
      "metadata": {
        "id": "oaIZaCpV3Az9",
        "colab_type": "code",
        "outputId": "74ff7bf8-99bb-4a37-af97-7ed7ae5250a9",
        "colab": {
          "base_uri": "https://localhost:8080/",
          "height": 68
        }
      },
      "source": [
        "print(\"\\nTotal number of parameters {}\\n\".format(count_parameters(model)))"
      ],
      "execution_count": 13,
      "outputs": [
        {
          "output_type": "stream",
          "text": [
            "\n",
            "Total number of parameters 1501\n",
            "\n"
          ],
          "name": "stdout"
        }
      ]
    }
  ]
}
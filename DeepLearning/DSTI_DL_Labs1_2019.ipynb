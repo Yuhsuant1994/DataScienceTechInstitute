{
  "nbformat": 4,
  "nbformat_minor": 0,
  "metadata": {
    "colab": {
      "name": "DSTI_DL_Labs1_2019.ipynb",
      "provenance": [],
      "collapsed_sections": [],
      "toc_visible": true
    },
    "kernelspec": {
      "display_name": "Python 3",
      "language": "python",
      "name": "python3"
    },
    "language_info": {
      "codemirror_mode": {
        "name": "ipython",
        "version": 3
      },
      "file_extension": ".py",
      "mimetype": "text/x-python",
      "name": "python",
      "nbconvert_exporter": "python",
      "pygments_lexer": "ipython3",
      "version": "3.6.5"
    }
  },
  "cells": [
    {
      "cell_type": "markdown",
      "metadata": {
        "colab_type": "text",
        "id": "mYjIe2Y5gC9e"
      },
      "source": [
        "# Torch basics"
      ]
    },
    {
      "cell_type": "code",
      "metadata": {
        "colab_type": "code",
        "id": "Hh6cps5cgC9g",
        "colab": {}
      },
      "source": [
        "import matplotlib.pyplot as plt\n",
        "%matplotlib inline\n",
        "import torch\n",
        "import numpy as np"
      ],
      "execution_count": 0,
      "outputs": []
    },
    {
      "cell_type": "code",
      "metadata": {
        "colab_type": "code",
        "id": "Pe1KgPFqgC9m",
        "outputId": "abb81673-21ff-4d5b-f9df-d68b27393c51",
        "colab": {
          "base_uri": "https://localhost:8080/",
          "height": 35
        }
      },
      "source": [
        "torch.__version__"
      ],
      "execution_count": 2,
      "outputs": [
        {
          "output_type": "execute_result",
          "data": {
            "text/plain": [
              "'1.2.0'"
            ]
          },
          "metadata": {
            "tags": []
          },
          "execution_count": 2
        }
      ]
    },
    {
      "cell_type": "markdown",
      "metadata": {
        "colab_type": "text",
        "id": "lMn2UjdXgC9r"
      },
      "source": [
        "Largely inspired from the tutorial [What is PyTorch?](https://pytorch.org/tutorials/beginner/former_torchies/tensor_tutorial.html)\n",
        "\n",
        "Tensors are used to encode the signal to process, but also the internal states and parameters of models.\n",
        "\n",
        "Manipulating data through this constrained structure allows to use CPUs and GPUs at peak performance.\n",
        "\n"
      ]
    },
    {
      "cell_type": "markdown",
      "metadata": {
        "colab_type": "text",
        "id": "hlUFi857xt6Q"
      },
      "source": [
        "Construct a 3x5 matrix, uninitialized:"
      ]
    },
    {
      "cell_type": "code",
      "metadata": {
        "colab_type": "code",
        "id": "2kLcNt8IgC9r",
        "colab": {}
      },
      "source": [
        "# Sets the default floating point dtype. \n",
        "# This type will be used as default floating point type for type inference in torch.tensor().\n",
        "torch.set_default_tensor_type('torch.FloatTensor') "
      ],
      "execution_count": 0,
      "outputs": []
    },
    {
      "cell_type": "code",
      "metadata": {
        "colab_type": "code",
        "id": "RjUhHCJMgC9u",
        "outputId": "8883b444-3e68-4e6f-a4b1-485adcff99a1",
        "colab": {
          "base_uri": "https://localhost:8080/",
          "height": 87
        }
      },
      "source": [
        "x = torch.empty(3,5)\n",
        "print(x.type())\n",
        "print(x)"
      ],
      "execution_count": 4,
      "outputs": [
        {
          "output_type": "stream",
          "text": [
            "torch.FloatTensor\n",
            "tensor([[7.2154e-36, 0.0000e+00, 3.3631e-44, 0.0000e+00,        nan],\n",
            "        [0.0000e+00, 1.1578e+27, 1.1362e+30, 7.1547e+22, 4.5828e+30],\n",
            "        [1.2121e+04, 7.1846e+22, 9.2198e-39, 7.0374e+22, 0.0000e+00]])\n"
          ],
          "name": "stdout"
        }
      ]
    },
    {
      "cell_type": "code",
      "metadata": {
        "colab_type": "code",
        "id": "MnRsrLh5gC9w",
        "outputId": "69de149e-aa3c-453f-b70c-cc3758624313",
        "colab": {
          "base_uri": "https://localhost:8080/",
          "height": 69
        }
      },
      "source": [
        "x = torch.randn(3,5)\n",
        "print(x)"
      ],
      "execution_count": 5,
      "outputs": [
        {
          "output_type": "stream",
          "text": [
            "tensor([[ 0.3822,  0.7257,  1.5709, -0.3193, -0.4447],\n",
            "        [-1.6087, -0.1133,  0.7011, -0.1256, -0.8795],\n",
            "        [ 0.6896,  0.4788,  1.8155, -0.9470, -1.2199]])\n"
          ],
          "name": "stdout"
        }
      ]
    },
    {
      "cell_type": "code",
      "metadata": {
        "colab_type": "code",
        "id": "lfgpO7kUgC9z",
        "outputId": "fa0ce564-2def-4087-8711-67089af33416",
        "colab": {
          "base_uri": "https://localhost:8080/",
          "height": 35
        }
      },
      "source": [
        "print(x.size())"
      ],
      "execution_count": 6,
      "outputs": [
        {
          "output_type": "stream",
          "text": [
            "torch.Size([3, 5])\n"
          ],
          "name": "stdout"
        }
      ]
    },
    {
      "cell_type": "markdown",
      "metadata": {
        "colab_type": "text",
        "id": "NNLzvVKigC92"
      },
      "source": [
        "torch.Size is in fact a [tuple](https://docs.python.org/3/tutorial/datastructures.html#tuples-and-sequences), so it supports the same operations."
      ]
    },
    {
      "cell_type": "code",
      "metadata": {
        "colab_type": "code",
        "id": "W-o3sFH3gC92",
        "outputId": "01178047-5a94-426a-96b8-452794273d5f",
        "colab": {
          "base_uri": "https://localhost:8080/",
          "height": 35
        }
      },
      "source": [
        "x.size()[1]"
      ],
      "execution_count": 7,
      "outputs": [
        {
          "output_type": "execute_result",
          "data": {
            "text/plain": [
              "5"
            ]
          },
          "metadata": {
            "tags": []
          },
          "execution_count": 7
        }
      ]
    },
    {
      "cell_type": "code",
      "metadata": {
        "colab_type": "code",
        "id": "LkQAasgtgC95",
        "outputId": "25c5aacb-decc-49fb-830b-79f6225235be",
        "colab": {
          "base_uri": "https://localhost:8080/",
          "height": 35
        }
      },
      "source": [
        "x.size() == (3,5)"
      ],
      "execution_count": 8,
      "outputs": [
        {
          "output_type": "execute_result",
          "data": {
            "text/plain": [
              "True"
            ]
          },
          "metadata": {
            "tags": []
          },
          "execution_count": 8
        }
      ]
    },
    {
      "cell_type": "markdown",
      "metadata": {
        "colab_type": "text",
        "id": "XeAg1TcMhyf4"
      },
      "source": [
        "Select some columns"
      ]
    },
    {
      "cell_type": "code",
      "metadata": {
        "colab_type": "code",
        "id": "DZaC-fXlgY6G",
        "outputId": "73f4ac0e-0c87-4055-dca3-c7def0411251",
        "colab": {
          "base_uri": "https://localhost:8080/",
          "height": 104
        }
      },
      "source": [
        "cols = torch.zeros(5, dtype=torch.bool)\n",
        "print(cols)\n",
        "cols[1] = True\n",
        "cols[4] = True\n",
        "print(cols)\n",
        "c = x[:, cols]  # selects all rows, 4th column and  5th column from a\n",
        "print(c)"
      ],
      "execution_count": 9,
      "outputs": [
        {
          "output_type": "stream",
          "text": [
            "tensor([False, False, False, False, False])\n",
            "tensor([False,  True, False, False,  True])\n",
            "tensor([[ 0.7257, -0.4447],\n",
            "        [-0.1133, -0.8795],\n",
            "        [ 0.4788, -1.2199]])\n"
          ],
          "name": "stdout"
        }
      ]
    },
    {
      "cell_type": "markdown",
      "metadata": {
        "colab_type": "text",
        "id": "t9v3syrRf-13"
      },
      "source": [
        "All operations on the tensor that operate in-place on it will have an _ postfix. "
      ]
    },
    {
      "cell_type": "code",
      "metadata": {
        "colab_type": "code",
        "id": "zr3PP5oVf1SV",
        "outputId": "6adaa5f6-deb7-4458-f982-977bf7d07e8e",
        "colab": {
          "base_uri": "https://localhost:8080/",
          "height": 69
        }
      },
      "source": [
        "# x will be filled with the value 3.5\n",
        "x.fill_(3.5)\n",
        "print(x)"
      ],
      "execution_count": 10,
      "outputs": [
        {
          "output_type": "stream",
          "text": [
            "tensor([[3.5000, 3.5000, 3.5000, 3.5000, 3.5000],\n",
            "        [3.5000, 3.5000, 3.5000, 3.5000, 3.5000],\n",
            "        [3.5000, 3.5000, 3.5000, 3.5000, 3.5000]])\n"
          ],
          "name": "stdout"
        }
      ]
    },
    {
      "cell_type": "markdown",
      "metadata": {
        "colab_type": "text",
        "id": "SXPtlUXsgC96"
      },
      "source": [
        "### Bridge to numpy"
      ]
    },
    {
      "cell_type": "code",
      "metadata": {
        "colab_type": "code",
        "id": "61srdUzCgC97",
        "outputId": "f842fc2d-3c7f-4c73-b5b1-53308ed6e96e",
        "colab": {
          "base_uri": "https://localhost:8080/",
          "height": 69
        }
      },
      "source": [
        "y = x.numpy()\n",
        "print(y)"
      ],
      "execution_count": 11,
      "outputs": [
        {
          "output_type": "stream",
          "text": [
            "[[3.5 3.5 3.5 3.5 3.5]\n",
            " [3.5 3.5 3.5 3.5 3.5]\n",
            " [3.5 3.5 3.5 3.5 3.5]]\n"
          ],
          "name": "stdout"
        }
      ]
    },
    {
      "cell_type": "code",
      "metadata": {
        "colab_type": "code",
        "id": "tFv5BzYsgC99",
        "outputId": "56b83dde-f7a8-4257-e85e-2e63a4fdb1a3",
        "colab": {
          "base_uri": "https://localhost:8080/",
          "height": 35
        }
      },
      "source": [
        "a = np.ones(5)\n",
        "b = torch.from_numpy(a)\n",
        "print(b)\n",
        " "
      ],
      "execution_count": 12,
      "outputs": [
        {
          "output_type": "stream",
          "text": [
            "tensor([1., 1., 1., 1., 1.], dtype=torch.float64)\n"
          ],
          "name": "stdout"
        }
      ]
    },
    {
      "cell_type": "markdown",
      "metadata": {
        "colab_type": "text",
        "id": "7fwWdAYjUuiN"
      },
      "source": [
        "## Operations\n",
        "\n",
        "There are multiple syntaxes for operations. In the following\n",
        "example, we will take a look at the addition operation.\n",
        "\n",
        "Addition: syntax 1"
      ]
    },
    {
      "cell_type": "code",
      "metadata": {
        "colab_type": "code",
        "id": "4iASmmTAUxG0",
        "outputId": "672cc691-bad9-4b8b-dbe9-74f07cdf48cb",
        "colab": {
          "base_uri": "https://localhost:8080/",
          "height": 104
        }
      },
      "source": [
        "x = torch.rand(5, 3) \n",
        "y = torch.rand(5, 3)\n",
        "print(x + y)"
      ],
      "execution_count": 13,
      "outputs": [
        {
          "output_type": "stream",
          "text": [
            "tensor([[1.4423, 1.2505, 0.7004],\n",
            "        [1.1250, 0.4245, 0.9346],\n",
            "        [1.6478, 0.8525, 0.7894],\n",
            "        [0.2692, 0.5988, 0.4468],\n",
            "        [1.6873, 1.3160, 0.7546]])\n"
          ],
          "name": "stdout"
        }
      ]
    },
    {
      "cell_type": "markdown",
      "metadata": {
        "colab_type": "text",
        "id": "H5NxjdPhVQP8"
      },
      "source": [
        "Addition: syntax 2"
      ]
    },
    {
      "cell_type": "code",
      "metadata": {
        "colab_type": "code",
        "id": "GwCo8DOcVRHq",
        "outputId": "a560894f-c149-49c8-a7b1-f3cdfd8bcba7",
        "colab": {
          "base_uri": "https://localhost:8080/",
          "height": 104
        }
      },
      "source": [
        "print(torch.add(x, y))"
      ],
      "execution_count": 14,
      "outputs": [
        {
          "output_type": "stream",
          "text": [
            "tensor([[1.4423, 1.2505, 0.7004],\n",
            "        [1.1250, 0.4245, 0.9346],\n",
            "        [1.6478, 0.8525, 0.7894],\n",
            "        [0.2692, 0.5988, 0.4468],\n",
            "        [1.6873, 1.3160, 0.7546]])\n"
          ],
          "name": "stdout"
        }
      ]
    },
    {
      "cell_type": "markdown",
      "metadata": {
        "colab_type": "text",
        "id": "wNuL3H61VZvS"
      },
      "source": [
        "Addition: providing an output tensor as argument"
      ]
    },
    {
      "cell_type": "code",
      "metadata": {
        "colab_type": "code",
        "id": "hX1ffSunVail",
        "outputId": "edd32db2-ffe8-4a53-b8ae-185105e32ef0",
        "colab": {
          "base_uri": "https://localhost:8080/",
          "height": 104
        }
      },
      "source": [
        "result = torch.empty(5, 3)\n",
        "torch.add(x, y, out=result)\n",
        "print(result)"
      ],
      "execution_count": 15,
      "outputs": [
        {
          "output_type": "stream",
          "text": [
            "tensor([[1.4423, 1.2505, 0.7004],\n",
            "        [1.1250, 0.4245, 0.9346],\n",
            "        [1.6478, 0.8525, 0.7894],\n",
            "        [0.2692, 0.5988, 0.4468],\n",
            "        [1.6873, 1.3160, 0.7546]])\n"
          ],
          "name": "stdout"
        }
      ]
    },
    {
      "cell_type": "markdown",
      "metadata": {
        "colab_type": "text",
        "id": "-VK0_f0rVejB"
      },
      "source": [
        "Addition: in-place"
      ]
    },
    {
      "cell_type": "code",
      "metadata": {
        "colab_type": "code",
        "id": "rj0GKMgSVlGV",
        "outputId": "4bd3063d-8f73-4761-ddc7-d701e65bc375",
        "colab": {
          "base_uri": "https://localhost:8080/",
          "height": 104
        }
      },
      "source": [
        "# adds x to y\n",
        "y.add_(x)\n",
        "print(y)"
      ],
      "execution_count": 16,
      "outputs": [
        {
          "output_type": "stream",
          "text": [
            "tensor([[1.4423, 1.2505, 0.7004],\n",
            "        [1.1250, 0.4245, 0.9346],\n",
            "        [1.6478, 0.8525, 0.7894],\n",
            "        [0.2692, 0.5988, 0.4468],\n",
            "        [1.6873, 1.3160, 0.7546]])\n"
          ],
          "name": "stdout"
        }
      ]
    },
    {
      "cell_type": "markdown",
      "metadata": {
        "colab_type": "text",
        "id": "EgNBadgeVscS"
      },
      "source": [
        "**Note:** Any operation that mutates a tensor in-place is post-fixed with an ``_``.\n",
        "    For example: ``x.copy_(y)``, ``x.t_()``, will change ``x``.\n",
        "\n"
      ]
    },
    {
      "cell_type": "markdown",
      "metadata": {
        "colab_type": "text",
        "id": "kOPtMoOkgC-G"
      },
      "source": [
        "Any operation that mutates a tensor in-place is post-fixed with an ```_```\n",
        "\n",
        "For example: ```x.copy_(y)```, ```x.t_()```, will change ```x```."
      ]
    },
    {
      "cell_type": "code",
      "metadata": {
        "id": "NNbys6k_XF0K",
        "colab_type": "code",
        "outputId": "520c329f-5691-4c5a-8d20-01fa01f12d99",
        "colab": {
          "base_uri": "https://localhost:8080/",
          "height": 104
        }
      },
      "source": [
        "print(x)"
      ],
      "execution_count": 17,
      "outputs": [
        {
          "output_type": "stream",
          "text": [
            "tensor([[0.6651, 0.6020, 0.0066],\n",
            "        [0.5151, 0.0319, 0.8528],\n",
            "        [0.9288, 0.2586, 0.3858],\n",
            "        [0.2511, 0.0587, 0.2880],\n",
            "        [0.7927, 0.4440, 0.5739]])\n"
          ],
          "name": "stdout"
        }
      ]
    },
    {
      "cell_type": "code",
      "metadata": {
        "colab_type": "code",
        "id": "hrOV0mQIgC-G",
        "colab": {}
      },
      "source": [
        "a=x.t()"
      ],
      "execution_count": 0,
      "outputs": []
    },
    {
      "cell_type": "code",
      "metadata": {
        "colab_type": "code",
        "id": "LfNnD4vSgC-H",
        "outputId": "02b8901f-baae-4089-c16b-b0e33bfc366b",
        "colab": {
          "base_uri": "https://localhost:8080/",
          "height": 156
        }
      },
      "source": [
        "print(x)\n",
        "print(a)"
      ],
      "execution_count": 19,
      "outputs": [
        {
          "output_type": "stream",
          "text": [
            "tensor([[0.6651, 0.6020, 0.0066],\n",
            "        [0.5151, 0.0319, 0.8528],\n",
            "        [0.9288, 0.2586, 0.3858],\n",
            "        [0.2511, 0.0587, 0.2880],\n",
            "        [0.7927, 0.4440, 0.5739]])\n",
            "tensor([[0.6651, 0.5151, 0.9288, 0.2511, 0.7927],\n",
            "        [0.6020, 0.0319, 0.2586, 0.0587, 0.4440],\n",
            "        [0.0066, 0.8528, 0.3858, 0.2880, 0.5739]])\n"
          ],
          "name": "stdout"
        }
      ]
    },
    {
      "cell_type": "code",
      "metadata": {
        "colab_type": "code",
        "id": "5YdHeI8lgC-I",
        "outputId": "92a1b7f9-85a6-443d-f7c1-b02c2613792a",
        "colab": {
          "base_uri": "https://localhost:8080/",
          "height": 69
        }
      },
      "source": [
        "x.t_()\n",
        "print(x)"
      ],
      "execution_count": 20,
      "outputs": [
        {
          "output_type": "stream",
          "text": [
            "tensor([[0.6651, 0.5151, 0.9288, 0.2511, 0.7927],\n",
            "        [0.6020, 0.0319, 0.2586, 0.0587, 0.4440],\n",
            "        [0.0066, 0.8528, 0.3858, 0.2880, 0.5739]])\n"
          ],
          "name": "stdout"
        }
      ]
    },
    {
      "cell_type": "markdown",
      "metadata": {
        "colab_type": "text",
        "id": "UfxHIL-mWyZl"
      },
      "source": [
        "You can use standard NumPy-like indexing with all bells and whistles!"
      ]
    },
    {
      "cell_type": "code",
      "metadata": {
        "colab_type": "code",
        "id": "Cz4M97B2Wtyu",
        "outputId": "83663ddd-56ed-4eb8-8dbf-e9776063323d",
        "colab": {
          "base_uri": "https://localhost:8080/",
          "height": 35
        }
      },
      "source": [
        "print(x[:, 1])"
      ],
      "execution_count": 21,
      "outputs": [
        {
          "output_type": "stream",
          "text": [
            "tensor([0.5151, 0.0319, 0.8528])\n"
          ],
          "name": "stdout"
        }
      ]
    },
    {
      "cell_type": "markdown",
      "metadata": {
        "colab_type": "text",
        "id": "M6tsVH8zW8yB"
      },
      "source": [
        "Resizing (very useful): If you want to resize/reshape tensor, you can use ``torch.view``:"
      ]
    },
    {
      "cell_type": "code",
      "metadata": {
        "colab_type": "code",
        "id": "k0qjaFPDW_3I",
        "outputId": "18a95bed-372a-40d9-8458-0ae4831a9d88",
        "colab": {
          "base_uri": "https://localhost:8080/",
          "height": 35
        }
      },
      "source": [
        "x = torch.randn(4, 4)\n",
        "y = x.view(16)\n",
        "z = x.view(-1, 8)  # -1 auto detect the dimention\n",
        "print(x.size(), y.size(), z.size())"
      ],
      "execution_count": 22,
      "outputs": [
        {
          "output_type": "stream",
          "text": [
            "torch.Size([4, 4]) torch.Size([16]) torch.Size([2, 8])\n"
          ],
          "name": "stdout"
        }
      ]
    },
    {
      "cell_type": "code",
      "metadata": {
        "id": "6XaMMf86Xfxu",
        "colab_type": "code",
        "outputId": "d13e540e-19c9-410f-9fde-7e1019692a68",
        "colab": {
          "base_uri": "https://localhost:8080/",
          "height": 156
        }
      },
      "source": [
        "print(x)\n",
        "print(y)\n",
        "print(z)"
      ],
      "execution_count": 23,
      "outputs": [
        {
          "output_type": "stream",
          "text": [
            "tensor([[ 0.8175,  0.9625, -0.0893,  0.0361],\n",
            "        [-0.1031, -2.4090, -1.6717,  0.4811],\n",
            "        [-1.9961, -0.4135, -0.0205, -0.4450],\n",
            "        [ 0.1769, -0.4177, -0.6532,  0.2996]])\n",
            "tensor([ 0.8175,  0.9625, -0.0893,  0.0361, -0.1031, -2.4090, -1.6717,  0.4811,\n",
            "        -1.9961, -0.4135, -0.0205, -0.4450,  0.1769, -0.4177, -0.6532,  0.2996])\n",
            "tensor([[ 0.8175,  0.9625, -0.0893,  0.0361, -0.1031, -2.4090, -1.6717,  0.4811],\n",
            "        [-1.9961, -0.4135, -0.0205, -0.4450,  0.1769, -0.4177, -0.6532,  0.2996]])\n"
          ],
          "name": "stdout"
        }
      ]
    },
    {
      "cell_type": "markdown",
      "metadata": {
        "colab_type": "text",
        "id": "fP8sTTCgXRak"
      },
      "source": [
        "If you have a one element tensor, use ``.item()`` to get the value as a\n",
        "Python number"
      ]
    },
    {
      "cell_type": "code",
      "metadata": {
        "colab_type": "code",
        "id": "zaG9x6SHXSPw",
        "outputId": "200a4c21-a880-41ea-88f8-99e63f722744",
        "colab": {
          "base_uri": "https://localhost:8080/",
          "height": 52
        }
      },
      "source": [
        "x = torch.randn(1)\n",
        "print(x)\n",
        "print(x.item())"
      ],
      "execution_count": 24,
      "outputs": [
        {
          "output_type": "stream",
          "text": [
            "tensor([0.5173])\n",
            "0.5173275470733643\n"
          ],
          "name": "stdout"
        }
      ]
    },
    {
      "cell_type": "markdown",
      "metadata": {
        "colab_type": "text",
        "id": "mqCvPrp-XmZQ"
      },
      "source": [
        "**Read later:**\n",
        "\n",
        "\n",
        "  100+ Tensor operations, including transposing, indexing, slicing,\n",
        "  mathematical operations, linear algebra, random numbers, etc.,\n",
        "  are described\n",
        "  [here](https://pytorch.org/docs/torch)."
      ]
    },
    {
      "cell_type": "markdown",
      "metadata": {
        "colab_type": "text",
        "id": "8Jk-JGYpeCNz"
      },
      "source": [
        "## 3D Tensors"
      ]
    },
    {
      "cell_type": "markdown",
      "metadata": {
        "colab_type": "text",
        "id": "RTGbU2E-eLWF"
      },
      "source": [
        "### Question: What is the size of the following tensor?"
      ]
    },
    {
      "cell_type": "code",
      "metadata": {
        "colab_type": "code",
        "id": "d-Dg4nyOeD4f",
        "colab": {}
      },
      "source": [
        "y = torch.tensor([\n",
        "     [\n",
        "       [1, 2, 3],\n",
        "       [4, 5, 6]\n",
        "     ],\n",
        "     [\n",
        "       [1, 2, 3],\n",
        "       [4, 5, 6]\n",
        "     ],\n",
        "     [\n",
        "       [1, 2, 3],\n",
        "       [4, 5, 6]\n",
        "     ]\n",
        "   ])\n"
      ],
      "execution_count": 0,
      "outputs": []
    },
    {
      "cell_type": "code",
      "metadata": {
        "id": "Nvi-tHHyYgN_",
        "colab_type": "code",
        "outputId": "2f74327d-76e2-40d4-967a-b318acbc361b",
        "colab": {
          "base_uri": "https://localhost:8080/",
          "height": 35
        }
      },
      "source": [
        "print(y.shape)"
      ],
      "execution_count": 26,
      "outputs": [
        {
          "output_type": "stream",
          "text": [
            "torch.Size([3, 2, 3])\n"
          ],
          "name": "stdout"
        }
      ]
    },
    {
      "cell_type": "markdown",
      "metadata": {
        "colab_type": "text",
        "id": "dOUGbVEUe9DC"
      },
      "source": [
        "### Question: Explain the result of the next cell"
      ]
    },
    {
      "cell_type": "code",
      "metadata": {
        "colab_type": "code",
        "id": "14O04VMTe9eg",
        "outputId": "9c1b2519-ae6d-40cb-c4b8-22230d0330cf",
        "colab": {
          "base_uri": "https://localhost:8080/",
          "height": 69
        }
      },
      "source": [
        "print(torch.sum(y, dim=0))\n",
        "torch.sum(torch.sum(y, dim=0),dim=0)"
      ],
      "execution_count": 27,
      "outputs": [
        {
          "output_type": "stream",
          "text": [
            "tensor([[ 3,  6,  9],\n",
            "        [12, 15, 18]])\n"
          ],
          "name": "stdout"
        },
        {
          "output_type": "execute_result",
          "data": {
            "text/plain": [
              "tensor([15, 21, 27])"
            ]
          },
          "metadata": {
            "tags": []
          },
          "execution_count": 27
        }
      ]
    },
    {
      "cell_type": "markdown",
      "metadata": {
        "colab_type": "text",
        "id": "Ev68h5j1ZUNH"
      },
      "source": [
        "## Broadcasting semantics\n",
        "\n",
        "In short, if a PyTorch operation supports broadcast, then its Tensor arguments can be automatically expanded to be of equal sizes (without making copies of the data).\n",
        "\n",
        "Two tensors are “broadcastable” if the following rules hold:\n",
        "\n",
        "*   Each tensor has at least one dimension.\n",
        "*   When iterating over the dimension sizes, **starting at the trailing dimension**, the dimension sizes must either be equal, one of them is 1, or one of them does not exist.\n",
        "\n",
        "If two tensors x, y are “broadcastable”, the resulting tensor size is calculated as follows:\n",
        "* If the number of dimensions of x and y are not equal, prepend 1 to the dimensions of the tensor with fewer dimensions to make them equal length.\n",
        "* Then, for each dimension size, the resulting dimension size is the max of the sizes of x and y along that dimension.\n",
        "\n",
        "More details [here](https://pytorch.org/docs/stable/notes/broadcasting.html)\n",
        "\n"
      ]
    },
    {
      "cell_type": "code",
      "metadata": {
        "colab_type": "code",
        "id": "P3f9hXLxZXQa",
        "outputId": "11871730-3b36-49f4-c055-9a564a3ea0cc",
        "colab": {
          "base_uri": "https://localhost:8080/",
          "height": 35
        }
      },
      "source": [
        "# can line up trailing dimensions to make reading easier\n",
        "x=torch.empty(5,1,4,1)\n",
        "y=torch.empty(  3,1,1)\n",
        "print((x+y).size())\n",
        "\n"
      ],
      "execution_count": 28,
      "outputs": [
        {
          "output_type": "stream",
          "text": [
            "torch.Size([5, 3, 4, 1])\n"
          ],
          "name": "stdout"
        }
      ]
    },
    {
      "cell_type": "code",
      "metadata": {
        "colab_type": "code",
        "id": "LsYo7aBqaJ5F",
        "outputId": "957a9c1c-f70b-43bc-cc1b-cc9c271fc410",
        "colab": {
          "base_uri": "https://localhost:8080/",
          "height": 35
        }
      },
      "source": [
        "# but not necessary:\n",
        "x=torch.empty(1)\n",
        "y=torch.empty(3,1,7)\n",
        "print((x+y).size())\n",
        "\n"
      ],
      "execution_count": 29,
      "outputs": [
        {
          "output_type": "stream",
          "text": [
            "torch.Size([3, 1, 7])\n"
          ],
          "name": "stdout"
        }
      ]
    },
    {
      "cell_type": "markdown",
      "metadata": {
        "colab_type": "text",
        "id": "0n_Y_hY6fxeL"
      },
      "source": [
        "### Question: The following command does not work. Why?\n",
        "\n"
      ]
    },
    {
      "cell_type": "code",
      "metadata": {
        "colab_type": "code",
        "id": "Vq3SqanjaO6U",
        "outputId": "889b6b6e-d914-40a7-fd08-1298a254b3fb",
        "colab": {
          "base_uri": "https://localhost:8080/",
          "height": 235
        }
      },
      "source": [
        "x=torch.empty(5,2,4,1)\n",
        "y=torch.empty(  3,1,1)\n",
        "print((x+y).size())\n",
        "#the problem here comes from 2 and 3, according to the rules of broadcasting\n",
        "# the dimension sizes must either be equal, one of them is 1, or one of them does not exist."
      ],
      "execution_count": 30,
      "outputs": [
        {
          "output_type": "error",
          "ename": "RuntimeError",
          "evalue": "ignored",
          "traceback": [
            "\u001b[0;31m---------------------------------------------------------------------------\u001b[0m",
            "\u001b[0;31mRuntimeError\u001b[0m                              Traceback (most recent call last)",
            "\u001b[0;32m<ipython-input-30-7fa7559d0674>\u001b[0m in \u001b[0;36m<module>\u001b[0;34m()\u001b[0m\n\u001b[1;32m      1\u001b[0m \u001b[0mx\u001b[0m\u001b[0;34m=\u001b[0m\u001b[0mtorch\u001b[0m\u001b[0;34m.\u001b[0m\u001b[0mempty\u001b[0m\u001b[0;34m(\u001b[0m\u001b[0;36m5\u001b[0m\u001b[0;34m,\u001b[0m\u001b[0;36m2\u001b[0m\u001b[0;34m,\u001b[0m\u001b[0;36m4\u001b[0m\u001b[0;34m,\u001b[0m\u001b[0;36m1\u001b[0m\u001b[0;34m)\u001b[0m\u001b[0;34m\u001b[0m\u001b[0;34m\u001b[0m\u001b[0m\n\u001b[1;32m      2\u001b[0m \u001b[0my\u001b[0m\u001b[0;34m=\u001b[0m\u001b[0mtorch\u001b[0m\u001b[0;34m.\u001b[0m\u001b[0mempty\u001b[0m\u001b[0;34m(\u001b[0m  \u001b[0;36m3\u001b[0m\u001b[0;34m,\u001b[0m\u001b[0;36m1\u001b[0m\u001b[0;34m,\u001b[0m\u001b[0;36m1\u001b[0m\u001b[0;34m)\u001b[0m\u001b[0;34m\u001b[0m\u001b[0;34m\u001b[0m\u001b[0m\n\u001b[0;32m----> 3\u001b[0;31m \u001b[0mprint\u001b[0m\u001b[0;34m(\u001b[0m\u001b[0;34m(\u001b[0m\u001b[0mx\u001b[0m\u001b[0;34m+\u001b[0m\u001b[0my\u001b[0m\u001b[0;34m)\u001b[0m\u001b[0;34m.\u001b[0m\u001b[0msize\u001b[0m\u001b[0;34m(\u001b[0m\u001b[0;34m)\u001b[0m\u001b[0;34m)\u001b[0m\u001b[0;34m\u001b[0m\u001b[0;34m\u001b[0m\u001b[0m\n\u001b[0m\u001b[1;32m      4\u001b[0m \u001b[0;31m#the problem here comes from 2 and 3, according to the rules of broadcasting\u001b[0m\u001b[0;34m\u001b[0m\u001b[0;34m\u001b[0m\u001b[0;34m\u001b[0m\u001b[0m\n\u001b[1;32m      5\u001b[0m \u001b[0;31m# the dimension sizes must either be equal, one of them is 1, or one of them does not exist.\u001b[0m\u001b[0;34m\u001b[0m\u001b[0;34m\u001b[0m\u001b[0;34m\u001b[0m\u001b[0m\n",
            "\u001b[0;31mRuntimeError\u001b[0m: The size of tensor a (2) must match the size of tensor b (3) at non-singleton dimension 1"
          ]
        }
      ]
    },
    {
      "cell_type": "code",
      "metadata": {
        "colab_type": "code",
        "id": "ha4-WRJ0g4l9",
        "outputId": "2f109fd9-04bd-45bd-bfc3-6b4d5ae663f7",
        "colab": {
          "base_uri": "https://localhost:8080/",
          "height": 329
        }
      },
      "source": [
        "x=2*torch.ones(  2,4)\n",
        "y=torch.ones(3,2,4)\n",
        "print(x)\n",
        "print(y)\n",
        "print(x+y)"
      ],
      "execution_count": 31,
      "outputs": [
        {
          "output_type": "stream",
          "text": [
            "tensor([[2., 2., 2., 2.],\n",
            "        [2., 2., 2., 2.]])\n",
            "tensor([[[1., 1., 1., 1.],\n",
            "         [1., 1., 1., 1.]],\n",
            "\n",
            "        [[1., 1., 1., 1.],\n",
            "         [1., 1., 1., 1.]],\n",
            "\n",
            "        [[1., 1., 1., 1.],\n",
            "         [1., 1., 1., 1.]]])\n",
            "tensor([[[3., 3., 3., 3.],\n",
            "         [3., 3., 3., 3.]],\n",
            "\n",
            "        [[3., 3., 3., 3.],\n",
            "         [3., 3., 3., 3.]],\n",
            "\n",
            "        [[3., 3., 3., 3.],\n",
            "         [3., 3., 3., 3.]]])\n"
          ],
          "name": "stdout"
        }
      ]
    },
    {
      "cell_type": "code",
      "metadata": {
        "colab_type": "code",
        "id": "lfpk2tfpgC9-",
        "outputId": "85a0a915-be26-4190-cab8-e16ea5d2716f",
        "colab": {
          "base_uri": "https://localhost:8080/",
          "height": 87
        }
      },
      "source": [
        "xr = torch.randn(3, 5)\n",
        "a = np.ones(5)\n",
        "b = torch.from_numpy(a)\n",
        "print(xr)\n",
        "print(b)"
      ],
      "execution_count": 32,
      "outputs": [
        {
          "output_type": "stream",
          "text": [
            "tensor([[-0.5501,  1.3454,  1.6248,  0.3614,  0.5610],\n",
            "        [ 0.6850, -1.6467, -0.8949,  0.2375, -1.1460],\n",
            "        [ 0.2245,  1.3162, -0.5657, -0.4387, -0.5649]])\n",
            "tensor([1., 1., 1., 1., 1.], dtype=torch.float64)\n"
          ],
          "name": "stdout"
        }
      ]
    },
    {
      "cell_type": "markdown",
      "metadata": {
        "colab_type": "text",
        "id": "q064oZr7Tcnz"
      },
      "source": [
        "### Question: The following command does not work. Why?"
      ]
    },
    {
      "cell_type": "code",
      "metadata": {
        "colab_type": "code",
        "id": "TVF-0_uKgC-A",
        "outputId": "280bafd3-3143-47ad-a640-5f3bf893fc1d",
        "colab": {
          "base_uri": "https://localhost:8080/",
          "height": 69
        }
      },
      "source": [
        "#xr + b #b is type float64, not float16\n",
        "#how to correct this\n",
        "xr+b.float()"
      ],
      "execution_count": 33,
      "outputs": [
        {
          "output_type": "execute_result",
          "data": {
            "text/plain": [
              "tensor([[ 0.4499,  2.3454,  2.6248,  1.3614,  1.5610],\n",
              "        [ 1.6850, -0.6467,  0.1051,  1.2375, -0.1460],\n",
              "        [ 1.2245,  2.3162,  0.4343,  0.5613,  0.4351]])"
            ]
          },
          "metadata": {
            "tags": []
          },
          "execution_count": 33
        }
      ]
    },
    {
      "cell_type": "markdown",
      "metadata": {
        "colab_type": "text",
        "id": "Afol8pk8VPUn"
      },
      "source": [
        "### Question: What is the diffence between \"x = xr\" and \"x = xr.clone()\"? "
      ]
    },
    {
      "cell_type": "code",
      "metadata": {
        "colab_type": "code",
        "id": "ROIvJcOngC-E",
        "outputId": "598accb3-09f4-463e-931a-6060ab5c2010",
        "colab": {
          "base_uri": "https://localhost:8080/",
          "height": 121
        }
      },
      "source": [
        "x = xr.clone() #clone is not a pointer anymore, total copy\n",
        "x.add_(-xr)\n",
        "print(x)\n",
        "print(xr)"
      ],
      "execution_count": 34,
      "outputs": [
        {
          "output_type": "stream",
          "text": [
            "tensor([[0., 0., 0., 0., 0.],\n",
            "        [0., 0., 0., 0., 0.],\n",
            "        [0., 0., 0., 0., 0.]])\n",
            "tensor([[-0.5501,  1.3454,  1.6248,  0.3614,  0.5610],\n",
            "        [ 0.6850, -1.6467, -0.8949,  0.2375, -1.1460],\n",
            "        [ 0.2245,  1.3162, -0.5657, -0.4387, -0.5649]])\n"
          ],
          "name": "stdout"
        }
      ]
    },
    {
      "cell_type": "markdown",
      "metadata": {
        "colab_type": "text",
        "id": "UWxZLzMrgC-J"
      },
      "source": [
        "Also be careful, changing the torch tensor modify the numpy array and vice-versa..."
      ]
    },
    {
      "cell_type": "code",
      "metadata": {
        "colab_type": "code",
        "id": "lkcW43iugC-J",
        "outputId": "0645fda6-57cb-49ac-80e0-efe66d8f15b3",
        "colab": {
          "base_uri": "https://localhost:8080/",
          "height": 87
        }
      },
      "source": [
        "y=torch.ones(2,4)\n",
        "print(y)\n",
        "#z = y.clone().numpy()\n",
        "z=y.numpy()\n",
        "print(z)"
      ],
      "execution_count": 35,
      "outputs": [
        {
          "output_type": "stream",
          "text": [
            "tensor([[1., 1., 1., 1.],\n",
            "        [1., 1., 1., 1.]])\n",
            "[[1. 1. 1. 1.]\n",
            " [1. 1. 1. 1.]]\n"
          ],
          "name": "stdout"
        }
      ]
    },
    {
      "cell_type": "code",
      "metadata": {
        "colab_type": "code",
        "id": "qvRrtvz1gC-K",
        "outputId": "9d954e56-cc33-4ccf-c9eb-4c87e1bc10d0",
        "colab": {
          "base_uri": "https://localhost:8080/",
          "height": 173
        }
      },
      "source": [
        "np.add(z, 1, out=z)\n",
        "print(\"z=\", z)\n",
        "print(\"y=\", y,\"\\n\")\n",
        "torch.add(y, -4, out=y)\n",
        "print(\"z=\",z)\n",
        "print(\"y=\",y)"
      ],
      "execution_count": 36,
      "outputs": [
        {
          "output_type": "stream",
          "text": [
            "z= [[2. 2. 2. 2.]\n",
            " [2. 2. 2. 2.]]\n",
            "y= tensor([[2., 2., 2., 2.],\n",
            "        [2., 2., 2., 2.]]) \n",
            "\n",
            "z= [[-2. -2. -2. -2.]\n",
            " [-2. -2. -2. -2.]]\n",
            "y= tensor([[-2., -2., -2., -2.],\n",
            "        [-2., -2., -2., -2.]])\n"
          ],
          "name": "stdout"
        }
      ]
    },
    {
      "cell_type": "markdown",
      "metadata": {
        "colab_type": "text",
        "id": "uSvS2bdKidcc"
      },
      "source": [
        "\n",
        "## Playing with pytorch: linear regression"
      ]
    },
    {
      "cell_type": "markdown",
      "metadata": {
        "colab_type": "text",
        "id": "UzjNRT-OSCzL"
      },
      "source": [
        "Code for plotting the surface"
      ]
    },
    {
      "cell_type": "code",
      "metadata": {
        "colab_type": "code",
        "id": "KhuyxIm1Rd0W",
        "colab": {}
      },
      "source": [
        "import matplotlib.pyplot as plt\n",
        "import numpy as np\n",
        "from mpl_toolkits.mplot3d import Axes3D\n",
        "\n",
        "def plot_figs(fig_num, elev, azim, x, y, weights, bias):\n",
        "    fig = plt.figure(fig_num, figsize=(4, 3))\n",
        "    plt.clf()\n",
        "    ax = Axes3D(fig, elev=elev, azim=azim)\n",
        "    ax.scatter(x[:, 0], x[:, 1], y)\n",
        "    ax.plot_surface(np.array([[0, 0], [1, 1]]),\n",
        "                    np.array([[0, 1], [0, 1]]),\n",
        "                    (np.dot(np.array([[0, 0, 1, 1],\n",
        "                                          [0, 1, 0, 1]]).T, weights) + bias).reshape((2, 2)),\n",
        "                    alpha=.5)\n",
        "    ax.set_xlabel('x_1')\n",
        "    ax.set_ylabel('x_2')\n",
        "    ax.set_zlabel('y')\n",
        "    \n",
        "def plot_views(x, y, w, b):\n",
        "    #Generate the different figures from different views\n",
        "    elev = 43.5\n",
        "    azim = -110\n",
        "    plot_figs(1, elev, azim, x, y, w, b[0])\n",
        "\n",
        "    plt.show()"
      ],
      "execution_count": 0,
      "outputs": []
    },
    {
      "cell_type": "markdown",
      "metadata": {
        "colab_type": "text",
        "id": "Bkt2h0X6SFmR"
      },
      "source": [
        "Code for generating the 2D points"
      ]
    },
    {
      "cell_type": "code",
      "metadata": {
        "colab_type": "code",
        "id": "14tvkKCyMwYD",
        "outputId": "34b20ee1-1e41-4f28-bacf-693baa8fb999",
        "colab": {
          "base_uri": "https://localhost:8080/",
          "height": 87
        }
      },
      "source": [
        "#Data generation (2D points)\n",
        "w_source = torch.tensor([2., -3.], dtype=torch.float).view(-1,1)\n",
        "b_source  = torch.tensor([1.], dtype=torch.float)\n",
        "\n",
        "x = torch.empty(30, 2).uniform_(0, 1) # input of the regression model\n",
        "\n",
        "print(x.shape)\n",
        "print(w_source.shape)\n",
        "print(b_source.shape)\n",
        "\n",
        "y = torch.matmul(x,w_source)+b_source # output of the regression model\n",
        "print(y.shape)"
      ],
      "execution_count": 38,
      "outputs": [
        {
          "output_type": "stream",
          "text": [
            "torch.Size([30, 2])\n",
            "torch.Size([2, 1])\n",
            "torch.Size([1])\n",
            "torch.Size([30, 1])\n"
          ],
          "name": "stdout"
        }
      ]
    },
    {
      "cell_type": "markdown",
      "metadata": {
        "colab_type": "text",
        "id": "KW6YMS6tSMVr"
      },
      "source": [
        "Plot the dataset"
      ]
    },
    {
      "cell_type": "code",
      "metadata": {
        "colab_type": "code",
        "id": "rMRbqdZaRjCz",
        "outputId": "867c9d13-c05c-4b57-e27b-6affad3ba963",
        "colab": {
          "base_uri": "https://localhost:8080/",
          "height": 247
        }
      },
      "source": [
        "plot_views(x.numpy(), y.numpy(), w_source.numpy(), b_source.numpy())"
      ],
      "execution_count": 39,
      "outputs": [
        {
          "output_type": "display_data",
          "data": {
            "image/png": "[encoded data removed]",
            "text/plain": [
              "<Figure size 288x216 with 1 Axes>"
            ]
          },
          "metadata": {
            "tags": []
          }
        }
      ]
    },
    {
      "cell_type": "code",
      "metadata": {
        "colab_type": "code",
        "id": "bsGaEFPRiduc",
        "outputId": "32521d43-d6de-4c69-8ba1-5b0159c2e60d",
        "colab": {
          "base_uri": "https://localhost:8080/",
          "height": 87
        }
      },
      "source": [
        "# randomly initialize learnable weights and bias\n",
        "w_t_init = torch.empty(2, 1).uniform_(-1, 1) \n",
        "b_t_init = torch.empty(1, 1).uniform_(-1, 1)\n",
        "\n",
        "print(\"Initial values of the parameters:\")\n",
        "print(w_t_init) \n",
        "print(b_t_init)\n",
        "\n"
      ],
      "execution_count": 112,
      "outputs": [
        {
          "output_type": "stream",
          "text": [
            "Initial values of the parameters:\n",
            "tensor([[-0.8383],\n",
            "        [-0.4404]])\n",
            "tensor([[-0.8769]])\n"
          ],
          "name": "stdout"
        }
      ]
    },
    {
      "cell_type": "markdown",
      "metadata": {
        "colab_type": "text",
        "id": "y2GD_KIBUTgS"
      },
      "source": [
        "### Question: calculate the gradient of the loss and code it."
      ]
    },
    {
      "cell_type": "code",
      "metadata": {
        "colab_type": "code",
        "id": "xSwsgVkpPE2i",
        "colab": {}
      },
      "source": [
        "# our model forward pass\n",
        "def forward_t(x):\n",
        "    return x.mm(w_t)+b_t\n",
        "\n",
        "# Loss function\n",
        "def loss_t(x, y):\n",
        "    y_pred = forward_t(x)\n",
        "    return (y_pred - y).pow(2).sum()\n",
        "\n",
        "# compute gradient\n",
        "def gradient_t(x, y):\n",
        "  # d_loss/d_w, d_loss/d_c\n",
        "  # complete the return\n",
        "  grad_w= -2*x.t().mm(y-x.mm(w_t)-b_t)\n",
        "  grad_b= -2*(y-x.mm(w_t)-b_t) \n",
        "  return grad_w, grad_b\n",
        "\n"
      ],
      "execution_count": 0,
      "outputs": []
    },
    {
      "cell_type": "markdown",
      "metadata": {
        "colab_type": "text",
        "id": "7x8wNpUISp88"
      },
      "source": [
        "Main loop for computing the estimate (gradient descent)"
      ]
    },
    {
      "cell_type": "markdown",
      "metadata": {
        "colab_type": "text",
        "id": "pAAxsXCqUSuR"
      },
      "source": [
        "### Question: code the gradient descent algorithm within the main loop."
      ]
    },
    {
      "cell_type": "code",
      "metadata": {
        "colab_type": "code",
        "id": "zmh-_IHaidxp",
        "outputId": "5f1a27c3-b587-4868-c0be-6e61632009ed",
        "colab": {
          "base_uri": "https://localhost:8080/",
          "height": 191
        }
      },
      "source": [
        "learning_rate = 1e-2\n",
        "\n",
        "w_t = w_t_init.clone()\n",
        "b_t = b_t_init.clone()\n",
        "\n",
        "for epoch in range(10):\n",
        "    l = loss_t(x,y)\n",
        "    grad_w, grad_b = gradient_t(x,y)\n",
        "    # Complete the two following equalities\n",
        "    w_t = w_t-learning_rate*grad_w\n",
        "    b_t = b_t-learning_rate*grad_b\n",
        "    print(\"progress:\", \"epoch:\", epoch, \"loss\",l)"
      ],
      "execution_count": 116,
      "outputs": [
        {
          "output_type": "stream",
          "text": [
            "progress: epoch: 0 loss tensor(208.9738)\n",
            "progress: epoch: 1 loss tensor(93.0831)\n",
            "progress: epoch: 2 loss tensor(56.0350)\n",
            "progress: epoch: 3 loss tensor(41.7508)\n",
            "progress: epoch: 4 loss tensor(34.4247)\n",
            "progress: epoch: 5 loss tensor(29.5409)\n",
            "progress: epoch: 6 loss tensor(25.7583)\n",
            "progress: epoch: 7 loss tensor(22.6367)\n",
            "progress: epoch: 8 loss tensor(19.9985)\n",
            "progress: epoch: 9 loss tensor(17.7477)\n"
          ],
          "name": "stdout"
        }
      ]
    },
    {
      "cell_type": "code",
      "metadata": {
        "colab_type": "code",
        "id": "87XspCGIid0t",
        "outputId": "eb24463e-075f-455a-8f19-22aa9608c1bd",
        "colab": {
          "base_uri": "https://localhost:8080/",
          "height": 589
        }
      },
      "source": [
        "# After training\n",
        "print(\"Estimation of the parameters:\")\n",
        "print(w_t)\n",
        "print(b_t)"
      ],
      "execution_count": 117,
      "outputs": [
        {
          "output_type": "stream",
          "text": [
            "Estimation of the parameters:\n",
            "tensor([[ 2.1568],\n",
            "        [-0.1749]])\n",
            "tensor([[-0.9455],\n",
            "        [-1.0109],\n",
            "        [-0.6063],\n",
            "        [-0.5984],\n",
            "        [-0.9220],\n",
            "        [-0.6824],\n",
            "        [-0.8085],\n",
            "        [-1.0256],\n",
            "        [-0.6830],\n",
            "        [-0.4623],\n",
            "        [-0.4586],\n",
            "        [-0.5740],\n",
            "        [-0.4820],\n",
            "        [-0.9725],\n",
            "        [-0.9836],\n",
            "        [-0.5662],\n",
            "        [-0.6936],\n",
            "        [-0.6111],\n",
            "        [-0.5561],\n",
            "        [-1.0261],\n",
            "        [-0.7435],\n",
            "        [-1.0649],\n",
            "        [-0.8077],\n",
            "        [-0.7441],\n",
            "        [-0.4863],\n",
            "        [-0.7326],\n",
            "        [-0.8987],\n",
            "        [-0.6052],\n",
            "        [-0.9675],\n",
            "        [-0.7090]])\n"
          ],
          "name": "stdout"
        }
      ]
    },
    {
      "cell_type": "markdown",
      "metadata": {
        "colab_type": "text",
        "id": "sceg1L15TqSy"
      },
      "source": [
        "### Question: Test a higger learning rate (e.g., learning_rate = 1). Explain what you observe."
      ]
    },
    {
      "cell_type": "markdown",
      "metadata": {
        "colab_type": "text",
        "id": "gqWJFYZSTX_m"
      },
      "source": [
        "### Question: How to improve the quality of the estimate?"
      ]
    }
  ]
}
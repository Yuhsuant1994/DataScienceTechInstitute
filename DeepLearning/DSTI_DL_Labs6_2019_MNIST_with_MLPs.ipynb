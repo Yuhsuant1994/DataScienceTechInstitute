{
  "nbformat": 4,
  "nbformat_minor": 0,
  "metadata": {
    "kernelspec": {
      "name": "python3",
      "display_name": "Python 3"
    },
    "language_info": {
      "codemirror_mode": {
        "name": "ipython",
        "version": 3
      },
      "file_extension": ".py",
      "mimetype": "text/x-python",
      "name": "python",
      "nbconvert_exporter": "python",
      "pygments_lexer": "ipython3",
      "version": "3.5.2"
    },
    "colab": {
      "name": "DSTI-DL-Labs6-2019-solution.ipynb",
      "provenance": [],
      "collapsed_sections": [],
      "toc_visible": true
    },
    "accelerator": "GPU"
  },
  "cells": [
    {
      "cell_type": "markdown",
      "metadata": {
        "id": "QYZjzA-LQ3yq",
        "colab_type": "text"
      },
      "source": [
        "# MNIST handwritten digits classification with regularized MLPs\n",
        "\n",
        "In this notebook, we'll train a multi-layer perceptron model to classify MNIST digits using **PyTorch**.\n",
        "\n",
        "The neural network will be regularized with\n",
        "\n",
        "\n",
        "1.   Dropout\n",
        "2.   Batchnormalization\n",
        "\n",
        "\n",
        "\n"
      ]
    },
    {
      "cell_type": "markdown",
      "metadata": {
        "id": "uEtfy2Y5KrXS",
        "colab_type": "text"
      },
      "source": [
        "First, the needed imports. "
      ]
    },
    {
      "cell_type": "code",
      "metadata": {
        "id": "qrZvRCTBQ3yt",
        "colab_type": "code",
        "outputId": "c5d02974-544b-4696-843a-28a4e274ab46",
        "colab": {
          "base_uri": "https://localhost:8080/",
          "height": 34
        }
      },
      "source": [
        "%matplotlib inline\n",
        "\n",
        "import torch\n",
        "import torch.nn as nn\n",
        "import torch.nn.functional as F\n",
        "from torchvision import datasets, transforms\n",
        "#import seaborn as sns\n",
        "#sns.set()\n",
        "\n",
        "import numpy as np\n",
        "import matplotlib.pyplot as plt\n",
        "\n",
        "if torch.cuda.is_available():\n",
        "    device = torch.device('cuda')\n",
        "else:\n",
        "    device = torch.device('cpu')\n",
        "    \n",
        "print('Using PyTorch version:', torch.__version__, ' Device:', device)"
      ],
      "execution_count": 1,
      "outputs": [
        {
          "output_type": "stream",
          "text": [
            "Using PyTorch version: 1.2.0  Device: cuda\n"
          ],
          "name": "stdout"
        }
      ]
    },
    {
      "cell_type": "markdown",
      "metadata": {
        "id": "Y0chwSkbQ3yx",
        "colab_type": "text"
      },
      "source": [
        "## Data\n",
        "\n",
        "Next we'll load the MNIST data.  First time we may have to download the data, which can take a while.\n",
        "\n",
        "Note that we are here using the MNIST test data for *validation*, instead of for testing the final model."
      ]
    },
    {
      "cell_type": "code",
      "metadata": {
        "id": "CyqByXDlQ3yy",
        "colab_type": "code",
        "colab": {
          "base_uri": "https://localhost:8080/",
          "height": 275
        },
        "outputId": "b4618166-3202-4fa7-f864-200526ed1e07"
      },
      "source": [
        "batch_size = 32\n",
        "\n",
        "train_dataset = datasets.MNIST('./data', \n",
        "                               train=True, \n",
        "                               download=True, \n",
        "                               transform=transforms.ToTensor())\n",
        "\n",
        "validation_dataset = datasets.MNIST('./data', \n",
        "                                    train=False, \n",
        "                                    transform=transforms.ToTensor())\n",
        "\n",
        "train_loader = torch.utils.data.DataLoader(dataset=train_dataset, \n",
        "                                           batch_size=batch_size, \n",
        "                                           shuffle=True)\n",
        "\n",
        "validation_loader = torch.utils.data.DataLoader(dataset=validation_dataset, \n",
        "                                                batch_size=batch_size, \n",
        "                                                shuffle=False)"
      ],
      "execution_count": 2,
      "outputs": [
        {
          "output_type": "stream",
          "text": [
            "  0%|          | 0/9912422 [00:00<?, ?it/s]"
          ],
          "name": "stderr"
        },
        {
          "output_type": "stream",
          "text": [
            "Downloading http://yann.lecun.com/exdb/mnist/train-images-idx3-ubyte.gz to ./data/MNIST/raw/train-images-idx3-ubyte.gz\n"
          ],
          "name": "stdout"
        },
        {
          "output_type": "stream",
          "text": [
            "9920512it [00:00, 21862806.51it/s]                            \n"
          ],
          "name": "stderr"
        },
        {
          "output_type": "stream",
          "text": [
            "Extracting ./data/MNIST/raw/train-images-idx3-ubyte.gz to ./data/MNIST/raw\n"
          ],
          "name": "stdout"
        },
        {
          "output_type": "stream",
          "text": [
            "32768it [00:00, 333613.18it/s]\n",
            "0it [00:00, ?it/s]"
          ],
          "name": "stderr"
        },
        {
          "output_type": "stream",
          "text": [
            "Downloading http://yann.lecun.com/exdb/mnist/train-labels-idx1-ubyte.gz to ./data/MNIST/raw/train-labels-idx1-ubyte.gz\n",
            "Extracting ./data/MNIST/raw/train-labels-idx1-ubyte.gz to ./data/MNIST/raw\n",
            "Downloading http://yann.lecun.com/exdb/mnist/t10k-images-idx3-ubyte.gz to ./data/MNIST/raw/t10k-images-idx3-ubyte.gz\n"
          ],
          "name": "stdout"
        },
        {
          "output_type": "stream",
          "text": [
            "1654784it [00:00, 5857216.76it/s]                           \n",
            "8192it [00:00, 122375.51it/s]\n"
          ],
          "name": "stderr"
        },
        {
          "output_type": "stream",
          "text": [
            "Extracting ./data/MNIST/raw/t10k-images-idx3-ubyte.gz to ./data/MNIST/raw\n",
            "Downloading http://yann.lecun.com/exdb/mnist/t10k-labels-idx1-ubyte.gz to ./data/MNIST/raw/t10k-labels-idx1-ubyte.gz\n",
            "Extracting ./data/MNIST/raw/t10k-labels-idx1-ubyte.gz to ./data/MNIST/raw\n",
            "Processing...\n",
            "Done!\n"
          ],
          "name": "stdout"
        }
      ]
    },
    {
      "cell_type": "markdown",
      "metadata": {
        "id": "R5RUIpKiQ3y1",
        "colab_type": "text"
      },
      "source": [
        "The train and test data are provided via data loaders that provide iterators over the datasets. The first element of training data (`X_train`) is a 4th-order tensor of size (`batch_size`, 1, 28, 28), i.e. it consists of a batch of images of size 1x28x28 pixels. `y_train` is a vector containing the correct classes (\"0\", \"1\", ..., \"9\") for each training digit."
      ]
    },
    {
      "cell_type": "code",
      "metadata": {
        "id": "rpWAQsC5Q3y2",
        "colab_type": "code",
        "outputId": "fc374d2d-2e3d-46fe-eedc-1399e65a5b2d",
        "colab": {
          "base_uri": "https://localhost:8080/",
          "height": 51
        }
      },
      "source": [
        "for (X_train, y_train) in train_loader:\n",
        "    print('X_train:', X_train.size(), 'type:', X_train.type())\n",
        "    print('y_train:', y_train.size(), 'type:', y_train.type())\n",
        "    break"
      ],
      "execution_count": 3,
      "outputs": [
        {
          "output_type": "stream",
          "text": [
            "X_train: torch.Size([32, 1, 28, 28]) type: torch.FloatTensor\n",
            "y_train: torch.Size([32]) type: torch.LongTensor\n"
          ],
          "name": "stdout"
        }
      ]
    },
    {
      "cell_type": "markdown",
      "metadata": {
        "id": "l-HI9wwyQ3y4",
        "colab_type": "text"
      },
      "source": [
        "Here are the first 10 training digits:"
      ]
    },
    {
      "cell_type": "code",
      "metadata": {
        "id": "bEwHbv16Q3y6",
        "colab_type": "code",
        "outputId": "2f9faffa-2915-4914-b986-b8321681e0b3",
        "colab": {
          "base_uri": "https://localhost:8080/",
          "height": 111
        }
      },
      "source": [
        "pltsize=1\n",
        "plt.figure(figsize=(10*pltsize, pltsize))\n",
        "\n",
        "for i in range(10):\n",
        "    plt.subplot(1,10,i+1)\n",
        "    plt.axis('off')\n",
        "    plt.imshow(X_train[i,:,:,:].numpy().reshape(28,28), cmap=\"gray\")\n",
        "    plt.title('Class: '+str(y_train[i].item()))"
      ],
      "execution_count": 4,
      "outputs": [
        {
          "output_type": "display_data",
          "data": {
            "image/png": "[encoded data removed]",
            "text/plain": [
              "<Figure size 720x72 with 10 Axes>"
            ]
          },
          "metadata": {
            "tags": []
          }
        }
      ]
    },
    {
      "cell_type": "markdown",
      "metadata": {
        "id": "Lj0u1Y9uQ3y9",
        "colab_type": "text"
      },
      "source": [
        "## MLP network definition\n",
        "\n",
        "Let's define the network as a Python class.  We have to write the `__init__()` and `forward()` methods, and PyTorch will automatically generate a `backward()` method for computing the gradients for the backward pass.\n",
        "\n",
        "Finally, we define an optimizer to update the model parameters based on the computed gradients.  We select *stochastic gradient descent (with momentum)* as the optimization algorithm, and set *learning rate* to 0.01.  Note that there are [several different options](http://pytorch.org/docs/optim.html#algorithms) for the optimizer in PyTorch that we could use instead of *SGD*."
      ]
    },
    {
      "cell_type": "markdown",
      "metadata": {
        "id": "FB_060a0LkaB",
        "colab_type": "text"
      },
      "source": [
        "#### Question: Complete the missing blocks in the definition of the  convNet architecture \n",
        "\n",
        "The neural network should be composed as (FullyConnected 256 -> ReLU -> Fully Connected 256 -> ReLU -> Fully Connected 10 -> softmax)"
      ]
    },
    {
      "cell_type": "code",
      "metadata": {
        "id": "ERvvxFlPQ3y-",
        "colab_type": "code",
        "outputId": "2468cbca-7bf0-4b7d-b6f7-a49adc59da9e",
        "colab": {
          "base_uri": "https://localhost:8080/",
          "height": 102
        }
      },
      "source": [
        "H1 = 256\n",
        "H2 = 256 \n",
        "\n",
        "class Net(nn.Module):\n",
        "    def __init__(self):\n",
        "        super(Net, self).__init__()\n",
        "        self.fc1 = nn.Linear(28*28, H1)\n",
        "        self.fc2 = nn.Linear(H1, H2)\n",
        "        self.fc3 = nn.Linear(H2, 10)\n",
        "\n",
        "    def forward(self, x):\n",
        "        x = x.view(-1, 28*28)\n",
        "        x = F.relu(self.fc1(x))\n",
        "        x = F.relu(self.fc2(x))\n",
        "        return F.log_softmax(self.fc3(x), dim=1)\n",
        "\n",
        "model = Net().to(device)\n",
        "optimizer = torch.optim.SGD(model.parameters(), lr=0.01, momentum=0.)\n",
        "#optimizer = torch.optim.Adam(model.parameters(), lr=0.01)\n",
        "criterion = nn.CrossEntropyLoss()\n",
        "\n",
        "print(model)"
      ],
      "execution_count": 5,
      "outputs": [
        {
          "output_type": "stream",
          "text": [
            "Net(\n",
            "  (fc1): Linear(in_features=784, out_features=256, bias=True)\n",
            "  (fc2): Linear(in_features=256, out_features=256, bias=True)\n",
            "  (fc3): Linear(in_features=256, out_features=10, bias=True)\n",
            ")\n"
          ],
          "name": "stdout"
        }
      ]
    },
    {
      "cell_type": "markdown",
      "metadata": {
        "id": "bbnPlkshVtS1",
        "colab_type": "text"
      },
      "source": [
        "### Question: Complete the missing blocks in the definition of the \"DropoutNet\" architecture\n",
        "\n",
        "The neural network should be composed as (FullyConnected 256 -> ReLU -> Dropout (0.2) -> Fully Connected 256 -> ReLU -> Dropout (0.5) -> Fully Connected 10 -> softmax)"
      ]
    },
    {
      "cell_type": "code",
      "metadata": {
        "id": "bEK5kptoSYfe",
        "colab_type": "code",
        "outputId": "f49b4714-19ef-4835-b97b-be2800619fda",
        "colab": {
          "base_uri": "https://localhost:8080/",
          "height": 136
        }
      },
      "source": [
        "class NetDrop(nn.Module):\n",
        "    def __init__(self):\n",
        "        super(NetDrop, self).__init__()\n",
        "        self.fc1 = nn.Linear(28*28, H1)\n",
        "        self.fc1_drop = nn.Dropout(0.2)\n",
        "        self.fc2 = nn.Linear(H1, H2)\n",
        "        self.fc2_drop = nn.Dropout(0.5)\n",
        "        self.fc3 = nn.Linear(H2, 10)\n",
        "\n",
        "    def forward(self, x):\n",
        "        x = x.view(-1, 28*28)\n",
        "        x = F.relu(self.fc1(x))\n",
        "        x = self.fc1_drop(x)\n",
        "        x = F.relu(self.fc2(x))\n",
        "        x = self.fc2_drop(x)\n",
        "        return F.log_softmax(self.fc3(x), dim=1)\n",
        "\n",
        "modelDrop = NetDrop().to(device)\n",
        "optimizerDrop = torch.optim.SGD(modelDrop.parameters(), lr=0.01, momentum=0.)\n",
        "\n",
        "print(modelDrop)"
      ],
      "execution_count": 6,
      "outputs": [
        {
          "output_type": "stream",
          "text": [
            "NetDrop(\n",
            "  (fc1): Linear(in_features=784, out_features=256, bias=True)\n",
            "  (fc1_drop): Dropout(p=0.2, inplace=False)\n",
            "  (fc2): Linear(in_features=256, out_features=256, bias=True)\n",
            "  (fc2_drop): Dropout(p=0.5, inplace=False)\n",
            "  (fc3): Linear(in_features=256, out_features=10, bias=True)\n",
            ")\n"
          ],
          "name": "stdout"
        }
      ]
    },
    {
      "cell_type": "markdown",
      "metadata": {
        "id": "p1u8Y6ydL_L8",
        "colab_type": "text"
      },
      "source": [
        "### Question: Complete the missing blocks in the definition of the  \"Batchnormalization\" architecture\n",
        "\n",
        "The neural network should be composed as (FullyConnected 256 -> ReLU -> Batchnorm -> Fully Connected 256 -> ReLU -> Batchnorm -> Fully Connected 10 -> softmax)"
      ]
    },
    {
      "cell_type": "code",
      "metadata": {
        "id": "rcnP7ZRwMIu_",
        "colab_type": "code",
        "outputId": "d0ce45c0-952d-4efc-9dd7-9a86c9344520",
        "colab": {
          "base_uri": "https://localhost:8080/",
          "height": 136
        }
      },
      "source": [
        "class NetBatchNorm(nn.Module):\n",
        "    def __init__(self):\n",
        "        super(NetBatchNorm, self).__init__()\n",
        "        self.fc1 = nn.Linear(28*28, H1)\n",
        "        self.bn1 = nn.BatchNorm1d(H1)\n",
        "        self.fc2 = nn.Linear(H1, H2)\n",
        "        self.bn2 = nn.BatchNorm1d(H2)\n",
        "        self.fc3 = nn.Linear(H2, 10)\n",
        "\n",
        "    def forward(self, x):\n",
        "        x = x.view(-1, 28*28)\n",
        "        x = F.relu(self.fc1(x))\n",
        "        x = self.bn1(x)\n",
        "        x = F.relu(self.fc2(x))\n",
        "        x = self.bn2(x)\n",
        "        return F.log_softmax(self.fc3(x), dim=1)\n",
        "\n",
        "modelBatchNorm = NetBatchNorm().to(device)\n",
        "optimizerBatchNorm = torch.optim.SGD(modelBatchNorm.parameters(), lr=0.01, momentum=0.)\n",
        "\n",
        "print(modelBatchNorm)"
      ],
      "execution_count": 7,
      "outputs": [
        {
          "output_type": "stream",
          "text": [
            "NetBatchNorm(\n",
            "  (fc1): Linear(in_features=784, out_features=256, bias=True)\n",
            "  (bn1): BatchNorm1d(256, eps=1e-05, momentum=0.1, affine=True, track_running_stats=True)\n",
            "  (fc2): Linear(in_features=256, out_features=256, bias=True)\n",
            "  (bn2): BatchNorm1d(256, eps=1e-05, momentum=0.1, affine=True, track_running_stats=True)\n",
            "  (fc3): Linear(in_features=256, out_features=10, bias=True)\n",
            ")\n"
          ],
          "name": "stdout"
        }
      ]
    },
    {
      "cell_type": "markdown",
      "metadata": {
        "id": "jOwerJmYQ3zA",
        "colab_type": "text"
      },
      "source": [
        "## Learning\n",
        "\n",
        "Let's now define functions to `train()` and `test()` the model. "
      ]
    },
    {
      "cell_type": "code",
      "metadata": {
        "id": "eyA6cc6kQ3zB",
        "colab_type": "code",
        "colab": {}
      },
      "source": [
        "def train(model, optimizer, epoch, log_interval=200):\n",
        "    # Set model to training mode\n",
        "    model.train()\n",
        "    \n",
        "    # Loop over each batch from the training set\n",
        "    for batch_idx, (data, target) in enumerate(train_loader):\n",
        "        # Copy data to GPU if needed\n",
        "        data = data.to(device)\n",
        "        target = target.to(device)\n",
        "\n",
        "        # Zero gradient buffers\n",
        "        optimizer.zero_grad() \n",
        "        \n",
        "        # Pass data through the network\n",
        "        output = model(data)\n",
        "\n",
        "        # Calculate loss\n",
        "        loss = criterion(output, target)\n",
        "\n",
        "        # Backpropagate\n",
        "        loss.backward()\n",
        "        \n",
        "        # Update weights\n",
        "        optimizer.step()\n",
        "        \n",
        "        if batch_idx % log_interval == 0:\n",
        "            print('Train Epoch: {} [{}/{} ({:.0f}%)]\\tLoss: {:.6f}'.format(\n",
        "                epoch, batch_idx * len(data), len(train_loader.dataset),\n",
        "                100. * batch_idx / len(train_loader), loss.data.item()))"
      ],
      "execution_count": 0,
      "outputs": []
    },
    {
      "cell_type": "code",
      "metadata": {
        "id": "GZpI82dgQ3zE",
        "colab_type": "code",
        "colab": {}
      },
      "source": [
        "def validate(model, loss_vector, accuracy_vector):\n",
        "    model.eval()\n",
        "    val_loss, correct = 0, 0\n",
        "    for data, target in validation_loader:\n",
        "        data = data.to(device)\n",
        "        target = target.to(device)\n",
        "        output = model(data)\n",
        "        val_loss += criterion(output, target).data.item()\n",
        "        pred = output.data.max(1)[1] # get the index of the max log-probability\n",
        "        correct += pred.eq(target.data).cpu().sum()\n",
        "\n",
        "    val_loss /= len(validation_loader)\n",
        "    loss_vector.append(val_loss)\n",
        "\n",
        "    accuracy = 100. * correct.to(torch.float32) / len(validation_loader.dataset)\n",
        "    accuracy_vector.append(accuracy)\n",
        "    \n",
        "    print('\\nValidation set: Average loss: {:.4f}, Accuracy: {}/{} ({:.0f}%)\\n'.format(\n",
        "        val_loss, correct, len(validation_loader.dataset), accuracy))\n"
      ],
      "execution_count": 0,
      "outputs": []
    },
    {
      "cell_type": "markdown",
      "metadata": {
        "id": "RpE7EGviQ3zF",
        "colab_type": "text"
      },
      "source": [
        "Now we are ready to train our model using the `train()` function.  An *epoch* means one pass through the whole training data. After each epoch, we evaluate the model using `test()`. "
      ]
    },
    {
      "cell_type": "markdown",
      "metadata": {
        "id": "Ls0lR3WvVVZQ",
        "colab_type": "text"
      },
      "source": [
        "Training without Dropout"
      ]
    },
    {
      "cell_type": "code",
      "metadata": {
        "id": "uFPAF_CNQ3zG",
        "colab_type": "code",
        "outputId": "a6140a18-701c-433a-b180-a03393f43989",
        "colab": {
          "base_uri": "https://localhost:8080/",
          "height": 714
        }
      },
      "source": [
        "%%time\n",
        "epochs = 3\n",
        "\n",
        "lossv, accv = [], []\n",
        "for epoch in range(1, epochs + 1):\n",
        "    train(model, optimizer, epoch)\n",
        "    validate(model, lossv, accv)"
      ],
      "execution_count": 10,
      "outputs": [
        {
          "output_type": "stream",
          "text": [
            "Train Epoch: 1 [0/60000 (0%)]\tLoss: 2.312660\n",
            "Train Epoch: 1 [6400/60000 (11%)]\tLoss: 2.222943\n",
            "Train Epoch: 1 [12800/60000 (21%)]\tLoss: 1.968696\n",
            "Train Epoch: 1 [19200/60000 (32%)]\tLoss: 1.542799\n",
            "Train Epoch: 1 [25600/60000 (43%)]\tLoss: 1.016104\n",
            "Train Epoch: 1 [32000/60000 (53%)]\tLoss: 0.519649\n",
            "Train Epoch: 1 [38400/60000 (64%)]\tLoss: 0.357859\n",
            "Train Epoch: 1 [44800/60000 (75%)]\tLoss: 0.493173\n",
            "Train Epoch: 1 [51200/60000 (85%)]\tLoss: 0.425213\n",
            "Train Epoch: 1 [57600/60000 (96%)]\tLoss: 0.386123\n",
            "\n",
            "Validation set: Average loss: 0.4098, Accuracy: 8840/10000 (88%)\n",
            "\n",
            "Train Epoch: 2 [0/60000 (0%)]\tLoss: 0.677932\n",
            "Train Epoch: 2 [6400/60000 (11%)]\tLoss: 0.283169\n",
            "Train Epoch: 2 [12800/60000 (21%)]\tLoss: 0.319959\n",
            "Train Epoch: 2 [19200/60000 (32%)]\tLoss: 0.549347\n",
            "Train Epoch: 2 [25600/60000 (43%)]\tLoss: 0.508602\n",
            "Train Epoch: 2 [32000/60000 (53%)]\tLoss: 0.500589\n",
            "Train Epoch: 2 [38400/60000 (64%)]\tLoss: 0.118627\n",
            "Train Epoch: 2 [44800/60000 (75%)]\tLoss: 0.171673\n",
            "Train Epoch: 2 [51200/60000 (85%)]\tLoss: 0.268598\n",
            "Train Epoch: 2 [57600/60000 (96%)]\tLoss: 0.231521\n",
            "\n",
            "Validation set: Average loss: 0.3064, Accuracy: 9136/10000 (91%)\n",
            "\n",
            "Train Epoch: 3 [0/60000 (0%)]\tLoss: 0.226294\n",
            "Train Epoch: 3 [6400/60000 (11%)]\tLoss: 0.288465\n",
            "Train Epoch: 3 [12800/60000 (21%)]\tLoss: 0.145297\n",
            "Train Epoch: 3 [19200/60000 (32%)]\tLoss: 0.244179\n",
            "Train Epoch: 3 [25600/60000 (43%)]\tLoss: 0.182653\n",
            "Train Epoch: 3 [32000/60000 (53%)]\tLoss: 0.326535\n",
            "Train Epoch: 3 [38400/60000 (64%)]\tLoss: 0.145431\n",
            "Train Epoch: 3 [44800/60000 (75%)]\tLoss: 0.509173\n",
            "Train Epoch: 3 [51200/60000 (85%)]\tLoss: 0.208800\n",
            "Train Epoch: 3 [57600/60000 (96%)]\tLoss: 0.243799\n",
            "\n",
            "Validation set: Average loss: 0.2699, Accuracy: 9224/10000 (92%)\n",
            "\n",
            "CPU times: user 35.3 s, sys: 426 ms, total: 35.7 s\n",
            "Wall time: 36.1 s\n"
          ],
          "name": "stdout"
        }
      ]
    },
    {
      "cell_type": "markdown",
      "metadata": {
        "id": "fqI_dIneVR-o",
        "colab_type": "text"
      },
      "source": [
        "Training with Dropout"
      ]
    },
    {
      "cell_type": "code",
      "metadata": {
        "id": "RPiJfdeqTJqb",
        "colab_type": "code",
        "outputId": "bc227ae7-0dd1-418b-e201-4e95ee81b9a6",
        "colab": {
          "base_uri": "https://localhost:8080/",
          "height": 714
        }
      },
      "source": [
        "%%time\n",
        "\n",
        "lossvDrop, accvDrop = [], []\n",
        "for epoch in range(1, epochs + 1):\n",
        "    train(modelDrop, optimizerDrop, epoch)\n",
        "    validate(modelDrop, lossvDrop, accvDrop)"
      ],
      "execution_count": 11,
      "outputs": [
        {
          "output_type": "stream",
          "text": [
            "Train Epoch: 1 [0/60000 (0%)]\tLoss: 2.296885\n",
            "Train Epoch: 1 [6400/60000 (11%)]\tLoss: 2.229132\n",
            "Train Epoch: 1 [12800/60000 (21%)]\tLoss: 1.981124\n",
            "Train Epoch: 1 [19200/60000 (32%)]\tLoss: 1.624242\n",
            "Train Epoch: 1 [25600/60000 (43%)]\tLoss: 1.155881\n",
            "Train Epoch: 1 [32000/60000 (53%)]\tLoss: 0.650331\n",
            "Train Epoch: 1 [38400/60000 (64%)]\tLoss: 0.784136\n",
            "Train Epoch: 1 [44800/60000 (75%)]\tLoss: 1.089157\n",
            "Train Epoch: 1 [51200/60000 (85%)]\tLoss: 0.500597\n",
            "Train Epoch: 1 [57600/60000 (96%)]\tLoss: 0.613762\n",
            "\n",
            "Validation set: Average loss: 0.4464, Accuracy: 8778/10000 (88%)\n",
            "\n",
            "Train Epoch: 2 [0/60000 (0%)]\tLoss: 0.349781\n",
            "Train Epoch: 2 [6400/60000 (11%)]\tLoss: 0.380416\n",
            "Train Epoch: 2 [12800/60000 (21%)]\tLoss: 0.401751\n",
            "Train Epoch: 2 [19200/60000 (32%)]\tLoss: 0.282175\n",
            "Train Epoch: 2 [25600/60000 (43%)]\tLoss: 0.615804\n",
            "Train Epoch: 2 [32000/60000 (53%)]\tLoss: 0.382230\n",
            "Train Epoch: 2 [38400/60000 (64%)]\tLoss: 0.340566\n",
            "Train Epoch: 2 [44800/60000 (75%)]\tLoss: 0.630096\n",
            "Train Epoch: 2 [51200/60000 (85%)]\tLoss: 0.321519\n",
            "Train Epoch: 2 [57600/60000 (96%)]\tLoss: 0.295303\n",
            "\n",
            "Validation set: Average loss: 0.3180, Accuracy: 9083/10000 (91%)\n",
            "\n",
            "Train Epoch: 3 [0/60000 (0%)]\tLoss: 0.324892\n",
            "Train Epoch: 3 [6400/60000 (11%)]\tLoss: 0.286520\n",
            "Train Epoch: 3 [12800/60000 (21%)]\tLoss: 0.183738\n",
            "Train Epoch: 3 [19200/60000 (32%)]\tLoss: 0.194463\n",
            "Train Epoch: 3 [25600/60000 (43%)]\tLoss: 0.316988\n",
            "Train Epoch: 3 [32000/60000 (53%)]\tLoss: 0.307832\n",
            "Train Epoch: 3 [38400/60000 (64%)]\tLoss: 0.314743\n",
            "Train Epoch: 3 [44800/60000 (75%)]\tLoss: 0.296112\n",
            "Train Epoch: 3 [51200/60000 (85%)]\tLoss: 0.165725\n",
            "Train Epoch: 3 [57600/60000 (96%)]\tLoss: 0.228603\n",
            "\n",
            "Validation set: Average loss: 0.2605, Accuracy: 9252/10000 (93%)\n",
            "\n",
            "CPU times: user 36.6 s, sys: 466 ms, total: 37 s\n",
            "Wall time: 37.4 s\n"
          ],
          "name": "stdout"
        }
      ]
    },
    {
      "cell_type": "markdown",
      "metadata": {
        "id": "nhG5ZvXIMpZ2",
        "colab_type": "text"
      },
      "source": [
        "Training with Batchnormalization"
      ]
    },
    {
      "cell_type": "code",
      "metadata": {
        "id": "IUWKOAvjM0QI",
        "colab_type": "code",
        "outputId": "abe3677d-4244-436b-b9d0-bf0926be039c",
        "colab": {
          "base_uri": "https://localhost:8080/",
          "height": 714
        }
      },
      "source": [
        "%%time\n",
        "\n",
        "lossvBN, accvBN = [], []\n",
        "for epoch in range(1, epochs + 1):\n",
        "    train(modelBatchNorm, optimizerBatchNorm, epoch)\n",
        "    validate(modelBatchNorm, lossvBN, accvBN)"
      ],
      "execution_count": 12,
      "outputs": [
        {
          "output_type": "stream",
          "text": [
            "Train Epoch: 1 [0/60000 (0%)]\tLoss: 2.389260\n",
            "Train Epoch: 1 [6400/60000 (11%)]\tLoss: 0.492876\n",
            "Train Epoch: 1 [12800/60000 (21%)]\tLoss: 0.172901\n",
            "Train Epoch: 1 [19200/60000 (32%)]\tLoss: 0.180233\n",
            "Train Epoch: 1 [25600/60000 (43%)]\tLoss: 0.463625\n",
            "Train Epoch: 1 [32000/60000 (53%)]\tLoss: 0.282747\n",
            "Train Epoch: 1 [38400/60000 (64%)]\tLoss: 0.359919\n",
            "Train Epoch: 1 [44800/60000 (75%)]\tLoss: 0.108271\n",
            "Train Epoch: 1 [51200/60000 (85%)]\tLoss: 0.356150\n",
            "Train Epoch: 1 [57600/60000 (96%)]\tLoss: 0.061264\n",
            "\n",
            "Validation set: Average loss: 0.1180, Accuracy: 9659/10000 (97%)\n",
            "\n",
            "Train Epoch: 2 [0/60000 (0%)]\tLoss: 0.213844\n",
            "Train Epoch: 2 [6400/60000 (11%)]\tLoss: 0.083381\n",
            "Train Epoch: 2 [12800/60000 (21%)]\tLoss: 0.067084\n",
            "Train Epoch: 2 [19200/60000 (32%)]\tLoss: 0.284436\n",
            "Train Epoch: 2 [25600/60000 (43%)]\tLoss: 0.215288\n",
            "Train Epoch: 2 [32000/60000 (53%)]\tLoss: 0.085632\n",
            "Train Epoch: 2 [38400/60000 (64%)]\tLoss: 0.168837\n",
            "Train Epoch: 2 [44800/60000 (75%)]\tLoss: 0.138943\n",
            "Train Epoch: 2 [51200/60000 (85%)]\tLoss: 0.066945\n",
            "Train Epoch: 2 [57600/60000 (96%)]\tLoss: 0.132758\n",
            "\n",
            "Validation set: Average loss: 0.0888, Accuracy: 9711/10000 (97%)\n",
            "\n",
            "Train Epoch: 3 [0/60000 (0%)]\tLoss: 0.010865\n",
            "Train Epoch: 3 [6400/60000 (11%)]\tLoss: 0.194357\n",
            "Train Epoch: 3 [12800/60000 (21%)]\tLoss: 0.081249\n",
            "Train Epoch: 3 [19200/60000 (32%)]\tLoss: 0.128775\n",
            "Train Epoch: 3 [25600/60000 (43%)]\tLoss: 0.330731\n",
            "Train Epoch: 3 [32000/60000 (53%)]\tLoss: 0.067592\n",
            "Train Epoch: 3 [38400/60000 (64%)]\tLoss: 0.231759\n",
            "Train Epoch: 3 [44800/60000 (75%)]\tLoss: 0.158475\n",
            "Train Epoch: 3 [51200/60000 (85%)]\tLoss: 0.266597\n",
            "Train Epoch: 3 [57600/60000 (96%)]\tLoss: 0.044833\n",
            "\n",
            "Validation set: Average loss: 0.0787, Accuracy: 9764/10000 (98%)\n",
            "\n",
            "CPU times: user 38.8 s, sys: 516 ms, total: 39.3 s\n",
            "Wall time: 39.8 s\n"
          ],
          "name": "stdout"
        }
      ]
    },
    {
      "cell_type": "markdown",
      "metadata": {
        "id": "l0YZ4vNbQ3zI",
        "colab_type": "text"
      },
      "source": [
        "Let's now visualize how the training progressed. \n",
        "\n",
        "* *Loss* is a function of the difference of the network output and the target values.  We are minimizing the loss function during training so it should decrease over time.\n",
        "* *Accuracy* is the classification accuracy for the test data."
      ]
    },
    {
      "cell_type": "code",
      "metadata": {
        "id": "MN2LcmsHQ3zJ",
        "colab_type": "code",
        "outputId": "002d2971-7d2d-49e3-8a9b-b5222a0baa5e",
        "colab": {
          "base_uri": "https://localhost:8080/",
          "height": 465
        }
      },
      "source": [
        "plt.figure(figsize=(5,3))\n",
        "plt.plot(np.arange(1,epochs+1), lossv, label='no dropout')\n",
        "plt.plot(np.arange(1,epochs+1), lossvDrop, label='with dropout')\n",
        "plt.plot(np.arange(1,epochs+1), lossvBN, label='with batchnormalization')\n",
        "plt.legend(loc='upper left');\n",
        "plt.xlabel('epoch')\n",
        "plt.title('validation loss')\n",
        "plt.show()\n",
        "\n",
        "plt.figure(figsize=(5,3))\n",
        "plt.plot(np.arange(1,epochs+1), accv, label='no dropout')\n",
        "plt.plot(np.arange(1,epochs+1), accvDrop, label='with dropout')\n",
        "plt.plot(np.arange(1,epochs+1), accvBN, label='with batchnormalization')\n",
        "plt.legend(loc='upper left');\n",
        "plt.xlabel('epoch')\n",
        "plt.title('validation accuracy');"
      ],
      "execution_count": 13,
      "outputs": [
        {
          "output_type": "display_data",
          "data": {
            "image/png": "[encoded data removed]",
            "text/plain": [
              "<Figure size 360x216 with 1 Axes>"
            ]
          },
          "metadata": {
            "tags": []
          }
        },
        {
          "output_type": "display_data",
          "data": {
            "image/png": "[encoded data removed]",
            "text/plain": [
              "<Figure size 360x216 with 1 Axes>"
            ]
          },
          "metadata": {
            "tags": []
          }
        }
      ]
    },
    {
      "cell_type": "markdown",
      "metadata": {
        "id": "1-o8iKwlQ3zM",
        "colab_type": "text"
      },
      "source": [
        "### Question (model tuning): compare the gain when the first layer has less neurons (50 instead of 256)\n",
        "\n"
      ]
    },
    {
      "cell_type": "markdown",
      "metadata": {
        "id": "8E1SmvXmOcMn",
        "colab_type": "text"
      },
      "source": [
        "### Question (model tuning): increase the number of epochs for the training (10 instead of 3)"
      ]
    }
  ]
}